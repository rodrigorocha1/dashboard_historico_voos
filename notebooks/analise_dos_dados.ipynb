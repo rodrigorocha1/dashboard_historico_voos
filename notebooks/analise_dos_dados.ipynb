{
 "cells": [
  {
   "cell_type": "code",
   "execution_count": 4,
   "metadata": {
    "collapsed": true
   },
   "outputs": [],
   "source": [
    "import pandas as pd\n",
    "import os\n",
    "import zipfile"
   ]
  },
  {
   "cell_type": "code",
   "execution_count": 5,
   "outputs": [
    {
     "data": {
      "text/plain": "'F:\\\\projetos\\\\historico_voos'"
     },
     "execution_count": 5,
     "metadata": {},
     "output_type": "execute_result"
    }
   ],
   "source": [
    "os.getcwd()\n",
    "os.chdir('F:\\projetos\\historico_voos')\n",
    "os.getcwd()"
   ],
   "metadata": {
    "collapsed": false
   }
  },
  {
   "cell_type": "code",
   "execution_count": 6,
   "outputs": [],
   "source": [
    "caminho = os.getcwd() + '\\\\data\\\\processed\\\\df_dados_voo_completo.zip'"
   ],
   "metadata": {
    "collapsed": false
   }
  },
  {
   "cell_type": "code",
   "execution_count": 7,
   "outputs": [
    {
     "name": "stderr",
     "output_type": "stream",
     "text": [
      "F:\\projetos\\historico_voos\\venv\\lib\\site-packages\\IPython\\core\\interactiveshell.py:3258: DtypeWarning: Columns (3) have mixed types.Specify dtype option on import or set low_memory=False.\n",
      "  interactivity=interactivity, compiler=compiler, result=result)\n"
     ]
    }
   ],
   "source": [
    "with zipfile.ZipFile(caminho) as z:\n",
    "    with z.open('df_dados_voo_completo.csv') as df:\n",
    "        dados_vooo_completo = pd.read_csv(df, sep=';', encoding='ISO-8859-1')"
   ],
   "metadata": {
    "collapsed": false
   }
  },
  {
   "cell_type": "code",
   "execution_count": 8,
   "outputs": [
    {
     "data": {
      "text/plain": "   Unnamed: 0 ?SG_ICAO_EMPRESA_AEREA NR_VOO CODIGO_DI CODIGO_TIPO_LINHA  \\\n0           0                    AAL    262         0                 I   \n1           1                    AAL    263         0                 I   \n2           2                    AAL    789         2                 X   \n3           3                    AAL    790         2                 X   \n4           4                    AAL    904         0                 I   \n\n  SIGLA_ICAO_AEROPORTO_ORIGEM SIGLA_ICAO_AEROPORTO_DESTINO  \\\n0                        SBGL                         KMIA   \n1                        KMIA                         SBGL   \n2                        KMIA                         SBGR   \n3                        SBGR                         KMIA   \n4                        SBGL                         KMIA   \n\n      PARTIDA_PREVISTA         PARTIDA_REAL     CHEGADA_PREVISTA  ...  \\\n0  2022-03-01 22:30:00  2022-03-01 22:35:00  2022-03-02 07:10:00  ...   \n1  2022-03-01 00:45:00  2022-03-01 01:58:00  2022-03-01 09:05:00  ...   \n2                  NaN  2022-03-01 02:54:00                  NaN  ...   \n3                  NaN  2022-03-01 11:17:00                  NaN  ...   \n4  2022-03-01 00:05:00  2022-03-01 00:00:00  2022-03-01 08:40:00  ...   \n\n  CONTINENTE_AEROPORTO_DESTINO SIGLA_OACI_AEROPORTO_ORIGEM  \\\n0             AMERICA DO NORTE                        SBGL   \n1               AMERICA DO SUL                        KMIA   \n2               AMERICA DO SUL                        KMIA   \n3             AMERICA DO NORTE                        SBGR   \n4             AMERICA DO NORTE                        SBGL   \n\n                          DESCRICAO_AEROPORTO_ORIGEM CIDADE_AEROPORTO_ORIGEM  \\\n0  AEROPORTO INTERNACIONAL DO RIO DE JANEIRO/GALE...          RIO DE JANEIRO   \n1                        MIAMI INTERNATIONAL AIRPORT                   MIAMI   \n2                        MIAMI INTERNATIONAL AIRPORT                   MIAMI   \n3       GUARULHOS - GOVERNADOR ANDRÃ FRANCO MONTORO               GUARULHOS   \n4  AEROPORTO INTERNACIONAL DO RIO DE JANEIRO/GALE...          RIO DE JANEIRO   \n\n  UF_AEROPORTO_ORIGEM     PAIS_AEROPORTO_DORIGEM CONTINENTE_AEROPORTO_ORIGEM  \\\n0                  RJ                     BRASIL              AMERICA DO SUL   \n1                 NaN  ESTADOS UNIDOS DA AMERICA            AMERICA DO NORTE   \n2                 NaN  ESTADOS UNIDOS DA AMERICA            AMERICA DO NORTE   \n3                  SP                     BRASIL              AMERICA DO SUL   \n4                  RJ                     BRASIL              AMERICA DO SUL   \n\n  SIGLA_OACI_EMPRESAS            NM_EMPRESAS NACIONAL_OU_ESTRANGEIRA  \n0                 AAL  AMERICAN AIRLINES INC             ESTRANGEIRA  \n1                 AAL  AMERICAN AIRLINES INC             ESTRANGEIRA  \n2                 AAL  AMERICAN AIRLINES INC             ESTRANGEIRA  \n3                 AAL  AMERICAN AIRLINES INC             ESTRANGEIRA  \n4                 AAL  AMERICAN AIRLINES INC             ESTRANGEIRA  \n\n[5 rows x 27 columns]",
      "text/html": "<div>\n<style scoped>\n    .dataframe tbody tr th:only-of-type {\n        vertical-align: middle;\n    }\n\n    .dataframe tbody tr th {\n        vertical-align: top;\n    }\n\n    .dataframe thead th {\n        text-align: right;\n    }\n</style>\n<table border=\"1\" class=\"dataframe\">\n  <thead>\n    <tr style=\"text-align: right;\">\n      <th></th>\n      <th>Unnamed: 0</th>\n      <th>?SG_ICAO_EMPRESA_AEREA</th>\n      <th>NR_VOO</th>\n      <th>CODIGO_DI</th>\n      <th>CODIGO_TIPO_LINHA</th>\n      <th>SIGLA_ICAO_AEROPORTO_ORIGEM</th>\n      <th>SIGLA_ICAO_AEROPORTO_DESTINO</th>\n      <th>PARTIDA_PREVISTA</th>\n      <th>PARTIDA_REAL</th>\n      <th>CHEGADA_PREVISTA</th>\n      <th>...</th>\n      <th>CONTINENTE_AEROPORTO_DESTINO</th>\n      <th>SIGLA_OACI_AEROPORTO_ORIGEM</th>\n      <th>DESCRICAO_AEROPORTO_ORIGEM</th>\n      <th>CIDADE_AEROPORTO_ORIGEM</th>\n      <th>UF_AEROPORTO_ORIGEM</th>\n      <th>PAIS_AEROPORTO_DORIGEM</th>\n      <th>CONTINENTE_AEROPORTO_ORIGEM</th>\n      <th>SIGLA_OACI_EMPRESAS</th>\n      <th>NM_EMPRESAS</th>\n      <th>NACIONAL_OU_ESTRANGEIRA</th>\n    </tr>\n  </thead>\n  <tbody>\n    <tr>\n      <th>0</th>\n      <td>0</td>\n      <td>AAL</td>\n      <td>262</td>\n      <td>0</td>\n      <td>I</td>\n      <td>SBGL</td>\n      <td>KMIA</td>\n      <td>2022-03-01 22:30:00</td>\n      <td>2022-03-01 22:35:00</td>\n      <td>2022-03-02 07:10:00</td>\n      <td>...</td>\n      <td>AMERICA DO NORTE</td>\n      <td>SBGL</td>\n      <td>AEROPORTO INTERNACIONAL DO RIO DE JANEIRO/GALE...</td>\n      <td>RIO DE JANEIRO</td>\n      <td>RJ</td>\n      <td>BRASIL</td>\n      <td>AMERICA DO SUL</td>\n      <td>AAL</td>\n      <td>AMERICAN AIRLINES INC</td>\n      <td>ESTRANGEIRA</td>\n    </tr>\n    <tr>\n      <th>1</th>\n      <td>1</td>\n      <td>AAL</td>\n      <td>263</td>\n      <td>0</td>\n      <td>I</td>\n      <td>KMIA</td>\n      <td>SBGL</td>\n      <td>2022-03-01 00:45:00</td>\n      <td>2022-03-01 01:58:00</td>\n      <td>2022-03-01 09:05:00</td>\n      <td>...</td>\n      <td>AMERICA DO SUL</td>\n      <td>KMIA</td>\n      <td>MIAMI INTERNATIONAL AIRPORT</td>\n      <td>MIAMI</td>\n      <td>NaN</td>\n      <td>ESTADOS UNIDOS DA AMERICA</td>\n      <td>AMERICA DO NORTE</td>\n      <td>AAL</td>\n      <td>AMERICAN AIRLINES INC</td>\n      <td>ESTRANGEIRA</td>\n    </tr>\n    <tr>\n      <th>2</th>\n      <td>2</td>\n      <td>AAL</td>\n      <td>789</td>\n      <td>2</td>\n      <td>X</td>\n      <td>KMIA</td>\n      <td>SBGR</td>\n      <td>NaN</td>\n      <td>2022-03-01 02:54:00</td>\n      <td>NaN</td>\n      <td>...</td>\n      <td>AMERICA DO SUL</td>\n      <td>KMIA</td>\n      <td>MIAMI INTERNATIONAL AIRPORT</td>\n      <td>MIAMI</td>\n      <td>NaN</td>\n      <td>ESTADOS UNIDOS DA AMERICA</td>\n      <td>AMERICA DO NORTE</td>\n      <td>AAL</td>\n      <td>AMERICAN AIRLINES INC</td>\n      <td>ESTRANGEIRA</td>\n    </tr>\n    <tr>\n      <th>3</th>\n      <td>3</td>\n      <td>AAL</td>\n      <td>790</td>\n      <td>2</td>\n      <td>X</td>\n      <td>SBGR</td>\n      <td>KMIA</td>\n      <td>NaN</td>\n      <td>2022-03-01 11:17:00</td>\n      <td>NaN</td>\n      <td>...</td>\n      <td>AMERICA DO NORTE</td>\n      <td>SBGR</td>\n      <td>GUARULHOS - GOVERNADOR ANDRÃ FRANCO MONTORO</td>\n      <td>GUARULHOS</td>\n      <td>SP</td>\n      <td>BRASIL</td>\n      <td>AMERICA DO SUL</td>\n      <td>AAL</td>\n      <td>AMERICAN AIRLINES INC</td>\n      <td>ESTRANGEIRA</td>\n    </tr>\n    <tr>\n      <th>4</th>\n      <td>4</td>\n      <td>AAL</td>\n      <td>904</td>\n      <td>0</td>\n      <td>I</td>\n      <td>SBGL</td>\n      <td>KMIA</td>\n      <td>2022-03-01 00:05:00</td>\n      <td>2022-03-01 00:00:00</td>\n      <td>2022-03-01 08:40:00</td>\n      <td>...</td>\n      <td>AMERICA DO NORTE</td>\n      <td>SBGL</td>\n      <td>AEROPORTO INTERNACIONAL DO RIO DE JANEIRO/GALE...</td>\n      <td>RIO DE JANEIRO</td>\n      <td>RJ</td>\n      <td>BRASIL</td>\n      <td>AMERICA DO SUL</td>\n      <td>AAL</td>\n      <td>AMERICAN AIRLINES INC</td>\n      <td>ESTRANGEIRA</td>\n    </tr>\n  </tbody>\n</table>\n<p>5 rows × 27 columns</p>\n</div>"
     },
     "execution_count": 8,
     "metadata": {},
     "output_type": "execute_result"
    }
   ],
   "source": [
    "dados_vooo_completo.head()"
   ],
   "metadata": {
    "collapsed": false
   }
  },
  {
   "cell_type": "code",
   "execution_count": 9,
   "outputs": [
    {
     "name": "stdout",
     "output_type": "stream",
     "text": [
      "<class 'pandas.core.frame.DataFrame'>\n",
      "RangeIndex: 789907 entries, 0 to 789906\n",
      "Data columns (total 27 columns):\n",
      " #   Column                        Non-Null Count   Dtype \n",
      "---  ------                        --------------   ----- \n",
      " 0   Unnamed: 0                    789907 non-null  int64 \n",
      " 1   ?SG_ICAO_EMPRESA_AEREA        789907 non-null  object\n",
      " 2   NR_VOO                        789907 non-null  object\n",
      " 3   CODIGO_DI                     789907 non-null  object\n",
      " 4   CODIGO_TIPO_LINHA             789904 non-null  object\n",
      " 5   SIGLA_ICAO_AEROPORTO_ORIGEM   789907 non-null  object\n",
      " 6   SIGLA_ICAO_AEROPORTO_DESTINO  789907 non-null  object\n",
      " 7   PARTIDA_PREVISTA              771720 non-null  object\n",
      " 8   PARTIDA_REAL                  753684 non-null  object\n",
      " 9   CHEGADA_PREVISTA              771720 non-null  object\n",
      " 10  CHEGADA_REAL                  753665 non-null  object\n",
      " 11  SITUACAO_VOO                  789907 non-null  object\n",
      " 12  SIGLA_OACI_AEROPORTO_DESTINO  780971 non-null  object\n",
      " 13  DESCRICAO_AEROPORTO_DESTINO   780971 non-null  object\n",
      " 14  CIDADE_AEROPORTO_DESTINO      779435 non-null  object\n",
      " 15  UF_AEROPORTO_DESTINO          727648 non-null  object\n",
      " 16  PAIS_AEROPORTO_DESTINO        780971 non-null  object\n",
      " 17  CONTINENTE_AEROPORTO_DESTINO  780971 non-null  object\n",
      " 18  SIGLA_OACI_AEROPORTO_ORIGEM   781046 non-null  object\n",
      " 19  DESCRICAO_AEROPORTO_ORIGEM    781046 non-null  object\n",
      " 20  CIDADE_AEROPORTO_ORIGEM       779650 non-null  object\n",
      " 21  UF_AEROPORTO_ORIGEM           728009 non-null  object\n",
      " 22  PAIS_AEROPORTO_DORIGEM        781046 non-null  object\n",
      " 23  CONTINENTE_AEROPORTO_ORIGEM   781046 non-null  object\n",
      " 24  SIGLA_OACI_EMPRESAS           754369 non-null  object\n",
      " 25  NM_EMPRESAS                   754369 non-null  object\n",
      " 26  NACIONAL_OU_ESTRANGEIRA       752999 non-null  object\n",
      "dtypes: int64(1), object(26)\n",
      "memory usage: 162.7+ MB\n"
     ]
    }
   ],
   "source": [
    "dados_vooo_completo.info()"
   ],
   "metadata": {
    "collapsed": false
   }
  },
  {
   "cell_type": "code",
   "execution_count": 10,
   "outputs": [],
   "source": [
    "dados_vooo_completo['?SG_ICAO_EMPRESA_AEREA'] = dados_vooo_completo['?SG_ICAO_EMPRESA_AEREA'].astype('string')\n",
    "dados_vooo_completo['NR_VOO'] = dados_vooo_completo['NR_VOO'].astype('string')\n",
    "dados_vooo_completo['CODIGO_DI'] = dados_vooo_completo['CODIGO_DI'].astype('string')\n",
    "dados_vooo_completo['CODIGO_TIPO_LINHA'] = dados_vooo_completo['CODIGO_TIPO_LINHA'].astype('string')\n",
    "dados_vooo_completo['SIGLA_ICAO_AEROPORTO_ORIGEM'] = dados_vooo_completo['SIGLA_ICAO_AEROPORTO_ORIGEM'].astype('string')\n",
    "dados_vooo_completo['SIGLA_ICAO_AEROPORTO_DESTINO'] = dados_vooo_completo['SIGLA_ICAO_AEROPORTO_DESTINO'].astype(\n",
    "    'string')\n",
    "dados_vooo_completo['PARTIDA_PREVISTA'] = pd.to_datetime(dados_vooo_completo['PARTIDA_PREVISTA'],\n",
    "                                                         format='%Y-%m-%d %H:%M', errors='coerce')\n",
    "dados_vooo_completo['PARTIDA_REAL'] = pd.to_datetime(dados_vooo_completo['PARTIDA_REAL'], format='%Y-%m-%d %H:%M',\n",
    "                                                     errors='coerce')\n",
    "dados_vooo_completo['CHEGADA_PREVISTA'] = pd.to_datetime(dados_vooo_completo['CHEGADA_PREVISTA'],\n",
    "                                                         format='%Y-%m-%d %H:%M', errors='coerce')\n",
    "dados_vooo_completo['CHEGADA_REAL'] = pd.to_datetime(dados_vooo_completo['CHEGADA_REAL'], format='%Y-%m-%d %H:%M',\n",
    "                                                     errors='coerce')\n",
    "dados_vooo_completo['SITUACAO_VOO'] = dados_vooo_completo['SITUACAO_VOO'].astype('string')\n",
    "dados_vooo_completo['DESCRICAO_AEROPORTO_DESTINO'] = dados_vooo_completo['DESCRICAO_AEROPORTO_DESTINO'].astype('string')\n",
    "dados_vooo_completo['CIDADE_AEROPORTO_DESTINO'] = dados_vooo_completo['CIDADE_AEROPORTO_DESTINO'].astype('string')\n",
    "dados_vooo_completo['UF_AEROPORTO_DESTINO'] = dados_vooo_completo['UF_AEROPORTO_DESTINO'].astype('string')\n",
    "dados_vooo_completo['UF_AEROPORTO_ORIGEM'] = dados_vooo_completo['UF_AEROPORTO_ORIGEM'].astype('string')\n",
    "dados_vooo_completo['PAIS_AEROPORTO_DESTINO'] = dados_vooo_completo['PAIS_AEROPORTO_DESTINO'].astype('string')\n",
    "dados_vooo_completo['CONTINENTE_AEROPORTO_DESTINO'] = dados_vooo_completo['CONTINENTE_AEROPORTO_DESTINO'].astype(\n",
    "    'string')\n",
    "dados_vooo_completo['DESCRICAO_AEROPORTO_ORIGEM'] = dados_vooo_completo['DESCRICAO_AEROPORTO_ORIGEM'].astype('string')\n",
    "dados_vooo_completo['CIDADE_AEROPORTO_ORIGEM'] = dados_vooo_completo['CIDADE_AEROPORTO_ORIGEM'].astype('string')\n",
    "dados_vooo_completo['CIDADE_AEROPORTO_DESTINO'] = dados_vooo_completo['CIDADE_AEROPORTO_DESTINO'].astype('string')\n",
    "dados_vooo_completo['PAIS_AEROPORTO_DORIGEM'] = dados_vooo_completo['PAIS_AEROPORTO_DORIGEM'].astype('string')\n",
    "dados_vooo_completo['PAIS_AEROPORTO_DORIGEM'] = dados_vooo_completo['PAIS_AEROPORTO_DORIGEM'].astype('string')\n",
    "dados_vooo_completo['CONTINENTE_AEROPORTO_ORIGEM'] = dados_vooo_completo['CONTINENTE_AEROPORTO_ORIGEM'].astype('string')\n",
    "dados_vooo_completo['NM_EMPRESAS'] = dados_vooo_completo['NM_EMPRESAS'].astype('string')\n",
    "dados_vooo_completo['NACIONAL_OU_ESTRANGEIRA'] = dados_vooo_completo['NACIONAL_OU_ESTRANGEIRA'].astype('string')\n",
    "dados_vooo_completo['SIGLA_OACI_AEROPORTO_DESTINO'] = dados_vooo_completo['SIGLA_OACI_AEROPORTO_DESTINO'].astype(\n",
    "    'string')\n",
    "dados_vooo_completo['SIGLA_OACI_AEROPORTO_ORIGEM'] = dados_vooo_completo['SIGLA_OACI_AEROPORTO_ORIGEM'].astype('string')\n",
    "dados_vooo_completo['SIGLA_OACI_EMPRESAS'] = dados_vooo_completo['SIGLA_OACI_EMPRESAS'].astype('string')"
   ],
   "metadata": {
    "collapsed": false
   }
  },
  {
   "cell_type": "code",
   "execution_count": 11,
   "outputs": [
    {
     "name": "stdout",
     "output_type": "stream",
     "text": [
      "<class 'pandas.core.frame.DataFrame'>\n",
      "RangeIndex: 789907 entries, 0 to 789906\n",
      "Data columns (total 27 columns):\n",
      " #   Column                        Non-Null Count   Dtype         \n",
      "---  ------                        --------------   -----         \n",
      " 0   Unnamed: 0                    789907 non-null  int64         \n",
      " 1   ?SG_ICAO_EMPRESA_AEREA        789907 non-null  string        \n",
      " 2   NR_VOO                        789907 non-null  string        \n",
      " 3   CODIGO_DI                     789907 non-null  string        \n",
      " 4   CODIGO_TIPO_LINHA             789904 non-null  string        \n",
      " 5   SIGLA_ICAO_AEROPORTO_ORIGEM   789907 non-null  string        \n",
      " 6   SIGLA_ICAO_AEROPORTO_DESTINO  789907 non-null  string        \n",
      " 7   PARTIDA_PREVISTA              771720 non-null  datetime64[ns]\n",
      " 8   PARTIDA_REAL                  753684 non-null  datetime64[ns]\n",
      " 9   CHEGADA_PREVISTA              771720 non-null  datetime64[ns]\n",
      " 10  CHEGADA_REAL                  753665 non-null  datetime64[ns]\n",
      " 11  SITUACAO_VOO                  789907 non-null  string        \n",
      " 12  SIGLA_OACI_AEROPORTO_DESTINO  780971 non-null  string        \n",
      " 13  DESCRICAO_AEROPORTO_DESTINO   780971 non-null  string        \n",
      " 14  CIDADE_AEROPORTO_DESTINO      779435 non-null  string        \n",
      " 15  UF_AEROPORTO_DESTINO          727648 non-null  string        \n",
      " 16  PAIS_AEROPORTO_DESTINO        780971 non-null  string        \n",
      " 17  CONTINENTE_AEROPORTO_DESTINO  780971 non-null  string        \n",
      " 18  SIGLA_OACI_AEROPORTO_ORIGEM   781046 non-null  string        \n",
      " 19  DESCRICAO_AEROPORTO_ORIGEM    781046 non-null  string        \n",
      " 20  CIDADE_AEROPORTO_ORIGEM       779650 non-null  string        \n",
      " 21  UF_AEROPORTO_ORIGEM           728009 non-null  string        \n",
      " 22  PAIS_AEROPORTO_DORIGEM        781046 non-null  string        \n",
      " 23  CONTINENTE_AEROPORTO_ORIGEM   781046 non-null  string        \n",
      " 24  SIGLA_OACI_EMPRESAS           754369 non-null  string        \n",
      " 25  NM_EMPRESAS                   754369 non-null  string        \n",
      " 26  NACIONAL_OU_ESTRANGEIRA       752999 non-null  string        \n",
      "dtypes: datetime64[ns](4), int64(1), string(22)\n",
      "memory usage: 162.7 MB\n"
     ]
    }
   ],
   "source": [
    "dados_vooo_completo.info()"
   ],
   "metadata": {
    "collapsed": false
   }
  },
  {
   "cell_type": "markdown",
   "source": [
    "# Criar colunas de tempo -> Trimestre, mês, turno (Manhã, tarde, noite, madrugada)"
   ],
   "metadata": {
    "collapsed": false
   }
  },
  {
   "cell_type": "code",
   "execution_count": 12,
   "outputs": [],
   "source": [
    "colunas_tempo = ['PARTIDA_REAL', 'PARTIDA_PREVISTA', 'CHEGADA_PREVISTA', 'CHEGADA_REAL']\n",
    "traducao_dias = {'Monday': 'Segunda-feira',\n",
    "                 'Tuesday': 'Terça-feira',\n",
    "                 'Wednesday': 'Quarta-feira',\n",
    "                 'Thursday': 'Quinta-feira',\n",
    "                 'Friday': 'Sexta-feira',\n",
    "                 'Saturday': 'Sábado',\n",
    "                 'Sunday': 'Domingo'}\n",
    "mes = {\n",
    "    1.0: 'Janeiro',\n",
    "    2.0: 'Fevereiro',\n",
    "    3.0: 'Março',\n",
    "    4.0: 'Abril',\n",
    "    5.0: 'Maio',\n",
    "    6.0: 'Junho',\n",
    "    7.0: 'Julho',\n",
    "    8.0: 'Agosto',\n",
    "    9.0: 'Setembro',\n",
    "    10.0: 'Outubro',\n",
    "    11.0: 'Novembro',\n",
    "    12.0: 'Dezembro'\n",
    "}\n",
    "\n",
    "trimeste = {\n",
    "    1.0: 'Primeiro trimestre',\n",
    "    2.0: 'Primeiro trimestre',\n",
    "    3.0: 'Primeiro trimestre',\n",
    "    4.0: 'Segundo trimestre',\n",
    "    5.0: 'Segundo trimestre',\n",
    "    6.0: 'Segundo trimestre',\n",
    "    7.0: 'Terceiro trimestre',\n",
    "    8.0: 'Terceiro trimestre',\n",
    "    9.0: 'Terceiro trimestre',\n",
    "    10.0: 'Quarto trimestre',\n",
    "    11.0: 'Quarto trimestre',\n",
    "    12.0: 'Quarto trimestre'\n",
    "}\n",
    "\n",
    "\n",
    "def turno(horario):\n",
    "    if 0.0 < horario < 6.0:\n",
    "        return 'Madrugada'\n",
    "    elif 6.0 <= horario < 12.0:\n",
    "        return 'Manhã'\n",
    "    elif 12.0 <= horario < 6.0:\n",
    "        return 'Tarde'\n",
    "    else:\n",
    "        return 'Noite'\n",
    "\n",
    "\n",
    "def atraso_chegada(atraso: float):\n",
    "    if atraso <= 0.0:\n",
    "        return 'Chegou antes do previsto'\n",
    "    elif 0.0 < atraso <= 60.0:\n",
    "        return 'Chegada dentro da faixa Aceitavel'\n",
    "    elif 60.0 < atraso <= 120.0:\n",
    "        return 'Chegada com atraso de mais de 1h'\n",
    "    elif 120.0 < atraso <= 240.0:\n",
    "        return 'Chegada com atraso de mais de 2h'\n",
    "    elif atraso > 240.0:\n",
    "        return 'Chegada com atraso de mais de 4h'\n",
    "    else:\n",
    "        return 'Não encontrado'\n",
    "\n",
    "\n",
    "def atraso_saida(atraso: float):\n",
    "    if atraso <= 0.0:\n",
    "        return 'Saída antes do previsto'\n",
    "    elif 0.0 < atraso <= 60.0:\n",
    "        return 'Saída dentro da faixa Aceitavel'\n",
    "    elif 60.0 < atraso <= 120.0:\n",
    "        return 'Saída com atraso de mais de 1h'\n",
    "    elif 120.0 < atraso <= 240.0:\n",
    "        return 'Saída com atraso de mais de 2h'\n",
    "    elif atraso > 240.0:\n",
    "        return 'Saída com atraso de mais de 4h'\n",
    "    else:\n",
    "        return 'Não encontrado'\n"
   ],
   "metadata": {
    "collapsed": false
   }
  },
  {
   "cell_type": "code",
   "execution_count": 13,
   "outputs": [],
   "source": [
    "for coluna_tempo in colunas_tempo:\n",
    "    dados_vooo_completo['DATA_' + coluna_tempo] = pd.to_datetime(dados_vooo_completo[coluna_tempo].dt.date)\n",
    "    dados_vooo_completo['HORA_' + coluna_tempo] = dados_vooo_completo[coluna_tempo].dt.time\n",
    "    dados_vooo_completo['DIA_SEMANA_' + coluna_tempo] = dados_vooo_completo[coluna_tempo].dt.day_name().apply(\n",
    "        lambda x: traducao_dias.get(x, 'Não Encontrado')).astype('string')\n",
    "    dados_vooo_completo['MES_INDICE' + coluna_tempo] = dados_vooo_completo[coluna_tempo].dt.month\n",
    "    dados_vooo_completo['MES_' + coluna_tempo] = dados_vooo_completo[coluna_tempo].dt.month.apply(\n",
    "        lambda x: mes.get(x, 'Não Encontrado')).astype('string')\n",
    "    dados_vooo_completo['TRIMESTRE_' + coluna_tempo] = dados_vooo_completo[coluna_tempo].dt.month.apply(\n",
    "        lambda x: trimeste.get(x, 'Não Encontrado')).astype('string')\n",
    "    dados_vooo_completo['TURNO_' + coluna_tempo] = dados_vooo_completo[coluna_tempo].dt.hour.apply(turno).astype(\n",
    "        'string')\n",
    "\n"
   ],
   "metadata": {
    "collapsed": false
   }
  },
  {
   "cell_type": "code",
   "execution_count": 14,
   "outputs": [],
   "source": [
    "dados_vooo_completo['ATRASO_SAIDA'] = (dados_vooo_completo['PARTIDA_REAL'] - dados_vooo_completo[\n",
    "    'PARTIDA_PREVISTA']) / pd.Timedelta(minutes=1)\n",
    "dados_vooo_completo['ATRASO_CHEGADA'] = (dados_vooo_completo['CHEGADA_REAL'] - dados_vooo_completo[\n",
    "    'CHEGADA_PREVISTA']) / pd.Timedelta(minutes=1)\n",
    "dados_vooo_completo['FAIXA_ATRASO_SAIDA'] = dados_vooo_completo['ATRASO_SAIDA'].apply(atraso_saida).astype('string')\n",
    "dados_vooo_completo['FAIXA_ATRASO_CHEGADA'] = dados_vooo_completo['ATRASO_CHEGADA'].apply(atraso_chegada).astype(\n",
    "    'string')"
   ],
   "metadata": {
    "collapsed": false
   }
  },
  {
   "cell_type": "code",
   "execution_count": 15,
   "outputs": [
    {
     "data": {
      "text/plain": "54410"
     },
     "execution_count": 15,
     "metadata": {},
     "output_type": "execute_result"
    }
   ],
   "source": [
    "dados_vooo_completo['ATRASO_SAIDA'].isna().sum()"
   ],
   "metadata": {
    "collapsed": false
   }
  },
  {
   "cell_type": "code",
   "execution_count": 16,
   "outputs": [
    {
     "name": "stdout",
     "output_type": "stream",
     "text": [
      "<class 'pandas.core.frame.DataFrame'>\n",
      "RangeIndex: 789907 entries, 0 to 789906\n",
      "Data columns (total 59 columns):\n",
      " #   Column                        Non-Null Count   Dtype         \n",
      "---  ------                        --------------   -----         \n",
      " 0   Unnamed: 0                    789907 non-null  int64         \n",
      " 1   ?SG_ICAO_EMPRESA_AEREA        789907 non-null  string        \n",
      " 2   NR_VOO                        789907 non-null  string        \n",
      " 3   CODIGO_DI                     789907 non-null  string        \n",
      " 4   CODIGO_TIPO_LINHA             789904 non-null  string        \n",
      " 5   SIGLA_ICAO_AEROPORTO_ORIGEM   789907 non-null  string        \n",
      " 6   SIGLA_ICAO_AEROPORTO_DESTINO  789907 non-null  string        \n",
      " 7   PARTIDA_PREVISTA              771720 non-null  datetime64[ns]\n",
      " 8   PARTIDA_REAL                  753684 non-null  datetime64[ns]\n",
      " 9   CHEGADA_PREVISTA              771720 non-null  datetime64[ns]\n",
      " 10  CHEGADA_REAL                  753665 non-null  datetime64[ns]\n",
      " 11  SITUACAO_VOO                  789907 non-null  string        \n",
      " 12  SIGLA_OACI_AEROPORTO_DESTINO  780971 non-null  string        \n",
      " 13  DESCRICAO_AEROPORTO_DESTINO   780971 non-null  string        \n",
      " 14  CIDADE_AEROPORTO_DESTINO      779435 non-null  string        \n",
      " 15  UF_AEROPORTO_DESTINO          727648 non-null  string        \n",
      " 16  PAIS_AEROPORTO_DESTINO        780971 non-null  string        \n",
      " 17  CONTINENTE_AEROPORTO_DESTINO  780971 non-null  string        \n",
      " 18  SIGLA_OACI_AEROPORTO_ORIGEM   781046 non-null  string        \n",
      " 19  DESCRICAO_AEROPORTO_ORIGEM    781046 non-null  string        \n",
      " 20  CIDADE_AEROPORTO_ORIGEM       779650 non-null  string        \n",
      " 21  UF_AEROPORTO_ORIGEM           728009 non-null  string        \n",
      " 22  PAIS_AEROPORTO_DORIGEM        781046 non-null  string        \n",
      " 23  CONTINENTE_AEROPORTO_ORIGEM   781046 non-null  string        \n",
      " 24  SIGLA_OACI_EMPRESAS           754369 non-null  string        \n",
      " 25  NM_EMPRESAS                   754369 non-null  string        \n",
      " 26  NACIONAL_OU_ESTRANGEIRA       752999 non-null  string        \n",
      " 27  DATA_PARTIDA_REAL             753684 non-null  datetime64[ns]\n",
      " 28  HORA_PARTIDA_REAL             753684 non-null  object        \n",
      " 29  DIA_SEMANA_PARTIDA_REAL       789907 non-null  string        \n",
      " 30  MES_INDICEPARTIDA_REAL        753684 non-null  float64       \n",
      " 31  MES_PARTIDA_REAL              789907 non-null  string        \n",
      " 32  TRIMESTRE_PARTIDA_REAL        789907 non-null  string        \n",
      " 33  TURNO_PARTIDA_REAL            789907 non-null  string        \n",
      " 34  DATA_PARTIDA_PREVISTA         771720 non-null  datetime64[ns]\n",
      " 35  HORA_PARTIDA_PREVISTA         771720 non-null  object        \n",
      " 36  DIA_SEMANA_PARTIDA_PREVISTA   789907 non-null  string        \n",
      " 37  MES_INDICEPARTIDA_PREVISTA    771720 non-null  float64       \n",
      " 38  MES_PARTIDA_PREVISTA          789907 non-null  string        \n",
      " 39  TRIMESTRE_PARTIDA_PREVISTA    789907 non-null  string        \n",
      " 40  TURNO_PARTIDA_PREVISTA        789907 non-null  string        \n",
      " 41  DATA_CHEGADA_PREVISTA         771720 non-null  datetime64[ns]\n",
      " 42  HORA_CHEGADA_PREVISTA         771720 non-null  object        \n",
      " 43  DIA_SEMANA_CHEGADA_PREVISTA   789907 non-null  string        \n",
      " 44  MES_INDICECHEGADA_PREVISTA    771720 non-null  float64       \n",
      " 45  MES_CHEGADA_PREVISTA          789907 non-null  string        \n",
      " 46  TRIMESTRE_CHEGADA_PREVISTA    789907 non-null  string        \n",
      " 47  TURNO_CHEGADA_PREVISTA        789907 non-null  string        \n",
      " 48  DATA_CHEGADA_REAL             753665 non-null  datetime64[ns]\n",
      " 49  HORA_CHEGADA_REAL             753665 non-null  object        \n",
      " 50  DIA_SEMANA_CHEGADA_REAL       789907 non-null  string        \n",
      " 51  MES_INDICECHEGADA_REAL        753665 non-null  float64       \n",
      " 52  MES_CHEGADA_REAL              789907 non-null  string        \n",
      " 53  TRIMESTRE_CHEGADA_REAL        789907 non-null  string        \n",
      " 54  TURNO_CHEGADA_REAL            789907 non-null  string        \n",
      " 55  ATRASO_SAIDA                  735497 non-null  float64       \n",
      " 56  ATRASO_CHEGADA                735478 non-null  float64       \n",
      " 57  FAIXA_ATRASO_SAIDA            789907 non-null  string        \n",
      " 58  FAIXA_ATRASO_CHEGADA          789907 non-null  string        \n",
      "dtypes: datetime64[ns](8), float64(6), int64(1), object(4), string(40)\n",
      "memory usage: 355.6+ MB\n"
     ]
    }
   ],
   "source": [
    "dados_vooo_completo.info()"
   ],
   "metadata": {
    "collapsed": false
   }
  },
  {
   "cell_type": "code",
   "execution_count": 17,
   "outputs": [
    {
     "data": {
      "text/plain": "   Unnamed: 0 ?SG_ICAO_EMPRESA_AEREA NR_VOO CODIGO_DI CODIGO_TIPO_LINHA  \\\n0           0                    AAL    262         0                 I   \n1           1                    AAL    263         0                 I   \n2           2                    AAL    789         2                 X   \n3           3                    AAL    790         2                 X   \n4           4                    AAL    904         0                 I   \n\n  SIGLA_ICAO_AEROPORTO_ORIGEM SIGLA_ICAO_AEROPORTO_DESTINO  \\\n0                        SBGL                         KMIA   \n1                        KMIA                         SBGL   \n2                        KMIA                         SBGR   \n3                        SBGR                         KMIA   \n4                        SBGL                         KMIA   \n\n     PARTIDA_PREVISTA        PARTIDA_REAL    CHEGADA_PREVISTA  ...  \\\n0 2022-03-01 22:30:00 2022-03-01 22:35:00 2022-03-02 07:10:00  ...   \n1 2022-03-01 00:45:00 2022-03-01 01:58:00 2022-03-01 09:05:00  ...   \n2                 NaT 2022-03-01 02:54:00                 NaT  ...   \n3                 NaT 2022-03-01 11:17:00                 NaT  ...   \n4 2022-03-01 00:05:00 2022-03-01 00:00:00 2022-03-01 08:40:00  ...   \n\n  HORA_CHEGADA_REAL DIA_SEMANA_CHEGADA_REAL MES_INDICECHEGADA_REAL  \\\n0          07:11:00            Quarta-feira                    3.0   \n1          11:07:00             Terça-feira                    3.0   \n2          11:02:00             Terça-feira                    3.0   \n3          19:13:00             Terça-feira                    3.0   \n4          08:03:00             Terça-feira                    3.0   \n\n  MES_CHEGADA_REAL TRIMESTRE_CHEGADA_REAL TURNO_CHEGADA_REAL ATRASO_SAIDA  \\\n0            Março     Primeiro trimestre              Manhã          5.0   \n1            Março     Primeiro trimestre              Manhã         73.0   \n2            Março     Primeiro trimestre              Manhã          NaN   \n3            Março     Primeiro trimestre              Noite          NaN   \n4            Março     Primeiro trimestre              Manhã         -5.0   \n\n  ATRASO_CHEGADA               FAIXA_ATRASO_SAIDA  \\\n0            1.0  Saída dentro da faixa Aceitavel   \n1          122.0   Saída com atraso de mais de 1h   \n2            NaN                   Não encontrado   \n3            NaN                   Não encontrado   \n4          -37.0          Saída antes do previsto   \n\n                FAIXA_ATRASO_CHEGADA  \n0  Chegada dentro da faixa Aceitavel  \n1   Chegada com atraso de mais de 2h  \n2                     Não encontrado  \n3                     Não encontrado  \n4           Chegou antes do previsto  \n\n[5 rows x 59 columns]",
      "text/html": "<div>\n<style scoped>\n    .dataframe tbody tr th:only-of-type {\n        vertical-align: middle;\n    }\n\n    .dataframe tbody tr th {\n        vertical-align: top;\n    }\n\n    .dataframe thead th {\n        text-align: right;\n    }\n</style>\n<table border=\"1\" class=\"dataframe\">\n  <thead>\n    <tr style=\"text-align: right;\">\n      <th></th>\n      <th>Unnamed: 0</th>\n      <th>?SG_ICAO_EMPRESA_AEREA</th>\n      <th>NR_VOO</th>\n      <th>CODIGO_DI</th>\n      <th>CODIGO_TIPO_LINHA</th>\n      <th>SIGLA_ICAO_AEROPORTO_ORIGEM</th>\n      <th>SIGLA_ICAO_AEROPORTO_DESTINO</th>\n      <th>PARTIDA_PREVISTA</th>\n      <th>PARTIDA_REAL</th>\n      <th>CHEGADA_PREVISTA</th>\n      <th>...</th>\n      <th>HORA_CHEGADA_REAL</th>\n      <th>DIA_SEMANA_CHEGADA_REAL</th>\n      <th>MES_INDICECHEGADA_REAL</th>\n      <th>MES_CHEGADA_REAL</th>\n      <th>TRIMESTRE_CHEGADA_REAL</th>\n      <th>TURNO_CHEGADA_REAL</th>\n      <th>ATRASO_SAIDA</th>\n      <th>ATRASO_CHEGADA</th>\n      <th>FAIXA_ATRASO_SAIDA</th>\n      <th>FAIXA_ATRASO_CHEGADA</th>\n    </tr>\n  </thead>\n  <tbody>\n    <tr>\n      <th>0</th>\n      <td>0</td>\n      <td>AAL</td>\n      <td>262</td>\n      <td>0</td>\n      <td>I</td>\n      <td>SBGL</td>\n      <td>KMIA</td>\n      <td>2022-03-01 22:30:00</td>\n      <td>2022-03-01 22:35:00</td>\n      <td>2022-03-02 07:10:00</td>\n      <td>...</td>\n      <td>07:11:00</td>\n      <td>Quarta-feira</td>\n      <td>3.0</td>\n      <td>Março</td>\n      <td>Primeiro trimestre</td>\n      <td>Manhã</td>\n      <td>5.0</td>\n      <td>1.0</td>\n      <td>Saída dentro da faixa Aceitavel</td>\n      <td>Chegada dentro da faixa Aceitavel</td>\n    </tr>\n    <tr>\n      <th>1</th>\n      <td>1</td>\n      <td>AAL</td>\n      <td>263</td>\n      <td>0</td>\n      <td>I</td>\n      <td>KMIA</td>\n      <td>SBGL</td>\n      <td>2022-03-01 00:45:00</td>\n      <td>2022-03-01 01:58:00</td>\n      <td>2022-03-01 09:05:00</td>\n      <td>...</td>\n      <td>11:07:00</td>\n      <td>Terça-feira</td>\n      <td>3.0</td>\n      <td>Março</td>\n      <td>Primeiro trimestre</td>\n      <td>Manhã</td>\n      <td>73.0</td>\n      <td>122.0</td>\n      <td>Saída com atraso de mais de 1h</td>\n      <td>Chegada com atraso de mais de 2h</td>\n    </tr>\n    <tr>\n      <th>2</th>\n      <td>2</td>\n      <td>AAL</td>\n      <td>789</td>\n      <td>2</td>\n      <td>X</td>\n      <td>KMIA</td>\n      <td>SBGR</td>\n      <td>NaT</td>\n      <td>2022-03-01 02:54:00</td>\n      <td>NaT</td>\n      <td>...</td>\n      <td>11:02:00</td>\n      <td>Terça-feira</td>\n      <td>3.0</td>\n      <td>Março</td>\n      <td>Primeiro trimestre</td>\n      <td>Manhã</td>\n      <td>NaN</td>\n      <td>NaN</td>\n      <td>Não encontrado</td>\n      <td>Não encontrado</td>\n    </tr>\n    <tr>\n      <th>3</th>\n      <td>3</td>\n      <td>AAL</td>\n      <td>790</td>\n      <td>2</td>\n      <td>X</td>\n      <td>SBGR</td>\n      <td>KMIA</td>\n      <td>NaT</td>\n      <td>2022-03-01 11:17:00</td>\n      <td>NaT</td>\n      <td>...</td>\n      <td>19:13:00</td>\n      <td>Terça-feira</td>\n      <td>3.0</td>\n      <td>Março</td>\n      <td>Primeiro trimestre</td>\n      <td>Noite</td>\n      <td>NaN</td>\n      <td>NaN</td>\n      <td>Não encontrado</td>\n      <td>Não encontrado</td>\n    </tr>\n    <tr>\n      <th>4</th>\n      <td>4</td>\n      <td>AAL</td>\n      <td>904</td>\n      <td>0</td>\n      <td>I</td>\n      <td>SBGL</td>\n      <td>KMIA</td>\n      <td>2022-03-01 00:05:00</td>\n      <td>2022-03-01 00:00:00</td>\n      <td>2022-03-01 08:40:00</td>\n      <td>...</td>\n      <td>08:03:00</td>\n      <td>Terça-feira</td>\n      <td>3.0</td>\n      <td>Março</td>\n      <td>Primeiro trimestre</td>\n      <td>Manhã</td>\n      <td>-5.0</td>\n      <td>-37.0</td>\n      <td>Saída antes do previsto</td>\n      <td>Chegou antes do previsto</td>\n    </tr>\n  </tbody>\n</table>\n<p>5 rows × 59 columns</p>\n</div>"
     },
     "execution_count": 17,
     "metadata": {},
     "output_type": "execute_result"
    }
   ],
   "source": [
    "dados_vooo_completo.head()"
   ],
   "metadata": {
    "collapsed": false
   }
  },
  {
   "cell_type": "markdown",
   "source": [
    "# quantos vôos cancelados, atrasado, Realizados, Dentro do prazo-> Filtrar por nome de compania, aeroporto, mês ano"
   ],
   "metadata": {
    "collapsed": false
   }
  },
  {
   "cell_type": "markdown",
   "source": [
    "<h6>Total Vôos Empresas</h6>"
   ],
   "metadata": {
    "collapsed": false
   }
  },
  {
   "cell_type": "code",
   "execution_count": 57,
   "outputs": [],
   "source": [
    "def total_situacao_voo(filtro_mes: str = None, filtro_compania: str = None) -> pd.DataFrame:\n",
    "    \"\"\"\n",
    "    Retorna um dataframe com as situações do voo\n",
    "    :param filtro_compania:\n",
    "    :param filtro_mes:\n",
    "    :param nome_coluna:\n",
    "    :return:\n",
    "    \"\"\"\n",
    "    dados_vooo_completo_cp =dados_vooo_completo.copy()\n",
    "    if filtro_mes is not None:\n",
    "        df_situacao_voo = dados_vooo_completo_cp[dados_vooo_completo['MES_PARTIDA_PREVISTA'].isin(filtro_mes)]\n",
    "    if filtro_compania is not None:\n",
    "        df_situacao_voo = dados_vooo_completo_cp[dados_vooo_completo['NM_EMPRESAS'].isin(filtro_compania)]\n",
    "\n",
    "    total_voos = df_situacao_voo.groupby(['SITUACAO_VOO']).size().reset_index(name='TOTAL_VOOS')\n",
    "    return total_voos"
   ],
   "metadata": {
    "collapsed": false
   }
  },
  {
   "cell_type": "code",
   "execution_count": 58,
   "outputs": [
    {
     "data": {
      "text/plain": "     SITUACAO_VOO  TOTAL_VOOS\n0       CANCELADO        3653\n1  NÃO INFORMADO         112\n2       REALIZADO       81241",
      "text/html": "<div>\n<style scoped>\n    .dataframe tbody tr th:only-of-type {\n        vertical-align: middle;\n    }\n\n    .dataframe tbody tr th {\n        vertical-align: top;\n    }\n\n    .dataframe thead th {\n        text-align: right;\n    }\n</style>\n<table border=\"1\" class=\"dataframe\">\n  <thead>\n    <tr style=\"text-align: right;\">\n      <th></th>\n      <th>SITUACAO_VOO</th>\n      <th>TOTAL_VOOS</th>\n    </tr>\n  </thead>\n  <tbody>\n    <tr>\n      <th>0</th>\n      <td>CANCELADO</td>\n      <td>3653</td>\n    </tr>\n    <tr>\n      <th>1</th>\n      <td>NÃO INFORMADO</td>\n      <td>112</td>\n    </tr>\n    <tr>\n      <th>2</th>\n      <td>REALIZADO</td>\n      <td>81241</td>\n    </tr>\n  </tbody>\n</table>\n</div>"
     },
     "execution_count": 58,
     "metadata": {},
     "output_type": "execute_result"
    }
   ],
   "source": [
    "total_situacao_voo(['Maio'])"
   ],
   "metadata": {
    "collapsed": false
   }
  },
  {
   "cell_type": "code",
   "execution_count": 28,
   "outputs": [
    {
     "data": {
      "text/plain": "     MES_PARTIDA_PREVISTA            NM_EMPRESAS    SITUACAO_VOO  TOTAL_VOOS\n0                   Abril                 ABAETE  NÃO INFORMADO          82\n1                   Abril                 ABAETE       REALIZADO           6\n2                   Abril                   ABSA       CANCELADO          62\n3                   Abril                   ABSA       REALIZADO         214\n4                   Abril  AEROLINEAS ARGENTINAS       CANCELADO          34\n...                   ...                    ...             ...         ...\n1092             Setembro  TURKISH AIRLINES INC.       REALIZADO         141\n1093             Setembro        UNITED AIRLINES       CANCELADO           2\n1094             Setembro        UNITED AIRLINES       REALIZADO         269\n1095             Setembro  UNITED PARCEL SERVICE       CANCELADO           6\n1096             Setembro  UNITED PARCEL SERVICE       REALIZADO         117\n\n[1097 rows x 4 columns]",
      "text/html": "<div>\n<style scoped>\n    .dataframe tbody tr th:only-of-type {\n        vertical-align: middle;\n    }\n\n    .dataframe tbody tr th {\n        vertical-align: top;\n    }\n\n    .dataframe thead th {\n        text-align: right;\n    }\n</style>\n<table border=\"1\" class=\"dataframe\">\n  <thead>\n    <tr style=\"text-align: right;\">\n      <th></th>\n      <th>MES_PARTIDA_PREVISTA</th>\n      <th>NM_EMPRESAS</th>\n      <th>SITUACAO_VOO</th>\n      <th>TOTAL_VOOS</th>\n    </tr>\n  </thead>\n  <tbody>\n    <tr>\n      <th>0</th>\n      <td>Abril</td>\n      <td>ABAETE</td>\n      <td>NÃO INFORMADO</td>\n      <td>82</td>\n    </tr>\n    <tr>\n      <th>1</th>\n      <td>Abril</td>\n      <td>ABAETE</td>\n      <td>REALIZADO</td>\n      <td>6</td>\n    </tr>\n    <tr>\n      <th>2</th>\n      <td>Abril</td>\n      <td>ABSA</td>\n      <td>CANCELADO</td>\n      <td>62</td>\n    </tr>\n    <tr>\n      <th>3</th>\n      <td>Abril</td>\n      <td>ABSA</td>\n      <td>REALIZADO</td>\n      <td>214</td>\n    </tr>\n    <tr>\n      <th>4</th>\n      <td>Abril</td>\n      <td>AEROLINEAS ARGENTINAS</td>\n      <td>CANCELADO</td>\n      <td>34</td>\n    </tr>\n    <tr>\n      <th>...</th>\n      <td>...</td>\n      <td>...</td>\n      <td>...</td>\n      <td>...</td>\n    </tr>\n    <tr>\n      <th>1092</th>\n      <td>Setembro</td>\n      <td>TURKISH AIRLINES INC.</td>\n      <td>REALIZADO</td>\n      <td>141</td>\n    </tr>\n    <tr>\n      <th>1093</th>\n      <td>Setembro</td>\n      <td>UNITED AIRLINES</td>\n      <td>CANCELADO</td>\n      <td>2</td>\n    </tr>\n    <tr>\n      <th>1094</th>\n      <td>Setembro</td>\n      <td>UNITED AIRLINES</td>\n      <td>REALIZADO</td>\n      <td>269</td>\n    </tr>\n    <tr>\n      <th>1095</th>\n      <td>Setembro</td>\n      <td>UNITED PARCEL SERVICE</td>\n      <td>CANCELADO</td>\n      <td>6</td>\n    </tr>\n    <tr>\n      <th>1096</th>\n      <td>Setembro</td>\n      <td>UNITED PARCEL SERVICE</td>\n      <td>REALIZADO</td>\n      <td>117</td>\n    </tr>\n  </tbody>\n</table>\n<p>1097 rows × 4 columns</p>\n</div>"
     },
     "execution_count": 28,
     "metadata": {},
     "output_type": "execute_result"
    }
   ],
   "source": [
    "dados_vooo_completo.groupby(['MES_PARTIDA_PREVISTA', 'NM_EMPRESAS', 'SITUACAO_VOO']).size().reset_index(\n",
    "    name='TOTAL_VOOS').query('')"
   ],
   "metadata": {
    "collapsed": false
   }
  },
  {
   "cell_type": "code",
   "execution_count": 31,
   "outputs": [
    {
     "data": {
      "text/plain": "771720"
     },
     "execution_count": 31,
     "metadata": {},
     "output_type": "execute_result"
    }
   ],
   "source": [
    "dados_vooo_completo['DATA_CHEGADA_PREVISTA'].count()"
   ],
   "metadata": {
    "collapsed": false
   }
  },
  {
   "cell_type": "code",
   "execution_count": 22,
   "outputs": [
    {
     "data": {
      "text/plain": "NM_EMPRESAS\nABAETE                 116\nABSA                   848\nAZUL                 10064\nGOL                   2179\nMAP LINHAS AEREAS      939\nPASSAREDO             2685\nTAM                   3294\nTOTAL                  324\nName: SITUACAO_VOO, dtype: int64"
     },
     "execution_count": 22,
     "metadata": {},
     "output_type": "execute_result"
    }
   ],
   "source": [
    "df_filtrado = dados_vooo_completo[(dados_vooo_completo['SITUACAO_VOO'] == 'CANCELADO') & (\n",
    "            dados_vooo_completo['NACIONAL_OU_ESTRANGEIRA'] == 'BRASILEIRA')]\n",
    "df_filtrado.groupby(['NM_EMPRESAS'])['SITUACAO_VOO'].count()"
   ],
   "metadata": {
    "collapsed": false
   }
  },
  {
   "cell_type": "markdown",
   "source": [
    "# Total de vôos de uma compania por mês Filtrando por situação do vôo\n"
   ],
   "metadata": {
    "collapsed": false
   }
  },
  {
   "cell_type": "code",
   "execution_count": 30,
   "outputs": [
    {
     "data": {
      "text/plain": "MES_PARTIDA_PREVISTA  NM_EMPRESAS                              \nAbril                 ABSA                                         62\n                      AEROLINEAS ARGENTINAS                        34\n                      AEROTRANSPORTES MAS DE CARGA S.A. DE C.V.     2\n                      AIR ATLANTA ICELANDIC                         2\n                      AIR CANADA                                   20\n                                                                   ..\nSetembro              TAP AIR PORTUGAL                              6\n                      TOTAL                                        19\n                      TURKISH AIRLINES INC.                         2\n                      UNITED AIRLINES                               2\n                      UNITED PARCEL SERVICE                         6\nName: SITUACAO_VOO, Length: 472, dtype: int64"
     },
     "execution_count": 30,
     "metadata": {},
     "output_type": "execute_result"
    }
   ],
   "source": [
    "df_total_voos_compania = dados_vooo_completo[(dados_vooo_completo['SITUACAO_VOO'] == 'CANCELADO')]\n",
    "#df_total_voos_compania = dados_vooo_completo[(dados_vooo_completo['SITUACAO_VOO'] == 'CANCELADO') & (dados_vooo_completo['NM_EMPRESAS'] == 'GOL')]\n",
    "df_total_voos_compania.groupby(['MES_PARTIDA_PREVISTA', 'NM_EMPRESAS'])['SITUACAO_VOO'].count()"
   ],
   "metadata": {
    "collapsed": false
   }
  }
 ],
 "metadata": {
  "kernelspec": {
   "display_name": "Python 3",
   "language": "python",
   "name": "python3"
  },
  "language_info": {
   "codemirror_mode": {
    "name": "ipython",
    "version": 2
   },
   "file_extension": ".py",
   "mimetype": "text/x-python",
   "name": "python",
   "nbconvert_exporter": "python",
   "pygments_lexer": "ipython2",
   "version": "2.7.6"
  }
 },
 "nbformat": 4,
 "nbformat_minor": 0
}
