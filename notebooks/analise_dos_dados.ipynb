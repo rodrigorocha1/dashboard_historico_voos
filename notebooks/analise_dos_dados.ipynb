{
 "cells": [
  {
   "cell_type": "code",
   "execution_count": 1,
   "metadata": {
    "collapsed": true
   },
   "outputs": [],
   "source": [
    "import pandas as pd\n",
    "import os\n",
    "import zipfile\n",
    "from typing import List"
   ]
  },
  {
   "cell_type": "code",
   "execution_count": 2,
   "outputs": [
    {
     "data": {
      "text/plain": "'F:\\\\projetos\\\\historico_voos'"
     },
     "execution_count": 2,
     "metadata": {},
     "output_type": "execute_result"
    }
   ],
   "source": [
    "os.getcwd()\n",
    "os.chdir('F:\\projetos\\historico_voos')\n",
    "os.getcwd()"
   ],
   "metadata": {
    "collapsed": false
   }
  },
  {
   "cell_type": "code",
   "execution_count": 3,
   "outputs": [],
   "source": [
    "caminho = os.getcwd() + '\\\\data\\\\processed\\\\df_dados_voo_completo.zip'"
   ],
   "metadata": {
    "collapsed": false
   }
  },
  {
   "cell_type": "code",
   "execution_count": 4,
   "outputs": [
    {
     "name": "stderr",
     "output_type": "stream",
     "text": [
      "F:\\projetos\\historico_voos\\venv\\lib\\site-packages\\IPython\\core\\interactiveshell.py:3258: DtypeWarning: Columns (3) have mixed types.Specify dtype option on import or set low_memory=False.\n",
      "  interactivity=interactivity, compiler=compiler, result=result)\n"
     ]
    }
   ],
   "source": [
    "with zipfile.ZipFile(caminho) as z:\n",
    "    with z.open('df_dados_voo_completo.csv') as df:\n",
    "        dados_vooo_completo = pd.read_csv(df, sep=';', encoding='ISO-8859-1')"
   ],
   "metadata": {
    "collapsed": false
   }
  },
  {
   "cell_type": "code",
   "execution_count": 5,
   "outputs": [
    {
     "data": {
      "text/plain": "   Unnamed: 0 ?SG_ICAO_EMPRESA_AEREA NR_VOO CODIGO_DI CODIGO_TIPO_LINHA  \\\n0           0                    AAL    262         0                 I   \n1           1                    AAL    263         0                 I   \n2           2                    AAL    789         2                 X   \n3           3                    AAL    790         2                 X   \n4           4                    AAL    904         0                 I   \n\n  SIGLA_ICAO_AEROPORTO_ORIGEM SIGLA_ICAO_AEROPORTO_DESTINO  \\\n0                        SBGL                         KMIA   \n1                        KMIA                         SBGL   \n2                        KMIA                         SBGR   \n3                        SBGR                         KMIA   \n4                        SBGL                         KMIA   \n\n      PARTIDA_PREVISTA         PARTIDA_REAL     CHEGADA_PREVISTA  ...  \\\n0  2022-03-01 22:30:00  2022-03-01 22:35:00  2022-03-02 07:10:00  ...   \n1  2022-03-01 00:45:00  2022-03-01 01:58:00  2022-03-01 09:05:00  ...   \n2                  NaN  2022-03-01 02:54:00                  NaN  ...   \n3                  NaN  2022-03-01 11:17:00                  NaN  ...   \n4  2022-03-01 00:05:00  2022-03-01 00:00:00  2022-03-01 08:40:00  ...   \n\n  CONTINENTE_AEROPORTO_DESTINO SIGLA_OACI_AEROPORTO_ORIGEM  \\\n0             AMERICA DO NORTE                        SBGL   \n1               AMERICA DO SUL                        KMIA   \n2               AMERICA DO SUL                        KMIA   \n3             AMERICA DO NORTE                        SBGR   \n4             AMERICA DO NORTE                        SBGL   \n\n                          DESCRICAO_AEROPORTO_ORIGEM CIDADE_AEROPORTO_ORIGEM  \\\n0  AEROPORTO INTERNACIONAL DO RIO DE JANEIRO/GALE...          RIO DE JANEIRO   \n1                        MIAMI INTERNATIONAL AIRPORT                   MIAMI   \n2                        MIAMI INTERNATIONAL AIRPORT                   MIAMI   \n3       GUARULHOS - GOVERNADOR ANDRÃ FRANCO MONTORO               GUARULHOS   \n4  AEROPORTO INTERNACIONAL DO RIO DE JANEIRO/GALE...          RIO DE JANEIRO   \n\n  UF_AEROPORTO_ORIGEM     PAIS_AEROPORTO_DORIGEM CONTINENTE_AEROPORTO_ORIGEM  \\\n0                  RJ                     BRASIL              AMERICA DO SUL   \n1                 NaN  ESTADOS UNIDOS DA AMERICA            AMERICA DO NORTE   \n2                 NaN  ESTADOS UNIDOS DA AMERICA            AMERICA DO NORTE   \n3                  SP                     BRASIL              AMERICA DO SUL   \n4                  RJ                     BRASIL              AMERICA DO SUL   \n\n  SIGLA_OACI_EMPRESAS            NM_EMPRESAS NACIONAL_OU_ESTRANGEIRA  \n0                 AAL  AMERICAN AIRLINES INC             ESTRANGEIRA  \n1                 AAL  AMERICAN AIRLINES INC             ESTRANGEIRA  \n2                 AAL  AMERICAN AIRLINES INC             ESTRANGEIRA  \n3                 AAL  AMERICAN AIRLINES INC             ESTRANGEIRA  \n4                 AAL  AMERICAN AIRLINES INC             ESTRANGEIRA  \n\n[5 rows x 27 columns]",
      "text/html": "<div>\n<style scoped>\n    .dataframe tbody tr th:only-of-type {\n        vertical-align: middle;\n    }\n\n    .dataframe tbody tr th {\n        vertical-align: top;\n    }\n\n    .dataframe thead th {\n        text-align: right;\n    }\n</style>\n<table border=\"1\" class=\"dataframe\">\n  <thead>\n    <tr style=\"text-align: right;\">\n      <th></th>\n      <th>Unnamed: 0</th>\n      <th>?SG_ICAO_EMPRESA_AEREA</th>\n      <th>NR_VOO</th>\n      <th>CODIGO_DI</th>\n      <th>CODIGO_TIPO_LINHA</th>\n      <th>SIGLA_ICAO_AEROPORTO_ORIGEM</th>\n      <th>SIGLA_ICAO_AEROPORTO_DESTINO</th>\n      <th>PARTIDA_PREVISTA</th>\n      <th>PARTIDA_REAL</th>\n      <th>CHEGADA_PREVISTA</th>\n      <th>...</th>\n      <th>CONTINENTE_AEROPORTO_DESTINO</th>\n      <th>SIGLA_OACI_AEROPORTO_ORIGEM</th>\n      <th>DESCRICAO_AEROPORTO_ORIGEM</th>\n      <th>CIDADE_AEROPORTO_ORIGEM</th>\n      <th>UF_AEROPORTO_ORIGEM</th>\n      <th>PAIS_AEROPORTO_DORIGEM</th>\n      <th>CONTINENTE_AEROPORTO_ORIGEM</th>\n      <th>SIGLA_OACI_EMPRESAS</th>\n      <th>NM_EMPRESAS</th>\n      <th>NACIONAL_OU_ESTRANGEIRA</th>\n    </tr>\n  </thead>\n  <tbody>\n    <tr>\n      <th>0</th>\n      <td>0</td>\n      <td>AAL</td>\n      <td>262</td>\n      <td>0</td>\n      <td>I</td>\n      <td>SBGL</td>\n      <td>KMIA</td>\n      <td>2022-03-01 22:30:00</td>\n      <td>2022-03-01 22:35:00</td>\n      <td>2022-03-02 07:10:00</td>\n      <td>...</td>\n      <td>AMERICA DO NORTE</td>\n      <td>SBGL</td>\n      <td>AEROPORTO INTERNACIONAL DO RIO DE JANEIRO/GALE...</td>\n      <td>RIO DE JANEIRO</td>\n      <td>RJ</td>\n      <td>BRASIL</td>\n      <td>AMERICA DO SUL</td>\n      <td>AAL</td>\n      <td>AMERICAN AIRLINES INC</td>\n      <td>ESTRANGEIRA</td>\n    </tr>\n    <tr>\n      <th>1</th>\n      <td>1</td>\n      <td>AAL</td>\n      <td>263</td>\n      <td>0</td>\n      <td>I</td>\n      <td>KMIA</td>\n      <td>SBGL</td>\n      <td>2022-03-01 00:45:00</td>\n      <td>2022-03-01 01:58:00</td>\n      <td>2022-03-01 09:05:00</td>\n      <td>...</td>\n      <td>AMERICA DO SUL</td>\n      <td>KMIA</td>\n      <td>MIAMI INTERNATIONAL AIRPORT</td>\n      <td>MIAMI</td>\n      <td>NaN</td>\n      <td>ESTADOS UNIDOS DA AMERICA</td>\n      <td>AMERICA DO NORTE</td>\n      <td>AAL</td>\n      <td>AMERICAN AIRLINES INC</td>\n      <td>ESTRANGEIRA</td>\n    </tr>\n    <tr>\n      <th>2</th>\n      <td>2</td>\n      <td>AAL</td>\n      <td>789</td>\n      <td>2</td>\n      <td>X</td>\n      <td>KMIA</td>\n      <td>SBGR</td>\n      <td>NaN</td>\n      <td>2022-03-01 02:54:00</td>\n      <td>NaN</td>\n      <td>...</td>\n      <td>AMERICA DO SUL</td>\n      <td>KMIA</td>\n      <td>MIAMI INTERNATIONAL AIRPORT</td>\n      <td>MIAMI</td>\n      <td>NaN</td>\n      <td>ESTADOS UNIDOS DA AMERICA</td>\n      <td>AMERICA DO NORTE</td>\n      <td>AAL</td>\n      <td>AMERICAN AIRLINES INC</td>\n      <td>ESTRANGEIRA</td>\n    </tr>\n    <tr>\n      <th>3</th>\n      <td>3</td>\n      <td>AAL</td>\n      <td>790</td>\n      <td>2</td>\n      <td>X</td>\n      <td>SBGR</td>\n      <td>KMIA</td>\n      <td>NaN</td>\n      <td>2022-03-01 11:17:00</td>\n      <td>NaN</td>\n      <td>...</td>\n      <td>AMERICA DO NORTE</td>\n      <td>SBGR</td>\n      <td>GUARULHOS - GOVERNADOR ANDRÃ FRANCO MONTORO</td>\n      <td>GUARULHOS</td>\n      <td>SP</td>\n      <td>BRASIL</td>\n      <td>AMERICA DO SUL</td>\n      <td>AAL</td>\n      <td>AMERICAN AIRLINES INC</td>\n      <td>ESTRANGEIRA</td>\n    </tr>\n    <tr>\n      <th>4</th>\n      <td>4</td>\n      <td>AAL</td>\n      <td>904</td>\n      <td>0</td>\n      <td>I</td>\n      <td>SBGL</td>\n      <td>KMIA</td>\n      <td>2022-03-01 00:05:00</td>\n      <td>2022-03-01 00:00:00</td>\n      <td>2022-03-01 08:40:00</td>\n      <td>...</td>\n      <td>AMERICA DO NORTE</td>\n      <td>SBGL</td>\n      <td>AEROPORTO INTERNACIONAL DO RIO DE JANEIRO/GALE...</td>\n      <td>RIO DE JANEIRO</td>\n      <td>RJ</td>\n      <td>BRASIL</td>\n      <td>AMERICA DO SUL</td>\n      <td>AAL</td>\n      <td>AMERICAN AIRLINES INC</td>\n      <td>ESTRANGEIRA</td>\n    </tr>\n  </tbody>\n</table>\n<p>5 rows × 27 columns</p>\n</div>"
     },
     "execution_count": 5,
     "metadata": {},
     "output_type": "execute_result"
    }
   ],
   "source": [
    "dados_vooo_completo.head()"
   ],
   "metadata": {
    "collapsed": false
   }
  },
  {
   "cell_type": "code",
   "execution_count": 6,
   "outputs": [
    {
     "name": "stdout",
     "output_type": "stream",
     "text": [
      "<class 'pandas.core.frame.DataFrame'>\n",
      "RangeIndex: 789907 entries, 0 to 789906\n",
      "Data columns (total 27 columns):\n",
      " #   Column                        Non-Null Count   Dtype \n",
      "---  ------                        --------------   ----- \n",
      " 0   Unnamed: 0                    789907 non-null  int64 \n",
      " 1   ?SG_ICAO_EMPRESA_AEREA        789907 non-null  object\n",
      " 2   NR_VOO                        789907 non-null  object\n",
      " 3   CODIGO_DI                     789907 non-null  object\n",
      " 4   CODIGO_TIPO_LINHA             789904 non-null  object\n",
      " 5   SIGLA_ICAO_AEROPORTO_ORIGEM   789907 non-null  object\n",
      " 6   SIGLA_ICAO_AEROPORTO_DESTINO  789907 non-null  object\n",
      " 7   PARTIDA_PREVISTA              771720 non-null  object\n",
      " 8   PARTIDA_REAL                  753684 non-null  object\n",
      " 9   CHEGADA_PREVISTA              771720 non-null  object\n",
      " 10  CHEGADA_REAL                  753665 non-null  object\n",
      " 11  SITUACAO_VOO                  789907 non-null  object\n",
      " 12  SIGLA_OACI_AEROPORTO_DESTINO  780971 non-null  object\n",
      " 13  DESCRICAO_AEROPORTO_DESTINO   780971 non-null  object\n",
      " 14  CIDADE_AEROPORTO_DESTINO      779435 non-null  object\n",
      " 15  UF_AEROPORTO_DESTINO          727648 non-null  object\n",
      " 16  PAIS_AEROPORTO_DESTINO        780971 non-null  object\n",
      " 17  CONTINENTE_AEROPORTO_DESTINO  780971 non-null  object\n",
      " 18  SIGLA_OACI_AEROPORTO_ORIGEM   781046 non-null  object\n",
      " 19  DESCRICAO_AEROPORTO_ORIGEM    781046 non-null  object\n",
      " 20  CIDADE_AEROPORTO_ORIGEM       779650 non-null  object\n",
      " 21  UF_AEROPORTO_ORIGEM           728009 non-null  object\n",
      " 22  PAIS_AEROPORTO_DORIGEM        781046 non-null  object\n",
      " 23  CONTINENTE_AEROPORTO_ORIGEM   781046 non-null  object\n",
      " 24  SIGLA_OACI_EMPRESAS           754369 non-null  object\n",
      " 25  NM_EMPRESAS                   754369 non-null  object\n",
      " 26  NACIONAL_OU_ESTRANGEIRA       752999 non-null  object\n",
      "dtypes: int64(1), object(26)\n",
      "memory usage: 162.7+ MB\n"
     ]
    }
   ],
   "source": [
    "dados_vooo_completo.info()"
   ],
   "metadata": {
    "collapsed": false
   }
  },
  {
   "cell_type": "code",
   "execution_count": 7,
   "outputs": [],
   "source": [
    "dados_vooo_completo['?SG_ICAO_EMPRESA_AEREA'] = dados_vooo_completo['?SG_ICAO_EMPRESA_AEREA'].astype('string')\n",
    "dados_vooo_completo['NR_VOO'] = dados_vooo_completo['NR_VOO'].astype('string')\n",
    "dados_vooo_completo['CODIGO_DI'] = dados_vooo_completo['CODIGO_DI'].astype('string')\n",
    "dados_vooo_completo['CODIGO_TIPO_LINHA'] = dados_vooo_completo['CODIGO_TIPO_LINHA'].astype('string')\n",
    "dados_vooo_completo['SIGLA_ICAO_AEROPORTO_ORIGEM'] = dados_vooo_completo['SIGLA_ICAO_AEROPORTO_ORIGEM'].astype('string')\n",
    "dados_vooo_completo['SIGLA_ICAO_AEROPORTO_DESTINO'] = dados_vooo_completo['SIGLA_ICAO_AEROPORTO_DESTINO'].astype(\n",
    "    'string')\n",
    "dados_vooo_completo['PARTIDA_PREVISTA'] = pd.to_datetime(dados_vooo_completo['PARTIDA_PREVISTA'],\n",
    "                                                         format='%Y-%m-%d %H:%M', errors='coerce')\n",
    "dados_vooo_completo['PARTIDA_REAL'] = pd.to_datetime(dados_vooo_completo['PARTIDA_REAL'], format='%Y-%m-%d %H:%M',\n",
    "                                                     errors='coerce')\n",
    "dados_vooo_completo['CHEGADA_PREVISTA'] = pd.to_datetime(dados_vooo_completo['CHEGADA_PREVISTA'],\n",
    "                                                         format='%Y-%m-%d %H:%M', errors='coerce')\n",
    "dados_vooo_completo['CHEGADA_REAL'] = pd.to_datetime(dados_vooo_completo['CHEGADA_REAL'], format='%Y-%m-%d %H:%M',\n",
    "                                                     errors='coerce')\n",
    "dados_vooo_completo['SITUACAO_VOO'] = dados_vooo_completo['SITUACAO_VOO'].astype('string')\n",
    "dados_vooo_completo['DESCRICAO_AEROPORTO_DESTINO'] = dados_vooo_completo['DESCRICAO_AEROPORTO_DESTINO'].astype('string')\n",
    "dados_vooo_completo['CIDADE_AEROPORTO_DESTINO'] = dados_vooo_completo['CIDADE_AEROPORTO_DESTINO'].astype('string')\n",
    "dados_vooo_completo['UF_AEROPORTO_DESTINO'] = dados_vooo_completo['UF_AEROPORTO_DESTINO'].astype('string')\n",
    "dados_vooo_completo['UF_AEROPORTO_ORIGEM'] = dados_vooo_completo['UF_AEROPORTO_ORIGEM'].astype('string')\n",
    "dados_vooo_completo['PAIS_AEROPORTO_DESTINO'] = dados_vooo_completo['PAIS_AEROPORTO_DESTINO'].astype('string')\n",
    "dados_vooo_completo['CONTINENTE_AEROPORTO_DESTINO'] = dados_vooo_completo['CONTINENTE_AEROPORTO_DESTINO'].astype(\n",
    "    'string')\n",
    "dados_vooo_completo['DESCRICAO_AEROPORTO_ORIGEM'] = dados_vooo_completo['DESCRICAO_AEROPORTO_ORIGEM'].astype('string')\n",
    "dados_vooo_completo['CIDADE_AEROPORTO_ORIGEM'] = dados_vooo_completo['CIDADE_AEROPORTO_ORIGEM'].astype('string')\n",
    "dados_vooo_completo['CIDADE_AEROPORTO_DESTINO'] = dados_vooo_completo['CIDADE_AEROPORTO_DESTINO'].astype('string')\n",
    "dados_vooo_completo['PAIS_AEROPORTO_DORIGEM'] = dados_vooo_completo['PAIS_AEROPORTO_DORIGEM'].astype('string')\n",
    "dados_vooo_completo['PAIS_AEROPORTO_DORIGEM'] = dados_vooo_completo['PAIS_AEROPORTO_DORIGEM'].astype('string')\n",
    "dados_vooo_completo['CONTINENTE_AEROPORTO_ORIGEM'] = dados_vooo_completo['CONTINENTE_AEROPORTO_ORIGEM'].astype('string')\n",
    "dados_vooo_completo['NM_EMPRESAS'] = dados_vooo_completo['NM_EMPRESAS'].astype('string')\n",
    "dados_vooo_completo['NACIONAL_OU_ESTRANGEIRA'] = dados_vooo_completo['NACIONAL_OU_ESTRANGEIRA'].astype('string')\n",
    "dados_vooo_completo['SIGLA_OACI_AEROPORTO_DESTINO'] = dados_vooo_completo['SIGLA_OACI_AEROPORTO_DESTINO'].astype(\n",
    "    'string')\n",
    "dados_vooo_completo['SIGLA_OACI_AEROPORTO_ORIGEM'] = dados_vooo_completo['SIGLA_OACI_AEROPORTO_ORIGEM'].astype('string')\n",
    "dados_vooo_completo['SIGLA_OACI_EMPRESAS'] = dados_vooo_completo['SIGLA_OACI_EMPRESAS'].astype('string')"
   ],
   "metadata": {
    "collapsed": false
   }
  },
  {
   "cell_type": "code",
   "execution_count": 8,
   "outputs": [
    {
     "name": "stdout",
     "output_type": "stream",
     "text": [
      "<class 'pandas.core.frame.DataFrame'>\n",
      "RangeIndex: 789907 entries, 0 to 789906\n",
      "Data columns (total 27 columns):\n",
      " #   Column                        Non-Null Count   Dtype         \n",
      "---  ------                        --------------   -----         \n",
      " 0   Unnamed: 0                    789907 non-null  int64         \n",
      " 1   ?SG_ICAO_EMPRESA_AEREA        789907 non-null  string        \n",
      " 2   NR_VOO                        789907 non-null  string        \n",
      " 3   CODIGO_DI                     789907 non-null  string        \n",
      " 4   CODIGO_TIPO_LINHA             789904 non-null  string        \n",
      " 5   SIGLA_ICAO_AEROPORTO_ORIGEM   789907 non-null  string        \n",
      " 6   SIGLA_ICAO_AEROPORTO_DESTINO  789907 non-null  string        \n",
      " 7   PARTIDA_PREVISTA              771720 non-null  datetime64[ns]\n",
      " 8   PARTIDA_REAL                  753684 non-null  datetime64[ns]\n",
      " 9   CHEGADA_PREVISTA              771720 non-null  datetime64[ns]\n",
      " 10  CHEGADA_REAL                  753665 non-null  datetime64[ns]\n",
      " 11  SITUACAO_VOO                  789907 non-null  string        \n",
      " 12  SIGLA_OACI_AEROPORTO_DESTINO  780971 non-null  string        \n",
      " 13  DESCRICAO_AEROPORTO_DESTINO   780971 non-null  string        \n",
      " 14  CIDADE_AEROPORTO_DESTINO      779435 non-null  string        \n",
      " 15  UF_AEROPORTO_DESTINO          727648 non-null  string        \n",
      " 16  PAIS_AEROPORTO_DESTINO        780971 non-null  string        \n",
      " 17  CONTINENTE_AEROPORTO_DESTINO  780971 non-null  string        \n",
      " 18  SIGLA_OACI_AEROPORTO_ORIGEM   781046 non-null  string        \n",
      " 19  DESCRICAO_AEROPORTO_ORIGEM    781046 non-null  string        \n",
      " 20  CIDADE_AEROPORTO_ORIGEM       779650 non-null  string        \n",
      " 21  UF_AEROPORTO_ORIGEM           728009 non-null  string        \n",
      " 22  PAIS_AEROPORTO_DORIGEM        781046 non-null  string        \n",
      " 23  CONTINENTE_AEROPORTO_ORIGEM   781046 non-null  string        \n",
      " 24  SIGLA_OACI_EMPRESAS           754369 non-null  string        \n",
      " 25  NM_EMPRESAS                   754369 non-null  string        \n",
      " 26  NACIONAL_OU_ESTRANGEIRA       752999 non-null  string        \n",
      "dtypes: datetime64[ns](4), int64(1), string(22)\n",
      "memory usage: 162.7 MB\n"
     ]
    }
   ],
   "source": [
    "dados_vooo_completo.info()"
   ],
   "metadata": {
    "collapsed": false
   }
  },
  {
   "cell_type": "markdown",
   "source": [
    "# Criar colunas de tempo -> Trimestre, mês, turno (Manhã, tarde, noite, madrugada)"
   ],
   "metadata": {
    "collapsed": false
   }
  },
  {
   "cell_type": "code",
   "execution_count": 9,
   "outputs": [],
   "source": [
    "colunas_tempo = ['PARTIDA_REAL', 'PARTIDA_PREVISTA', 'CHEGADA_PREVISTA', 'CHEGADA_REAL']\n",
    "traducao_dias = {'Monday': 'Segunda-feira',\n",
    "                 'Tuesday': 'Terça-feira',\n",
    "                 'Wednesday': 'Quarta-feira',\n",
    "                 'Thursday': 'Quinta-feira',\n",
    "                 'Friday': 'Sexta-feira',\n",
    "                 'Saturday': 'Sábado',\n",
    "                 'Sunday': 'Domingo'}\n",
    "mes = {\n",
    "    1.0: 'Janeiro',\n",
    "    2.0: 'Fevereiro',\n",
    "    3.0: 'Março',\n",
    "    4.0: 'Abril',\n",
    "    5.0: 'Maio',\n",
    "    6.0: 'Junho',\n",
    "    7.0: 'Julho',\n",
    "    8.0: 'Agosto',\n",
    "    9.0: 'Setembro',\n",
    "    10.0: 'Outubro',\n",
    "    11.0: 'Novembro',\n",
    "    12.0: 'Dezembro'\n",
    "}\n",
    "\n",
    "trimeste = {\n",
    "    1.0: 'Primeiro trimestre',\n",
    "    2.0: 'Primeiro trimestre',\n",
    "    3.0: 'Primeiro trimestre',\n",
    "    4.0: 'Segundo trimestre',\n",
    "    5.0: 'Segundo trimestre',\n",
    "    6.0: 'Segundo trimestre',\n",
    "    7.0: 'Terceiro trimestre',\n",
    "    8.0: 'Terceiro trimestre',\n",
    "    9.0: 'Terceiro trimestre',\n",
    "    10.0: 'Quarto trimestre',\n",
    "    11.0: 'Quarto trimestre',\n",
    "    12.0: 'Quarto trimestre'\n",
    "}\n",
    "\n",
    "\n",
    "def turno(horario):\n",
    "    if 0.0 < horario < 6.0:\n",
    "        return 'Madrugada'\n",
    "    elif 6.0 <= horario < 12.0:\n",
    "        return 'Manhã'\n",
    "    elif 12.0 <= horario < 6.0:\n",
    "        return 'Tarde'\n",
    "    else:\n",
    "        return 'Noite'\n",
    "\n",
    "\n",
    "def atraso_chegada(atraso: float):\n",
    "    if atraso <= 0.0:\n",
    "        return 'Chegou antes do previsto'\n",
    "    elif 0.0 < atraso <= 60.0:\n",
    "        return 'Chegada dentro da faixa Aceitavel'\n",
    "    elif 60.0 < atraso <= 120.0:\n",
    "        return 'Chegada com atraso de mais de 1h'\n",
    "    elif 120.0 < atraso <= 240.0:\n",
    "        return 'Chegada com atraso de mais de 2h'\n",
    "    elif atraso > 240.0:\n",
    "        return 'Chegada com atraso de mais de 4h'\n",
    "    else:\n",
    "        return 'Não encontrado'\n",
    "\n",
    "\n",
    "def atraso_saida(atraso: float):\n",
    "    if atraso <= 0.0:\n",
    "        return 'Saída antes do previsto'\n",
    "    elif 0.0 < atraso <= 60.0:\n",
    "        return 'Saída dentro da faixa Aceitavel'\n",
    "    elif 60.0 < atraso <= 120.0:\n",
    "        return 'Saída com atraso de mais de 1h'\n",
    "    elif 120.0 < atraso <= 240.0:\n",
    "        return 'Saída com atraso de mais de 2h'\n",
    "    elif atraso > 240.0:\n",
    "        return 'Saída com atraso de mais de 4h'\n",
    "    else:\n",
    "        return 'Não encontrado'\n",
    "\n",
    "\n",
    "def status_pontualidade(minuto: str):\n",
    "    if minuto <= 0:\n",
    "        return 'No Horário'\n",
    "    return 'Atrasado'"
   ],
   "metadata": {
    "collapsed": false
   }
  },
  {
   "cell_type": "code",
   "execution_count": 10,
   "outputs": [],
   "source": [
    "for coluna_tempo in colunas_tempo:\n",
    "    dados_vooo_completo['DATA_' + coluna_tempo] = pd.to_datetime(dados_vooo_completo[coluna_tempo].dt.date)\n",
    "    dados_vooo_completo['HORA_' + coluna_tempo] = dados_vooo_completo[coluna_tempo].dt.time\n",
    "    dados_vooo_completo['DIA_SEMANA_' + coluna_tempo] = dados_vooo_completo[coluna_tempo].dt.day_name().apply(\n",
    "        lambda x: traducao_dias.get(x, 'Não Encontrado')).astype('string')\n",
    "    dados_vooo_completo['MES_INDICE' + coluna_tempo] = dados_vooo_completo[coluna_tempo].dt.month\n",
    "    dados_vooo_completo['MES_' + coluna_tempo] = dados_vooo_completo[coluna_tempo].dt.month.apply(\n",
    "        lambda x: mes.get(x, 'Não Encontrado')).astype('string')\n",
    "    dados_vooo_completo['TRIMESTRE_' + coluna_tempo] = dados_vooo_completo[coluna_tempo].dt.month.apply(\n",
    "        lambda x: trimeste.get(x, 'Não Encontrado')).astype('string')\n",
    "    dados_vooo_completo['TURNO_' + coluna_tempo] = dados_vooo_completo[coluna_tempo].dt.hour.apply(turno).astype(\n",
    "        'string')\n",
    "\n"
   ],
   "metadata": {
    "collapsed": false
   }
  },
  {
   "cell_type": "code",
   "execution_count": 11,
   "outputs": [],
   "source": [
    "dados_vooo_completo['ATRASO_SAIDA'] = (dados_vooo_completo['PARTIDA_REAL'] - dados_vooo_completo[\n",
    "    'PARTIDA_PREVISTA']) / pd.Timedelta(minutes=1)\n",
    "dados_vooo_completo['ATRASO_CHEGADA'] = (dados_vooo_completo['CHEGADA_REAL'] - dados_vooo_completo[\n",
    "    'CHEGADA_PREVISTA']) / pd.Timedelta(minutes=1)\n",
    "dados_vooo_completo['FAIXA_ATRASO_SAIDA'] = dados_vooo_completo['ATRASO_SAIDA'].apply(atraso_saida).astype('string')\n",
    "dados_vooo_completo['FAIXA_ATRASO_CHEGADA'] = dados_vooo_completo['ATRASO_CHEGADA'].apply(atraso_chegada).astype(\n",
    "    'string')\n",
    "\n",
    "dados_vooo_completo['PONTUALIDADE_VOO_SAIDA'] = dados_vooo_completo['ATRASO_SAIDA'].apply(status_pontualidade).astype(\n",
    "    'string')\n",
    "dados_vooo_completo['PONTUALIDADE_VOO_CHEGA' \\\n",
    "                    'DA'] = dados_vooo_completo['ATRASO_CHEGADA'].apply(\n",
    "    status_pontualidade).astype('string')"
   ],
   "metadata": {
    "collapsed": false
   }
  },
  {
   "cell_type": "code",
   "execution_count": 12,
   "outputs": [
    {
     "data": {
      "text/plain": "   Unnamed: 0 ?SG_ICAO_EMPRESA_AEREA NR_VOO CODIGO_DI CODIGO_TIPO_LINHA  \\\n0           0                    AAL    262         0                 I   \n1           1                    AAL    263         0                 I   \n2           2                    AAL    789         2                 X   \n3           3                    AAL    790         2                 X   \n4           4                    AAL    904         0                 I   \n\n  SIGLA_ICAO_AEROPORTO_ORIGEM SIGLA_ICAO_AEROPORTO_DESTINO  \\\n0                        SBGL                         KMIA   \n1                        KMIA                         SBGL   \n2                        KMIA                         SBGR   \n3                        SBGR                         KMIA   \n4                        SBGL                         KMIA   \n\n     PARTIDA_PREVISTA        PARTIDA_REAL    CHEGADA_PREVISTA  ...  \\\n0 2022-03-01 22:30:00 2022-03-01 22:35:00 2022-03-02 07:10:00  ...   \n1 2022-03-01 00:45:00 2022-03-01 01:58:00 2022-03-01 09:05:00  ...   \n2                 NaT 2022-03-01 02:54:00                 NaT  ...   \n3                 NaT 2022-03-01 11:17:00                 NaT  ...   \n4 2022-03-01 00:05:00 2022-03-01 00:00:00 2022-03-01 08:40:00  ...   \n\n  MES_INDICECHEGADA_REAL MES_CHEGADA_REAL TRIMESTRE_CHEGADA_REAL  \\\n0                    3.0            Março     Primeiro trimestre   \n1                    3.0            Março     Primeiro trimestre   \n2                    3.0            Março     Primeiro trimestre   \n3                    3.0            Março     Primeiro trimestre   \n4                    3.0            Março     Primeiro trimestre   \n\n  TURNO_CHEGADA_REAL ATRASO_SAIDA ATRASO_CHEGADA  \\\n0              Manhã          5.0            1.0   \n1              Manhã         73.0          122.0   \n2              Manhã          NaN            NaN   \n3              Noite          NaN            NaN   \n4              Manhã         -5.0          -37.0   \n\n                FAIXA_ATRASO_SAIDA               FAIXA_ATRASO_CHEGADA  \\\n0  Saída dentro da faixa Aceitavel  Chegada dentro da faixa Aceitavel   \n1   Saída com atraso de mais de 1h   Chegada com atraso de mais de 2h   \n2                   Não encontrado                     Não encontrado   \n3                   Não encontrado                     Não encontrado   \n4          Saída antes do previsto           Chegou antes do previsto   \n\n  PONTUALIDADE_VOO_SAIDA PONTUALIDADE_VOO_CHEGADA  \n0               Atrasado                 Atrasado  \n1               Atrasado                 Atrasado  \n2               Atrasado                 Atrasado  \n3               Atrasado                 Atrasado  \n4             No Horário               No Horário  \n\n[5 rows x 61 columns]",
      "text/html": "<div>\n<style scoped>\n    .dataframe tbody tr th:only-of-type {\n        vertical-align: middle;\n    }\n\n    .dataframe tbody tr th {\n        vertical-align: top;\n    }\n\n    .dataframe thead th {\n        text-align: right;\n    }\n</style>\n<table border=\"1\" class=\"dataframe\">\n  <thead>\n    <tr style=\"text-align: right;\">\n      <th></th>\n      <th>Unnamed: 0</th>\n      <th>?SG_ICAO_EMPRESA_AEREA</th>\n      <th>NR_VOO</th>\n      <th>CODIGO_DI</th>\n      <th>CODIGO_TIPO_LINHA</th>\n      <th>SIGLA_ICAO_AEROPORTO_ORIGEM</th>\n      <th>SIGLA_ICAO_AEROPORTO_DESTINO</th>\n      <th>PARTIDA_PREVISTA</th>\n      <th>PARTIDA_REAL</th>\n      <th>CHEGADA_PREVISTA</th>\n      <th>...</th>\n      <th>MES_INDICECHEGADA_REAL</th>\n      <th>MES_CHEGADA_REAL</th>\n      <th>TRIMESTRE_CHEGADA_REAL</th>\n      <th>TURNO_CHEGADA_REAL</th>\n      <th>ATRASO_SAIDA</th>\n      <th>ATRASO_CHEGADA</th>\n      <th>FAIXA_ATRASO_SAIDA</th>\n      <th>FAIXA_ATRASO_CHEGADA</th>\n      <th>PONTUALIDADE_VOO_SAIDA</th>\n      <th>PONTUALIDADE_VOO_CHEGADA</th>\n    </tr>\n  </thead>\n  <tbody>\n    <tr>\n      <th>0</th>\n      <td>0</td>\n      <td>AAL</td>\n      <td>262</td>\n      <td>0</td>\n      <td>I</td>\n      <td>SBGL</td>\n      <td>KMIA</td>\n      <td>2022-03-01 22:30:00</td>\n      <td>2022-03-01 22:35:00</td>\n      <td>2022-03-02 07:10:00</td>\n      <td>...</td>\n      <td>3.0</td>\n      <td>Março</td>\n      <td>Primeiro trimestre</td>\n      <td>Manhã</td>\n      <td>5.0</td>\n      <td>1.0</td>\n      <td>Saída dentro da faixa Aceitavel</td>\n      <td>Chegada dentro da faixa Aceitavel</td>\n      <td>Atrasado</td>\n      <td>Atrasado</td>\n    </tr>\n    <tr>\n      <th>1</th>\n      <td>1</td>\n      <td>AAL</td>\n      <td>263</td>\n      <td>0</td>\n      <td>I</td>\n      <td>KMIA</td>\n      <td>SBGL</td>\n      <td>2022-03-01 00:45:00</td>\n      <td>2022-03-01 01:58:00</td>\n      <td>2022-03-01 09:05:00</td>\n      <td>...</td>\n      <td>3.0</td>\n      <td>Março</td>\n      <td>Primeiro trimestre</td>\n      <td>Manhã</td>\n      <td>73.0</td>\n      <td>122.0</td>\n      <td>Saída com atraso de mais de 1h</td>\n      <td>Chegada com atraso de mais de 2h</td>\n      <td>Atrasado</td>\n      <td>Atrasado</td>\n    </tr>\n    <tr>\n      <th>2</th>\n      <td>2</td>\n      <td>AAL</td>\n      <td>789</td>\n      <td>2</td>\n      <td>X</td>\n      <td>KMIA</td>\n      <td>SBGR</td>\n      <td>NaT</td>\n      <td>2022-03-01 02:54:00</td>\n      <td>NaT</td>\n      <td>...</td>\n      <td>3.0</td>\n      <td>Março</td>\n      <td>Primeiro trimestre</td>\n      <td>Manhã</td>\n      <td>NaN</td>\n      <td>NaN</td>\n      <td>Não encontrado</td>\n      <td>Não encontrado</td>\n      <td>Atrasado</td>\n      <td>Atrasado</td>\n    </tr>\n    <tr>\n      <th>3</th>\n      <td>3</td>\n      <td>AAL</td>\n      <td>790</td>\n      <td>2</td>\n      <td>X</td>\n      <td>SBGR</td>\n      <td>KMIA</td>\n      <td>NaT</td>\n      <td>2022-03-01 11:17:00</td>\n      <td>NaT</td>\n      <td>...</td>\n      <td>3.0</td>\n      <td>Março</td>\n      <td>Primeiro trimestre</td>\n      <td>Noite</td>\n      <td>NaN</td>\n      <td>NaN</td>\n      <td>Não encontrado</td>\n      <td>Não encontrado</td>\n      <td>Atrasado</td>\n      <td>Atrasado</td>\n    </tr>\n    <tr>\n      <th>4</th>\n      <td>4</td>\n      <td>AAL</td>\n      <td>904</td>\n      <td>0</td>\n      <td>I</td>\n      <td>SBGL</td>\n      <td>KMIA</td>\n      <td>2022-03-01 00:05:00</td>\n      <td>2022-03-01 00:00:00</td>\n      <td>2022-03-01 08:40:00</td>\n      <td>...</td>\n      <td>3.0</td>\n      <td>Março</td>\n      <td>Primeiro trimestre</td>\n      <td>Manhã</td>\n      <td>-5.0</td>\n      <td>-37.0</td>\n      <td>Saída antes do previsto</td>\n      <td>Chegou antes do previsto</td>\n      <td>No Horário</td>\n      <td>No Horário</td>\n    </tr>\n  </tbody>\n</table>\n<p>5 rows × 61 columns</p>\n</div>"
     },
     "execution_count": 12,
     "metadata": {},
     "output_type": "execute_result"
    }
   ],
   "source": [
    "dados_vooo_completo.head()"
   ],
   "metadata": {
    "collapsed": false
   }
  },
  {
   "cell_type": "code",
   "execution_count": 13,
   "outputs": [
    {
     "name": "stdout",
     "output_type": "stream",
     "text": [
      "<class 'pandas.core.frame.DataFrame'>\n",
      "RangeIndex: 789907 entries, 0 to 789906\n",
      "Data columns (total 61 columns):\n",
      " #   Column                        Non-Null Count   Dtype         \n",
      "---  ------                        --------------   -----         \n",
      " 0   Unnamed: 0                    789907 non-null  int64         \n",
      " 1   ?SG_ICAO_EMPRESA_AEREA        789907 non-null  string        \n",
      " 2   NR_VOO                        789907 non-null  string        \n",
      " 3   CODIGO_DI                     789907 non-null  string        \n",
      " 4   CODIGO_TIPO_LINHA             789904 non-null  string        \n",
      " 5   SIGLA_ICAO_AEROPORTO_ORIGEM   789907 non-null  string        \n",
      " 6   SIGLA_ICAO_AEROPORTO_DESTINO  789907 non-null  string        \n",
      " 7   PARTIDA_PREVISTA              771720 non-null  datetime64[ns]\n",
      " 8   PARTIDA_REAL                  753684 non-null  datetime64[ns]\n",
      " 9   CHEGADA_PREVISTA              771720 non-null  datetime64[ns]\n",
      " 10  CHEGADA_REAL                  753665 non-null  datetime64[ns]\n",
      " 11  SITUACAO_VOO                  789907 non-null  string        \n",
      " 12  SIGLA_OACI_AEROPORTO_DESTINO  780971 non-null  string        \n",
      " 13  DESCRICAO_AEROPORTO_DESTINO   780971 non-null  string        \n",
      " 14  CIDADE_AEROPORTO_DESTINO      779435 non-null  string        \n",
      " 15  UF_AEROPORTO_DESTINO          727648 non-null  string        \n",
      " 16  PAIS_AEROPORTO_DESTINO        780971 non-null  string        \n",
      " 17  CONTINENTE_AEROPORTO_DESTINO  780971 non-null  string        \n",
      " 18  SIGLA_OACI_AEROPORTO_ORIGEM   781046 non-null  string        \n",
      " 19  DESCRICAO_AEROPORTO_ORIGEM    781046 non-null  string        \n",
      " 20  CIDADE_AEROPORTO_ORIGEM       779650 non-null  string        \n",
      " 21  UF_AEROPORTO_ORIGEM           728009 non-null  string        \n",
      " 22  PAIS_AEROPORTO_DORIGEM        781046 non-null  string        \n",
      " 23  CONTINENTE_AEROPORTO_ORIGEM   781046 non-null  string        \n",
      " 24  SIGLA_OACI_EMPRESAS           754369 non-null  string        \n",
      " 25  NM_EMPRESAS                   754369 non-null  string        \n",
      " 26  NACIONAL_OU_ESTRANGEIRA       752999 non-null  string        \n",
      " 27  DATA_PARTIDA_REAL             753684 non-null  datetime64[ns]\n",
      " 28  HORA_PARTIDA_REAL             753684 non-null  object        \n",
      " 29  DIA_SEMANA_PARTIDA_REAL       789907 non-null  string        \n",
      " 30  MES_INDICEPARTIDA_REAL        753684 non-null  float64       \n",
      " 31  MES_PARTIDA_REAL              789907 non-null  string        \n",
      " 32  TRIMESTRE_PARTIDA_REAL        789907 non-null  string        \n",
      " 33  TURNO_PARTIDA_REAL            789907 non-null  string        \n",
      " 34  DATA_PARTIDA_PREVISTA         771720 non-null  datetime64[ns]\n",
      " 35  HORA_PARTIDA_PREVISTA         771720 non-null  object        \n",
      " 36  DIA_SEMANA_PARTIDA_PREVISTA   789907 non-null  string        \n",
      " 37  MES_INDICEPARTIDA_PREVISTA    771720 non-null  float64       \n",
      " 38  MES_PARTIDA_PREVISTA          789907 non-null  string        \n",
      " 39  TRIMESTRE_PARTIDA_PREVISTA    789907 non-null  string        \n",
      " 40  TURNO_PARTIDA_PREVISTA        789907 non-null  string        \n",
      " 41  DATA_CHEGADA_PREVISTA         771720 non-null  datetime64[ns]\n",
      " 42  HORA_CHEGADA_PREVISTA         771720 non-null  object        \n",
      " 43  DIA_SEMANA_CHEGADA_PREVISTA   789907 non-null  string        \n",
      " 44  MES_INDICECHEGADA_PREVISTA    771720 non-null  float64       \n",
      " 45  MES_CHEGADA_PREVISTA          789907 non-null  string        \n",
      " 46  TRIMESTRE_CHEGADA_PREVISTA    789907 non-null  string        \n",
      " 47  TURNO_CHEGADA_PREVISTA        789907 non-null  string        \n",
      " 48  DATA_CHEGADA_REAL             753665 non-null  datetime64[ns]\n",
      " 49  HORA_CHEGADA_REAL             753665 non-null  object        \n",
      " 50  DIA_SEMANA_CHEGADA_REAL       789907 non-null  string        \n",
      " 51  MES_INDICECHEGADA_REAL        753665 non-null  float64       \n",
      " 52  MES_CHEGADA_REAL              789907 non-null  string        \n",
      " 53  TRIMESTRE_CHEGADA_REAL        789907 non-null  string        \n",
      " 54  TURNO_CHEGADA_REAL            789907 non-null  string        \n",
      " 55  ATRASO_SAIDA                  735497 non-null  float64       \n",
      " 56  ATRASO_CHEGADA                735478 non-null  float64       \n",
      " 57  FAIXA_ATRASO_SAIDA            789907 non-null  string        \n",
      " 58  FAIXA_ATRASO_CHEGADA          789907 non-null  string        \n",
      " 59  PONTUALIDADE_VOO_SAIDA        789907 non-null  string        \n",
      " 60  PONTUALIDADE_VOO_CHEGADA      789907 non-null  string        \n",
      "dtypes: datetime64[ns](8), float64(6), int64(1), object(4), string(42)\n",
      "memory usage: 367.6+ MB\n"
     ]
    }
   ],
   "source": [
    "dados_vooo_completo.info()"
   ],
   "metadata": {
    "collapsed": false
   }
  },
  {
   "cell_type": "code",
   "execution_count": 14,
   "outputs": [
    {
     "data": {
      "text/plain": "   Unnamed: 0 ?SG_ICAO_EMPRESA_AEREA NR_VOO CODIGO_DI CODIGO_TIPO_LINHA  \\\n0           0                    AAL    262         0                 I   \n1           1                    AAL    263         0                 I   \n2           2                    AAL    789         2                 X   \n3           3                    AAL    790         2                 X   \n4           4                    AAL    904         0                 I   \n\n  SIGLA_ICAO_AEROPORTO_ORIGEM SIGLA_ICAO_AEROPORTO_DESTINO  \\\n0                        SBGL                         KMIA   \n1                        KMIA                         SBGL   \n2                        KMIA                         SBGR   \n3                        SBGR                         KMIA   \n4                        SBGL                         KMIA   \n\n     PARTIDA_PREVISTA        PARTIDA_REAL    CHEGADA_PREVISTA  ...  \\\n0 2022-03-01 22:30:00 2022-03-01 22:35:00 2022-03-02 07:10:00  ...   \n1 2022-03-01 00:45:00 2022-03-01 01:58:00 2022-03-01 09:05:00  ...   \n2                 NaT 2022-03-01 02:54:00                 NaT  ...   \n3                 NaT 2022-03-01 11:17:00                 NaT  ...   \n4 2022-03-01 00:05:00 2022-03-01 00:00:00 2022-03-01 08:40:00  ...   \n\n  MES_INDICECHEGADA_REAL MES_CHEGADA_REAL TRIMESTRE_CHEGADA_REAL  \\\n0                    3.0            Março     Primeiro trimestre   \n1                    3.0            Março     Primeiro trimestre   \n2                    3.0            Março     Primeiro trimestre   \n3                    3.0            Março     Primeiro trimestre   \n4                    3.0            Março     Primeiro trimestre   \n\n  TURNO_CHEGADA_REAL ATRASO_SAIDA ATRASO_CHEGADA  \\\n0              Manhã          5.0            1.0   \n1              Manhã         73.0          122.0   \n2              Manhã          NaN            NaN   \n3              Noite          NaN            NaN   \n4              Manhã         -5.0          -37.0   \n\n                FAIXA_ATRASO_SAIDA               FAIXA_ATRASO_CHEGADA  \\\n0  Saída dentro da faixa Aceitavel  Chegada dentro da faixa Aceitavel   \n1   Saída com atraso de mais de 1h   Chegada com atraso de mais de 2h   \n2                   Não encontrado                     Não encontrado   \n3                   Não encontrado                     Não encontrado   \n4          Saída antes do previsto           Chegou antes do previsto   \n\n  PONTUALIDADE_VOO_SAIDA PONTUALIDADE_VOO_CHEGADA  \n0               Atrasado                 Atrasado  \n1               Atrasado                 Atrasado  \n2               Atrasado                 Atrasado  \n3               Atrasado                 Atrasado  \n4             No Horário               No Horário  \n\n[5 rows x 61 columns]",
      "text/html": "<div>\n<style scoped>\n    .dataframe tbody tr th:only-of-type {\n        vertical-align: middle;\n    }\n\n    .dataframe tbody tr th {\n        vertical-align: top;\n    }\n\n    .dataframe thead th {\n        text-align: right;\n    }\n</style>\n<table border=\"1\" class=\"dataframe\">\n  <thead>\n    <tr style=\"text-align: right;\">\n      <th></th>\n      <th>Unnamed: 0</th>\n      <th>?SG_ICAO_EMPRESA_AEREA</th>\n      <th>NR_VOO</th>\n      <th>CODIGO_DI</th>\n      <th>CODIGO_TIPO_LINHA</th>\n      <th>SIGLA_ICAO_AEROPORTO_ORIGEM</th>\n      <th>SIGLA_ICAO_AEROPORTO_DESTINO</th>\n      <th>PARTIDA_PREVISTA</th>\n      <th>PARTIDA_REAL</th>\n      <th>CHEGADA_PREVISTA</th>\n      <th>...</th>\n      <th>MES_INDICECHEGADA_REAL</th>\n      <th>MES_CHEGADA_REAL</th>\n      <th>TRIMESTRE_CHEGADA_REAL</th>\n      <th>TURNO_CHEGADA_REAL</th>\n      <th>ATRASO_SAIDA</th>\n      <th>ATRASO_CHEGADA</th>\n      <th>FAIXA_ATRASO_SAIDA</th>\n      <th>FAIXA_ATRASO_CHEGADA</th>\n      <th>PONTUALIDADE_VOO_SAIDA</th>\n      <th>PONTUALIDADE_VOO_CHEGADA</th>\n    </tr>\n  </thead>\n  <tbody>\n    <tr>\n      <th>0</th>\n      <td>0</td>\n      <td>AAL</td>\n      <td>262</td>\n      <td>0</td>\n      <td>I</td>\n      <td>SBGL</td>\n      <td>KMIA</td>\n      <td>2022-03-01 22:30:00</td>\n      <td>2022-03-01 22:35:00</td>\n      <td>2022-03-02 07:10:00</td>\n      <td>...</td>\n      <td>3.0</td>\n      <td>Março</td>\n      <td>Primeiro trimestre</td>\n      <td>Manhã</td>\n      <td>5.0</td>\n      <td>1.0</td>\n      <td>Saída dentro da faixa Aceitavel</td>\n      <td>Chegada dentro da faixa Aceitavel</td>\n      <td>Atrasado</td>\n      <td>Atrasado</td>\n    </tr>\n    <tr>\n      <th>1</th>\n      <td>1</td>\n      <td>AAL</td>\n      <td>263</td>\n      <td>0</td>\n      <td>I</td>\n      <td>KMIA</td>\n      <td>SBGL</td>\n      <td>2022-03-01 00:45:00</td>\n      <td>2022-03-01 01:58:00</td>\n      <td>2022-03-01 09:05:00</td>\n      <td>...</td>\n      <td>3.0</td>\n      <td>Março</td>\n      <td>Primeiro trimestre</td>\n      <td>Manhã</td>\n      <td>73.0</td>\n      <td>122.0</td>\n      <td>Saída com atraso de mais de 1h</td>\n      <td>Chegada com atraso de mais de 2h</td>\n      <td>Atrasado</td>\n      <td>Atrasado</td>\n    </tr>\n    <tr>\n      <th>2</th>\n      <td>2</td>\n      <td>AAL</td>\n      <td>789</td>\n      <td>2</td>\n      <td>X</td>\n      <td>KMIA</td>\n      <td>SBGR</td>\n      <td>NaT</td>\n      <td>2022-03-01 02:54:00</td>\n      <td>NaT</td>\n      <td>...</td>\n      <td>3.0</td>\n      <td>Março</td>\n      <td>Primeiro trimestre</td>\n      <td>Manhã</td>\n      <td>NaN</td>\n      <td>NaN</td>\n      <td>Não encontrado</td>\n      <td>Não encontrado</td>\n      <td>Atrasado</td>\n      <td>Atrasado</td>\n    </tr>\n    <tr>\n      <th>3</th>\n      <td>3</td>\n      <td>AAL</td>\n      <td>790</td>\n      <td>2</td>\n      <td>X</td>\n      <td>SBGR</td>\n      <td>KMIA</td>\n      <td>NaT</td>\n      <td>2022-03-01 11:17:00</td>\n      <td>NaT</td>\n      <td>...</td>\n      <td>3.0</td>\n      <td>Março</td>\n      <td>Primeiro trimestre</td>\n      <td>Noite</td>\n      <td>NaN</td>\n      <td>NaN</td>\n      <td>Não encontrado</td>\n      <td>Não encontrado</td>\n      <td>Atrasado</td>\n      <td>Atrasado</td>\n    </tr>\n    <tr>\n      <th>4</th>\n      <td>4</td>\n      <td>AAL</td>\n      <td>904</td>\n      <td>0</td>\n      <td>I</td>\n      <td>SBGL</td>\n      <td>KMIA</td>\n      <td>2022-03-01 00:05:00</td>\n      <td>2022-03-01 00:00:00</td>\n      <td>2022-03-01 08:40:00</td>\n      <td>...</td>\n      <td>3.0</td>\n      <td>Março</td>\n      <td>Primeiro trimestre</td>\n      <td>Manhã</td>\n      <td>-5.0</td>\n      <td>-37.0</td>\n      <td>Saída antes do previsto</td>\n      <td>Chegou antes do previsto</td>\n      <td>No Horário</td>\n      <td>No Horário</td>\n    </tr>\n  </tbody>\n</table>\n<p>5 rows × 61 columns</p>\n</div>"
     },
     "execution_count": 14,
     "metadata": {},
     "output_type": "execute_result"
    }
   ],
   "source": [
    "dados_vooo_completo.head()"
   ],
   "metadata": {
    "collapsed": false
   }
  },
  {
   "cell_type": "markdown",
   "source": [
    "# quantos vôos cancelados, atrasado, Realizados, Dentro do prazo-> Filtrar por nome de compania, aeroporto, mês ano"
   ],
   "metadata": {
    "collapsed": false
   }
  },
  {
   "cell_type": "markdown",
   "source": [
    "<h6>Total Vôos Empresas Cancelados, Realizados</h6>"
   ],
   "metadata": {
    "collapsed": false
   }
  },
  {
   "cell_type": "code",
   "execution_count": 14,
   "outputs": [],
   "source": [
    "def total_situacao_voo(filtro_mes: List = None, filtro_compania: List = None,\n",
    "                       filtro_aeroporto: List = None) -> pd.DataFrame:\n",
    "    \"\"\"\n",
    "    Retorna um dataframe com as situações do voo\n",
    "    :param filtro_aeroporto: filtro por nome do aeroporto\n",
    "    :param filtro_compania: recebe uma Lista com o nome da compania\n",
    "    :param filtro_mes: recebe uma Lista com o nome do mês\n",
    "    :return:\n",
    "    \"\"\"\n",
    "    df_situacao_voo = dados_vooo_completo.copy()\n",
    "    if filtro_mes is not None:\n",
    "        df_situacao_voo = df_situacao_voo[dados_vooo_completo['MES_PARTIDA_PREVISTA'].isin(filtro_mes)]\n",
    "    if filtro_compania is not None:\n",
    "        df_situacao_voo = df_situacao_voo[dados_vooo_completo['NM_EMPRESAS'].isin(filtro_compania)]\n",
    "    if filtro_aeroporto is not None:\n",
    "        df_situacao_voo = df_situacao_voo[dados_vooo_completo['SIGLA_ICAO_AEROPORTO_ORIGEM'].isin(filtro_aeroporto)]\n",
    "    total_voos = df_situacao_voo.groupby(['SITUACAO_VOO']).size().reset_index(name='TOTAL_VOOS')\n",
    "    return total_voos"
   ],
   "metadata": {
    "collapsed": false
   }
  },
  {
   "cell_type": "code",
   "execution_count": 15,
   "outputs": [
    {
     "data": {
      "text/plain": "     SITUACAO_VOO  TOTAL_VOOS\n0       CANCELADO         814\n1  NÃO INFORMADO          32\n2       REALIZADO       17665",
      "text/html": "<div>\n<style scoped>\n    .dataframe tbody tr th:only-of-type {\n        vertical-align: middle;\n    }\n\n    .dataframe tbody tr th {\n        vertical-align: top;\n    }\n\n    .dataframe thead th {\n        text-align: right;\n    }\n</style>\n<table border=\"1\" class=\"dataframe\">\n  <thead>\n    <tr style=\"text-align: right;\">\n      <th></th>\n      <th>SITUACAO_VOO</th>\n      <th>TOTAL_VOOS</th>\n    </tr>\n  </thead>\n  <tbody>\n    <tr>\n      <th>0</th>\n      <td>CANCELADO</td>\n      <td>814</td>\n    </tr>\n    <tr>\n      <th>1</th>\n      <td>NÃO INFORMADO</td>\n      <td>32</td>\n    </tr>\n    <tr>\n      <th>2</th>\n      <td>REALIZADO</td>\n      <td>17665</td>\n    </tr>\n  </tbody>\n</table>\n</div>"
     },
     "execution_count": 15,
     "metadata": {},
     "output_type": "execute_result"
    }
   ],
   "source": [
    "total_situacao_voo(filtro_aeroporto=['SBGL'])"
   ],
   "metadata": {
    "collapsed": false
   }
  },
  {
   "cell_type": "code",
   "execution_count": 16,
   "outputs": [
    {
     "data": {
      "text/plain": "   Unnamed: 0 ?SG_ICAO_EMPRESA_AEREA NR_VOO CODIGO_DI CODIGO_TIPO_LINHA  \\\n0           0                    AAL    262         0                 I   \n1           1                    AAL    263         0                 I   \n2           2                    AAL    789         2                 X   \n3           3                    AAL    790         2                 X   \n4           4                    AAL    904         0                 I   \n\n  SIGLA_ICAO_AEROPORTO_ORIGEM SIGLA_ICAO_AEROPORTO_DESTINO  \\\n0                        SBGL                         KMIA   \n1                        KMIA                         SBGL   \n2                        KMIA                         SBGR   \n3                        SBGR                         KMIA   \n4                        SBGL                         KMIA   \n\n     PARTIDA_PREVISTA        PARTIDA_REAL    CHEGADA_PREVISTA  ...  \\\n0 2022-03-01 22:30:00 2022-03-01 22:35:00 2022-03-02 07:10:00  ...   \n1 2022-03-01 00:45:00 2022-03-01 01:58:00 2022-03-01 09:05:00  ...   \n2                 NaT 2022-03-01 02:54:00                 NaT  ...   \n3                 NaT 2022-03-01 11:17:00                 NaT  ...   \n4 2022-03-01 00:05:00 2022-03-01 00:00:00 2022-03-01 08:40:00  ...   \n\n  MES_INDICECHEGADA_REAL MES_CHEGADA_REAL TRIMESTRE_CHEGADA_REAL  \\\n0                    3.0            Março     Primeiro trimestre   \n1                    3.0            Março     Primeiro trimestre   \n2                    3.0            Março     Primeiro trimestre   \n3                    3.0            Março     Primeiro trimestre   \n4                    3.0            Março     Primeiro trimestre   \n\n  TURNO_CHEGADA_REAL ATRASO_SAIDA ATRASO_CHEGADA  \\\n0              Manhã          5.0            1.0   \n1              Manhã         73.0          122.0   \n2              Manhã          NaN            NaN   \n3              Noite          NaN            NaN   \n4              Manhã         -5.0          -37.0   \n\n                FAIXA_ATRASO_SAIDA               FAIXA_ATRASO_CHEGADA  \\\n0  Saída dentro da faixa Aceitavel  Chegada dentro da faixa Aceitavel   \n1   Saída com atraso de mais de 1h   Chegada com atraso de mais de 2h   \n2                   Não encontrado                     Não encontrado   \n3                   Não encontrado                     Não encontrado   \n4          Saída antes do previsto           Chegou antes do previsto   \n\n  PONTUALIDADE_VOO_SAIDA PONTUALIDADE_VOO_CHEGADA  \n0               Atrasado                 Atrasado  \n1               Atrasado                 Atrasado  \n2               Atrasado                 Atrasado  \n3               Atrasado                 Atrasado  \n4             No Horário               No Horário  \n\n[5 rows x 61 columns]",
      "text/html": "<div>\n<style scoped>\n    .dataframe tbody tr th:only-of-type {\n        vertical-align: middle;\n    }\n\n    .dataframe tbody tr th {\n        vertical-align: top;\n    }\n\n    .dataframe thead th {\n        text-align: right;\n    }\n</style>\n<table border=\"1\" class=\"dataframe\">\n  <thead>\n    <tr style=\"text-align: right;\">\n      <th></th>\n      <th>Unnamed: 0</th>\n      <th>?SG_ICAO_EMPRESA_AEREA</th>\n      <th>NR_VOO</th>\n      <th>CODIGO_DI</th>\n      <th>CODIGO_TIPO_LINHA</th>\n      <th>SIGLA_ICAO_AEROPORTO_ORIGEM</th>\n      <th>SIGLA_ICAO_AEROPORTO_DESTINO</th>\n      <th>PARTIDA_PREVISTA</th>\n      <th>PARTIDA_REAL</th>\n      <th>CHEGADA_PREVISTA</th>\n      <th>...</th>\n      <th>MES_INDICECHEGADA_REAL</th>\n      <th>MES_CHEGADA_REAL</th>\n      <th>TRIMESTRE_CHEGADA_REAL</th>\n      <th>TURNO_CHEGADA_REAL</th>\n      <th>ATRASO_SAIDA</th>\n      <th>ATRASO_CHEGADA</th>\n      <th>FAIXA_ATRASO_SAIDA</th>\n      <th>FAIXA_ATRASO_CHEGADA</th>\n      <th>PONTUALIDADE_VOO_SAIDA</th>\n      <th>PONTUALIDADE_VOO_CHEGADA</th>\n    </tr>\n  </thead>\n  <tbody>\n    <tr>\n      <th>0</th>\n      <td>0</td>\n      <td>AAL</td>\n      <td>262</td>\n      <td>0</td>\n      <td>I</td>\n      <td>SBGL</td>\n      <td>KMIA</td>\n      <td>2022-03-01 22:30:00</td>\n      <td>2022-03-01 22:35:00</td>\n      <td>2022-03-02 07:10:00</td>\n      <td>...</td>\n      <td>3.0</td>\n      <td>Março</td>\n      <td>Primeiro trimestre</td>\n      <td>Manhã</td>\n      <td>5.0</td>\n      <td>1.0</td>\n      <td>Saída dentro da faixa Aceitavel</td>\n      <td>Chegada dentro da faixa Aceitavel</td>\n      <td>Atrasado</td>\n      <td>Atrasado</td>\n    </tr>\n    <tr>\n      <th>1</th>\n      <td>1</td>\n      <td>AAL</td>\n      <td>263</td>\n      <td>0</td>\n      <td>I</td>\n      <td>KMIA</td>\n      <td>SBGL</td>\n      <td>2022-03-01 00:45:00</td>\n      <td>2022-03-01 01:58:00</td>\n      <td>2022-03-01 09:05:00</td>\n      <td>...</td>\n      <td>3.0</td>\n      <td>Março</td>\n      <td>Primeiro trimestre</td>\n      <td>Manhã</td>\n      <td>73.0</td>\n      <td>122.0</td>\n      <td>Saída com atraso de mais de 1h</td>\n      <td>Chegada com atraso de mais de 2h</td>\n      <td>Atrasado</td>\n      <td>Atrasado</td>\n    </tr>\n    <tr>\n      <th>2</th>\n      <td>2</td>\n      <td>AAL</td>\n      <td>789</td>\n      <td>2</td>\n      <td>X</td>\n      <td>KMIA</td>\n      <td>SBGR</td>\n      <td>NaT</td>\n      <td>2022-03-01 02:54:00</td>\n      <td>NaT</td>\n      <td>...</td>\n      <td>3.0</td>\n      <td>Março</td>\n      <td>Primeiro trimestre</td>\n      <td>Manhã</td>\n      <td>NaN</td>\n      <td>NaN</td>\n      <td>Não encontrado</td>\n      <td>Não encontrado</td>\n      <td>Atrasado</td>\n      <td>Atrasado</td>\n    </tr>\n    <tr>\n      <th>3</th>\n      <td>3</td>\n      <td>AAL</td>\n      <td>790</td>\n      <td>2</td>\n      <td>X</td>\n      <td>SBGR</td>\n      <td>KMIA</td>\n      <td>NaT</td>\n      <td>2022-03-01 11:17:00</td>\n      <td>NaT</td>\n      <td>...</td>\n      <td>3.0</td>\n      <td>Março</td>\n      <td>Primeiro trimestre</td>\n      <td>Noite</td>\n      <td>NaN</td>\n      <td>NaN</td>\n      <td>Não encontrado</td>\n      <td>Não encontrado</td>\n      <td>Atrasado</td>\n      <td>Atrasado</td>\n    </tr>\n    <tr>\n      <th>4</th>\n      <td>4</td>\n      <td>AAL</td>\n      <td>904</td>\n      <td>0</td>\n      <td>I</td>\n      <td>SBGL</td>\n      <td>KMIA</td>\n      <td>2022-03-01 00:05:00</td>\n      <td>2022-03-01 00:00:00</td>\n      <td>2022-03-01 08:40:00</td>\n      <td>...</td>\n      <td>3.0</td>\n      <td>Março</td>\n      <td>Primeiro trimestre</td>\n      <td>Manhã</td>\n      <td>-5.0</td>\n      <td>-37.0</td>\n      <td>Saída antes do previsto</td>\n      <td>Chegou antes do previsto</td>\n      <td>No Horário</td>\n      <td>No Horário</td>\n    </tr>\n  </tbody>\n</table>\n<p>5 rows × 61 columns</p>\n</div>"
     },
     "execution_count": 16,
     "metadata": {},
     "output_type": "execute_result"
    }
   ],
   "source": [
    "dados_vooo_completo.head()"
   ],
   "metadata": {
    "collapsed": false
   }
  },
  {
   "cell_type": "markdown",
   "source": [
    "# Total de vôos atrasados\n",
    "\n"
   ],
   "metadata": {
    "collapsed": false
   }
  },
  {
   "cell_type": "code",
   "execution_count": 49,
   "outputs": [],
   "source": [
    "def perfil_voos_saida( filtro_mes: List = None,\n",
    "                                filtro_compania: List = None, filtro_partida: str = None, colunas_agrupamento: List = None):\n",
    "    \"\"\"\n",
    "    Método personalisado para trazer o dataframe de acordo com a escolha\n",
    "    :param colunas_agrupamento: Uma lista com os campos do dataframe\n",
    "    :param filtro_partida: filtro para dizer se saíu adiantado ou atrasado\n",
    "    :param filtro_mes: Mês de Análise\n",
    "    :param filtro_compania: Compania Áerea\n",
    "    :return: Um dataframe filtrado\n",
    "    \"\"\"\n",
    "\n",
    "    df_voo_adi_atra = dados_vooo_completo.copy()\n",
    "    df_voo_adi_atra = df_voo_adi_atra.sort_values(by='MES_INDICEPARTIDA_REAL')\n",
    "    if filtro_partida is not None:\n",
    "        df_voo_adi_atra = df_voo_adi_atra[(df_voo_adi_atra['PONTUALIDADE_VOO_SAIDA'].isin(filtro_partida))]\n",
    "    if filtro_compania is not None:\n",
    "        df_voo_adi_atra = df_voo_adi_atra[(df_voo_adi_atra['NM_EMPRESAS'].isin(filtro_compania))]\n",
    "    if filtro_mes is not None:\n",
    "        df_voo_adi_atra = df_voo_adi_atra[(df_voo_adi_atra['MES_PARTIDA_REAL'].isin(filtro_mes))]\n",
    "    df_total_voos_pontualidade = df_voo_adi_atra.groupby(colunas_agrupamento).size().reset_index(name='TOTAL')\n",
    "    return df_total_voos_pontualidade\n"
   ],
   "metadata": {
    "collapsed": false
   }
  },
  {
   "cell_type": "code",
   "execution_count": 54,
   "outputs": [],
   "source": [
    "def perfil_voos_chegada( filtro_mes: List = None,\n",
    "                                filtro_compania: List = None, filtro_partida: str = None, colunas_agrupamento: List = None):\n",
    "    \"\"\"\n",
    "    Método personalisado para trazer o dataframe de acordo com a escolha\n",
    "    :param colunas_agrupamento: Uma lista com os campos do dataframe\n",
    "    :param filtro_partida: filtro para dizer se saíu adiantado ou atrasado\n",
    "    :param filtro_mes: Mês de Análise\n",
    "    :param filtro_compania: Compania Áerea\n",
    "    :return: Um dataframe filtrado\n",
    "    \"\"\"\n",
    "\n",
    "    df_voo_adi_atra = dados_vooo_completo.copy()\n",
    "    df_voo_adi_atra = df_voo_adi_atra.sort_values(by='MES_INDICEPARTIDA_REAL')\n",
    "    if filtro_partida is not None:\n",
    "        df_voo_adi_atra = df_voo_adi_atra[(df_voo_adi_atra['PONTUALIDADE_VOO_CHEGADA'].isin(filtro_partida))]\n",
    "    if filtro_compania is not None:\n",
    "        df_voo_adi_atra = df_voo_adi_atra[(df_voo_adi_atra['NM_EMPRESAS'].isin(filtro_compania))]\n",
    "    if filtro_mes is not None:\n",
    "        df_voo_adi_atra = df_voo_adi_atra[(df_voo_adi_atra['MES_CHEGADA_REAL'].isin(filtro_mes))]\n",
    "    df_total_voos_pontualidade = df_voo_adi_atra.groupby(colunas_agrupamento).size().reset_index(name='TOTAL')\n",
    "    return df_total_voos_pontualidade\n"
   ],
   "metadata": {
    "collapsed": false
   }
  },
  {
   "cell_type": "code",
   "execution_count": 66,
   "outputs": [
    {
     "data": {
      "text/plain": "    MES_INDICEPARTIDA_REAL MES_PARTIDA_REAL PONTUALIDADE_VOO_SAIDA  TOTAL\n0                      1.0          Janeiro               Atrasado   8437\n1                      1.0          Janeiro             No Horário  16098\n2                      2.0        Fevereiro               Atrasado   4647\n3                      2.0        Fevereiro             No Horário  17917\n4                      3.0            Março               Atrasado   6114\n5                      3.0            Março             No Horário  21896\n6                      4.0            Abril               Atrasado   6945\n7                      4.0            Abril             No Horário  21058\n8                      5.0             Maio               Atrasado   8519\n9                      5.0             Maio             No Horário  21866\n10                     6.0            Junho               Atrasado   7553\n11                     6.0            Junho             No Horário  20722\n12                     7.0            Julho               Atrasado   8249\n13                     7.0            Julho             No Horário  21433\n14                     8.0           Agosto               Atrasado   7924\n15                     8.0           Agosto             No Horário  20293\n16                     9.0         Setembro               Atrasado   7778\n17                     9.0         Setembro             No Horário  19309\n18                    10.0          Outubro             No Horário   3123\n19                    11.0         Novembro             No Horário   3210\n20                    12.0         Dezembro             No Horário   4257",
      "text/html": "<div>\n<style scoped>\n    .dataframe tbody tr th:only-of-type {\n        vertical-align: middle;\n    }\n\n    .dataframe tbody tr th {\n        vertical-align: top;\n    }\n\n    .dataframe thead th {\n        text-align: right;\n    }\n</style>\n<table border=\"1\" class=\"dataframe\">\n  <thead>\n    <tr style=\"text-align: right;\">\n      <th></th>\n      <th>MES_INDICEPARTIDA_REAL</th>\n      <th>MES_PARTIDA_REAL</th>\n      <th>PONTUALIDADE_VOO_SAIDA</th>\n      <th>TOTAL</th>\n    </tr>\n  </thead>\n  <tbody>\n    <tr>\n      <th>0</th>\n      <td>1.0</td>\n      <td>Janeiro</td>\n      <td>Atrasado</td>\n      <td>8437</td>\n    </tr>\n    <tr>\n      <th>1</th>\n      <td>1.0</td>\n      <td>Janeiro</td>\n      <td>No Horário</td>\n      <td>16098</td>\n    </tr>\n    <tr>\n      <th>2</th>\n      <td>2.0</td>\n      <td>Fevereiro</td>\n      <td>Atrasado</td>\n      <td>4647</td>\n    </tr>\n    <tr>\n      <th>3</th>\n      <td>2.0</td>\n      <td>Fevereiro</td>\n      <td>No Horário</td>\n      <td>17917</td>\n    </tr>\n    <tr>\n      <th>4</th>\n      <td>3.0</td>\n      <td>Março</td>\n      <td>Atrasado</td>\n      <td>6114</td>\n    </tr>\n    <tr>\n      <th>5</th>\n      <td>3.0</td>\n      <td>Março</td>\n      <td>No Horário</td>\n      <td>21896</td>\n    </tr>\n    <tr>\n      <th>6</th>\n      <td>4.0</td>\n      <td>Abril</td>\n      <td>Atrasado</td>\n      <td>6945</td>\n    </tr>\n    <tr>\n      <th>7</th>\n      <td>4.0</td>\n      <td>Abril</td>\n      <td>No Horário</td>\n      <td>21058</td>\n    </tr>\n    <tr>\n      <th>8</th>\n      <td>5.0</td>\n      <td>Maio</td>\n      <td>Atrasado</td>\n      <td>8519</td>\n    </tr>\n    <tr>\n      <th>9</th>\n      <td>5.0</td>\n      <td>Maio</td>\n      <td>No Horário</td>\n      <td>21866</td>\n    </tr>\n    <tr>\n      <th>10</th>\n      <td>6.0</td>\n      <td>Junho</td>\n      <td>Atrasado</td>\n      <td>7553</td>\n    </tr>\n    <tr>\n      <th>11</th>\n      <td>6.0</td>\n      <td>Junho</td>\n      <td>No Horário</td>\n      <td>20722</td>\n    </tr>\n    <tr>\n      <th>12</th>\n      <td>7.0</td>\n      <td>Julho</td>\n      <td>Atrasado</td>\n      <td>8249</td>\n    </tr>\n    <tr>\n      <th>13</th>\n      <td>7.0</td>\n      <td>Julho</td>\n      <td>No Horário</td>\n      <td>21433</td>\n    </tr>\n    <tr>\n      <th>14</th>\n      <td>8.0</td>\n      <td>Agosto</td>\n      <td>Atrasado</td>\n      <td>7924</td>\n    </tr>\n    <tr>\n      <th>15</th>\n      <td>8.0</td>\n      <td>Agosto</td>\n      <td>No Horário</td>\n      <td>20293</td>\n    </tr>\n    <tr>\n      <th>16</th>\n      <td>9.0</td>\n      <td>Setembro</td>\n      <td>Atrasado</td>\n      <td>7778</td>\n    </tr>\n    <tr>\n      <th>17</th>\n      <td>9.0</td>\n      <td>Setembro</td>\n      <td>No Horário</td>\n      <td>19309</td>\n    </tr>\n    <tr>\n      <th>18</th>\n      <td>10.0</td>\n      <td>Outubro</td>\n      <td>No Horário</td>\n      <td>3123</td>\n    </tr>\n    <tr>\n      <th>19</th>\n      <td>11.0</td>\n      <td>Novembro</td>\n      <td>No Horário</td>\n      <td>3210</td>\n    </tr>\n    <tr>\n      <th>20</th>\n      <td>12.0</td>\n      <td>Dezembro</td>\n      <td>No Horário</td>\n      <td>4257</td>\n    </tr>\n  </tbody>\n</table>\n</div>"
     },
     "execution_count": 66,
     "metadata": {},
     "output_type": "execute_result"
    }
   ],
   "source": [
    "perfil_voos_saida( colunas_agrupamento=['MES_INDICEPARTIDA_REAL', 'MES_PARTIDA_REAL', 'PONTUALIDADE_VOO_SAIDA'], filtro_compania=['AZUL'])"
   ],
   "metadata": {
    "collapsed": false
   }
  },
  {
   "cell_type": "code",
   "execution_count": null,
   "outputs": [],
   "source": [
    "perfil_voos_saida(colunas_agrupamento=['MES_PARTIDA_REAL'], filtro_compania=['ABAETE'])['TOTAL'].sum()"
   ],
   "metadata": {
    "collapsed": false
   }
  },
  {
   "cell_type": "code",
   "execution_count": 89,
   "outputs": [],
   "source": [
    "def percentual_voo_atrasado_saida(colunas_agrupamento: List, filtro_compania: List):\n",
    "    df_filtrado = perfil_voos_saida(colunas_agrupamento=colunas_agrupamento, filtro_compania=filtro_compania, filtro_partida=['Atrasado'])\n",
    "    total_registro = df_filtrado['TOTAL'].sum()\n",
    "    df_filtrado['PERCENTUAL_VOO_ATRASADO_SAIDA'] = df_filtrado['TOTAL'] * 100 / total_registro\n",
    "    df_filtrado['REGISTRO_DESLOCADO'] = df_filtrado['PERCENTUAL_VOO_ATRASADO_SAIDA'].shift(1, fill_value=0)\n",
    "    df_filtrado['VARIACAO_PERCENTUAL_VOO_ATRASADO_SAIDA'] = (df_filtrado['PERCENTUAL_VOO_ATRASADO_SAIDA'] - df_filtrado['REGISTRO_DESLOCADO']) / df_filtrado['REGISTRO_DESLOCADO'] * 100\n",
    "    return df_filtrado\n"
   ],
   "metadata": {
    "collapsed": false
   }
  },
  {
   "cell_type": "code",
   "execution_count": 96,
   "outputs": [],
   "source": [
    "def percentual_voo_pontual_saida(colunas_agrupamento: List, filtro_compania: List):\n",
    "    df_filtrado = perfil_voos_saida(colunas_agrupamento=colunas_agrupamento, filtro_compania=filtro_compania, filtro_partida=['No Horário'])\n",
    "    total_registro = df_filtrado['TOTAL'].sum()\n",
    "    df_filtrado['PERCENTUAL_VOO_PONTUAL_SAIDA'] = df_filtrado['TOTAL'] * 100 / total_registro\n",
    "    df_filtrado['REGISTRO_DESLOCADO'] = df_filtrado['PERCENTUAL_VOO_PONTUAL_SAIDA'].shift(1, fill_value=0)\n",
    "    df_filtrado['VARIACAO_PERCENTUAL_VOO_PONTUAL_SAIDA'] = (df_filtrado['PERCENTUAL_VOO_PONTUAL_SAIDA'] - df_filtrado['REGISTRO_DESLOCADO']) / df_filtrado['REGISTRO_DESLOCADO'] * 100\n",
    "    return df_filtrado\n"
   ],
   "metadata": {
    "collapsed": false
   }
  },
  {
   "cell_type": "code",
   "execution_count": 99,
   "outputs": [],
   "source": [
    "def percentual_voo_pontual_chegada(colunas_agrupamento: List, filtro_compania: List):\n",
    "    df_filtrado = perfil_voos_saida(colunas_agrupamento=colunas_agrupamento, filtro_compania=filtro_compania, filtro_partida=['No Horário'])\n",
    "    total_registro = df_filtrado['TOTAL'].sum()\n",
    "    df_filtrado['PERCENTUAL_VOO_PONTUAL_CHEGADA'] = df_filtrado['TOTAL'] * 100 / total_registro\n",
    "    df_filtrado['REGISTRO_DESLOCADO'] = df_filtrado['PERCENTUAL_VOO_PONTUAL_CHEGADA'].shift(1, fill_value=0)\n",
    "    df_filtrado['VARIACAO_PERCENTUAL_VOO_PONTUAL_SAIDA'] = (df_filtrado['PERCENTUAL_VOO_PONTUAL_CHEGADA'] - df_filtrado['REGISTRO_DESLOCADO']) / df_filtrado['REGISTRO_DESLOCADO'] * 100\n",
    "    return df_filtrado"
   ],
   "metadata": {
    "collapsed": false
   }
  },
  {
   "cell_type": "code",
   "execution_count": 92,
   "outputs": [],
   "source": [
    "def percentual_voo_atrasado_chegada(colunas_agrupamento: List, filtro_compania: List):\n",
    "    df_filtrado = perfil_voos_chegada(colunas_agrupamento=colunas_agrupamento, filtro_compania=filtro_compania, filtro_partida=['Atrasado'])\n",
    "    total_registro = df_filtrado['TOTAL'].sum()\n",
    "    df_filtrado['PERCENTUAL_VOO_CHEGADA'] = df_filtrado['TOTAL'] * 100 / total_registro\n",
    "    df_filtrado['REGISTRO_DESLOCADO'] = df_filtrado['PERCENTUAL_VOO_CHEGADA'].shift(1, fill_value=0)\n",
    "    df_filtrado['VARIACAO_PERCENTUAL_VOO_ATRASADO_CHEGADA'] = (df_filtrado['PERCENTUAL_VOO_CHEGADA'] - df_filtrado['REGISTRO_DESLOCADO']) / df_filtrado['REGISTRO_DESLOCADO'] * 100\n",
    "    return df_filtrado"
   ],
   "metadata": {
    "collapsed": false
   }
  },
  {
   "cell_type": "code",
   "execution_count": 108,
   "outputs": [
    {
     "data": {
      "text/plain": "   MES_INDICEPARTIDA_REAL MES_PARTIDA_REAL  TOTAL  \\\n0                     1.0          Janeiro   8437   \n1                     2.0        Fevereiro   4647   \n2                     3.0            Março   6114   \n3                     4.0            Abril   6945   \n4                     5.0             Maio   8519   \n5                     6.0            Junho   7553   \n6                     7.0            Julho   8249   \n7                     8.0           Agosto   7924   \n8                     9.0         Setembro   7778   \n\n   PERCENTUAL_VOO_ATRASADO_SAIDA  REGISTRO_DESLOCADO  \\\n0                      12.751262            0.000000   \n1                       7.023245           12.751262   \n2                       9.240395            7.023245   \n3                      10.496327            9.240395   \n4                      12.875193           10.496327   \n5                      11.415228           12.875193   \n6                      12.467128           11.415228   \n7                      11.975939           12.467128   \n8                      11.755282           11.975939   \n\n   VARIACAO_PERCENTUAL_VOO_ATRASADO_SAIDA  \n0                                     inf  \n1                              -44.921181  \n2                               31.568754  \n3                               13.591757  \n4                               22.663787  \n5                              -11.339359  \n6                                9.214882  \n7                               -3.939871  \n8                               -1.842504  ",
      "text/html": "<div>\n<style scoped>\n    .dataframe tbody tr th:only-of-type {\n        vertical-align: middle;\n    }\n\n    .dataframe tbody tr th {\n        vertical-align: top;\n    }\n\n    .dataframe thead th {\n        text-align: right;\n    }\n</style>\n<table border=\"1\" class=\"dataframe\">\n  <thead>\n    <tr style=\"text-align: right;\">\n      <th></th>\n      <th>MES_INDICEPARTIDA_REAL</th>\n      <th>MES_PARTIDA_REAL</th>\n      <th>TOTAL</th>\n      <th>PERCENTUAL_VOO_ATRASADO_SAIDA</th>\n      <th>REGISTRO_DESLOCADO</th>\n      <th>VARIACAO_PERCENTUAL_VOO_ATRASADO_SAIDA</th>\n    </tr>\n  </thead>\n  <tbody>\n    <tr>\n      <th>0</th>\n      <td>1.0</td>\n      <td>Janeiro</td>\n      <td>8437</td>\n      <td>12.751262</td>\n      <td>0.000000</td>\n      <td>inf</td>\n    </tr>\n    <tr>\n      <th>1</th>\n      <td>2.0</td>\n      <td>Fevereiro</td>\n      <td>4647</td>\n      <td>7.023245</td>\n      <td>12.751262</td>\n      <td>-44.921181</td>\n    </tr>\n    <tr>\n      <th>2</th>\n      <td>3.0</td>\n      <td>Março</td>\n      <td>6114</td>\n      <td>9.240395</td>\n      <td>7.023245</td>\n      <td>31.568754</td>\n    </tr>\n    <tr>\n      <th>3</th>\n      <td>4.0</td>\n      <td>Abril</td>\n      <td>6945</td>\n      <td>10.496327</td>\n      <td>9.240395</td>\n      <td>13.591757</td>\n    </tr>\n    <tr>\n      <th>4</th>\n      <td>5.0</td>\n      <td>Maio</td>\n      <td>8519</td>\n      <td>12.875193</td>\n      <td>10.496327</td>\n      <td>22.663787</td>\n    </tr>\n    <tr>\n      <th>5</th>\n      <td>6.0</td>\n      <td>Junho</td>\n      <td>7553</td>\n      <td>11.415228</td>\n      <td>12.875193</td>\n      <td>-11.339359</td>\n    </tr>\n    <tr>\n      <th>6</th>\n      <td>7.0</td>\n      <td>Julho</td>\n      <td>8249</td>\n      <td>12.467128</td>\n      <td>11.415228</td>\n      <td>9.214882</td>\n    </tr>\n    <tr>\n      <th>7</th>\n      <td>8.0</td>\n      <td>Agosto</td>\n      <td>7924</td>\n      <td>11.975939</td>\n      <td>12.467128</td>\n      <td>-3.939871</td>\n    </tr>\n    <tr>\n      <th>8</th>\n      <td>9.0</td>\n      <td>Setembro</td>\n      <td>7778</td>\n      <td>11.755282</td>\n      <td>11.975939</td>\n      <td>-1.842504</td>\n    </tr>\n  </tbody>\n</table>\n</div>"
     },
     "execution_count": 108,
     "metadata": {},
     "output_type": "execute_result"
    }
   ],
   "source": [
    "percentual_voo_atrasado_saida(colunas_agrupamento=['MES_INDICEPARTIDA_REAL', 'MES_PARTIDA_REAL'], filtro_compania=['AZUL'])"
   ],
   "metadata": {
    "collapsed": false
   }
  },
  {
   "cell_type": "code",
   "execution_count": 107,
   "outputs": [
    {
     "data": {
      "text/plain": "    MES_INDICEPARTIDA_REAL MES_PARTIDA_REAL  TOTAL  PERCENTUAL_VOO_CHEGADA  \\\n0                      1.0          Janeiro   9473               10.898653   \n1                      2.0        Fevereiro   5839                6.717749   \n2                      3.0            Março   8087                9.304065   \n3                      4.0            Abril   8874               10.209505   \n4                      5.0             Maio  10931               12.576077   \n5                      6.0            Junho   9725               11.188578   \n6                      7.0            Julho  10048               11.560188   \n7                      8.0           Agosto   9736               11.201233   \n8                      9.0         Setembro   9741               11.206986   \n9                     10.0          Outubro    945                1.087219   \n10                    11.0         Novembro   1163                1.338027   \n11                    12.0         Dezembro   2357                2.711720   \n\n    REGISTRO_DESLOCADO  VARIACAO_PERCENTUAL_VOO_ATRASADO_CHEGADA  \n0             0.000000                                       inf  \n1            10.898653                                -38.361659  \n2             6.717749                                 38.499743  \n3             9.304065                                  9.731668  \n4            10.209505                                 23.180077  \n5            12.576077                                -11.032842  \n6            11.188578                                  3.321337  \n7            11.560188                                 -3.105096  \n8            11.201233                                  0.051356  \n9            11.206986                                -90.298737  \n10            1.087219                                 23.068783  \n11            1.338027                                102.665520  ",
      "text/html": "<div>\n<style scoped>\n    .dataframe tbody tr th:only-of-type {\n        vertical-align: middle;\n    }\n\n    .dataframe tbody tr th {\n        vertical-align: top;\n    }\n\n    .dataframe thead th {\n        text-align: right;\n    }\n</style>\n<table border=\"1\" class=\"dataframe\">\n  <thead>\n    <tr style=\"text-align: right;\">\n      <th></th>\n      <th>MES_INDICEPARTIDA_REAL</th>\n      <th>MES_PARTIDA_REAL</th>\n      <th>TOTAL</th>\n      <th>PERCENTUAL_VOO_CHEGADA</th>\n      <th>REGISTRO_DESLOCADO</th>\n      <th>VARIACAO_PERCENTUAL_VOO_ATRASADO_CHEGADA</th>\n    </tr>\n  </thead>\n  <tbody>\n    <tr>\n      <th>0</th>\n      <td>1.0</td>\n      <td>Janeiro</td>\n      <td>9473</td>\n      <td>10.898653</td>\n      <td>0.000000</td>\n      <td>inf</td>\n    </tr>\n    <tr>\n      <th>1</th>\n      <td>2.0</td>\n      <td>Fevereiro</td>\n      <td>5839</td>\n      <td>6.717749</td>\n      <td>10.898653</td>\n      <td>-38.361659</td>\n    </tr>\n    <tr>\n      <th>2</th>\n      <td>3.0</td>\n      <td>Março</td>\n      <td>8087</td>\n      <td>9.304065</td>\n      <td>6.717749</td>\n      <td>38.499743</td>\n    </tr>\n    <tr>\n      <th>3</th>\n      <td>4.0</td>\n      <td>Abril</td>\n      <td>8874</td>\n      <td>10.209505</td>\n      <td>9.304065</td>\n      <td>9.731668</td>\n    </tr>\n    <tr>\n      <th>4</th>\n      <td>5.0</td>\n      <td>Maio</td>\n      <td>10931</td>\n      <td>12.576077</td>\n      <td>10.209505</td>\n      <td>23.180077</td>\n    </tr>\n    <tr>\n      <th>5</th>\n      <td>6.0</td>\n      <td>Junho</td>\n      <td>9725</td>\n      <td>11.188578</td>\n      <td>12.576077</td>\n      <td>-11.032842</td>\n    </tr>\n    <tr>\n      <th>6</th>\n      <td>7.0</td>\n      <td>Julho</td>\n      <td>10048</td>\n      <td>11.560188</td>\n      <td>11.188578</td>\n      <td>3.321337</td>\n    </tr>\n    <tr>\n      <th>7</th>\n      <td>8.0</td>\n      <td>Agosto</td>\n      <td>9736</td>\n      <td>11.201233</td>\n      <td>11.560188</td>\n      <td>-3.105096</td>\n    </tr>\n    <tr>\n      <th>8</th>\n      <td>9.0</td>\n      <td>Setembro</td>\n      <td>9741</td>\n      <td>11.206986</td>\n      <td>11.201233</td>\n      <td>0.051356</td>\n    </tr>\n    <tr>\n      <th>9</th>\n      <td>10.0</td>\n      <td>Outubro</td>\n      <td>945</td>\n      <td>1.087219</td>\n      <td>11.206986</td>\n      <td>-90.298737</td>\n    </tr>\n    <tr>\n      <th>10</th>\n      <td>11.0</td>\n      <td>Novembro</td>\n      <td>1163</td>\n      <td>1.338027</td>\n      <td>1.087219</td>\n      <td>23.068783</td>\n    </tr>\n    <tr>\n      <th>11</th>\n      <td>12.0</td>\n      <td>Dezembro</td>\n      <td>2357</td>\n      <td>2.711720</td>\n      <td>1.338027</td>\n      <td>102.665520</td>\n    </tr>\n  </tbody>\n</table>\n</div>"
     },
     "execution_count": 107,
     "metadata": {},
     "output_type": "execute_result"
    }
   ],
   "source": [
    "percentual_voo_atrasado_chegada(colunas_agrupamento=['MES_INDICEPARTIDA_REAL', 'MES_PARTIDA_REAL'], filtro_compania=['AZUL'])"
   ],
   "metadata": {
    "collapsed": false
   }
  },
  {
   "cell_type": "code",
   "execution_count": 98,
   "outputs": [
    {
     "data": {
      "text/plain": "    MES_INDICEPARTIDA_REAL MES_CHEGADA_REAL  TOTAL  \\\n0                      1.0        Fevereiro    304   \n1                      1.0          Janeiro  15794   \n2                      2.0        Fevereiro  17617   \n3                      2.0            Março    300   \n4                      3.0            Abril    366   \n5                      3.0            Março  21530   \n6                      4.0            Abril  20665   \n7                      4.0             Maio    393   \n8                      5.0            Junho    356   \n9                      5.0             Maio  21510   \n10                     6.0          Janeiro     65   \n11                     6.0            Julho    354   \n12                     6.0            Junho  20303   \n13                     7.0           Agosto    268   \n14                     7.0          Janeiro     56   \n15                     7.0            Julho  21109   \n16                     8.0           Agosto  20019   \n17                     8.0         Setembro    274   \n18                     9.0          Outubro    289   \n19                     9.0         Setembro  19020   \n20                    10.0         Novembro    201   \n21                    10.0          Outubro   2922   \n22                    11.0         Dezembro    233   \n23                    11.0         Novembro   2977   \n24                    12.0            Abril    137   \n25                    12.0           Agosto     81   \n26                    12.0         Dezembro   2779   \n27                    12.0        Fevereiro    140   \n28                    12.0          Janeiro    354   \n29                    12.0            Julho    120   \n30                    12.0            Junho    130   \n31                    12.0             Maio    132   \n32                    12.0            Março    149   \n33                    12.0         Novembro     63   \n34                    12.0          Outubro     74   \n35                    12.0         Setembro     98   \n\n    PERCENTUAL_VOO_PONTUAL_SAIDA  REGISTRO_DESLOCADO  \\\n0                       0.159011            0.000000   \n1                       8.261238            0.159011   \n2                       9.214780            8.261238   \n3                       0.156919            9.214780   \n4                       0.191441            0.156919   \n5                      11.261520            0.191441   \n6                      10.809072           11.261520   \n7                       0.205563           10.809072   \n8                       0.186210            0.205563   \n9                      11.251059            0.186210   \n10                      0.033999           11.251059   \n11                      0.185164            0.033999   \n12                     10.619724            0.185164   \n13                      0.140181           10.619724   \n14                      0.029291            0.140181   \n15                     11.041311            0.029291   \n16                     10.471174           11.041311   \n17                      0.143319           10.471174   \n18                      0.151165            0.143319   \n19                      9.948635            0.151165   \n20                      0.105135            9.948635   \n21                      1.528387            0.105135   \n22                      0.121873            1.528387   \n23                      1.557155            0.121873   \n24                      0.071659            1.557155   \n25                      0.042368            0.071659   \n26                      1.453589            0.042368   \n27                      0.073229            1.453589   \n28                      0.185164            0.073229   \n29                      0.062767            0.185164   \n30                      0.067998            0.062767   \n31                      0.069044            0.067998   \n32                      0.077936            0.069044   \n33                      0.032953            0.077936   \n34                      0.038707            0.032953   \n35                      0.051260            0.038707   \n\n    VARIACAO_PERCENTUAL_VOO_PONTUAL_SAIDA  \n0                                     inf  \n1                            5.095395e+03  \n2                            1.154236e+01  \n3                           -9.829710e+01  \n4                            2.200000e+01  \n5                            5.782514e+03  \n6                           -4.017650e+00  \n7                           -9.809823e+01  \n8                           -9.414758e+00  \n9                            5.942135e+03  \n10                          -9.969781e+01  \n11                           4.446154e+02  \n12                           5.635311e+03  \n13                          -9.868000e+01  \n14                          -7.910448e+01  \n15                           3.759464e+04  \n16                          -5.163674e+00  \n17                          -9.863130e+01  \n18                           5.474453e+00  \n19                           6.481315e+03  \n20                          -9.894322e+01  \n21                           1.353731e+03  \n22                          -9.202601e+01  \n23                           1.177682e+03  \n24                          -9.539805e+01  \n25                          -4.087591e+01  \n26                           3.330864e+03  \n27                          -9.496222e+01  \n28                           1.528571e+02  \n29                          -6.610169e+01  \n30                           8.333333e+00  \n31                           1.538462e+00  \n32                           1.287879e+01  \n33                          -5.771812e+01  \n34                           1.746032e+01  \n35                           3.243243e+01  ",
      "text/html": "<div>\n<style scoped>\n    .dataframe tbody tr th:only-of-type {\n        vertical-align: middle;\n    }\n\n    .dataframe tbody tr th {\n        vertical-align: top;\n    }\n\n    .dataframe thead th {\n        text-align: right;\n    }\n</style>\n<table border=\"1\" class=\"dataframe\">\n  <thead>\n    <tr style=\"text-align: right;\">\n      <th></th>\n      <th>MES_INDICEPARTIDA_REAL</th>\n      <th>MES_CHEGADA_REAL</th>\n      <th>TOTAL</th>\n      <th>PERCENTUAL_VOO_PONTUAL_SAIDA</th>\n      <th>REGISTRO_DESLOCADO</th>\n      <th>VARIACAO_PERCENTUAL_VOO_PONTUAL_SAIDA</th>\n    </tr>\n  </thead>\n  <tbody>\n    <tr>\n      <th>0</th>\n      <td>1.0</td>\n      <td>Fevereiro</td>\n      <td>304</td>\n      <td>0.159011</td>\n      <td>0.000000</td>\n      <td>inf</td>\n    </tr>\n    <tr>\n      <th>1</th>\n      <td>1.0</td>\n      <td>Janeiro</td>\n      <td>15794</td>\n      <td>8.261238</td>\n      <td>0.159011</td>\n      <td>5.095395e+03</td>\n    </tr>\n    <tr>\n      <th>2</th>\n      <td>2.0</td>\n      <td>Fevereiro</td>\n      <td>17617</td>\n      <td>9.214780</td>\n      <td>8.261238</td>\n      <td>1.154236e+01</td>\n    </tr>\n    <tr>\n      <th>3</th>\n      <td>2.0</td>\n      <td>Março</td>\n      <td>300</td>\n      <td>0.156919</td>\n      <td>9.214780</td>\n      <td>-9.829710e+01</td>\n    </tr>\n    <tr>\n      <th>4</th>\n      <td>3.0</td>\n      <td>Abril</td>\n      <td>366</td>\n      <td>0.191441</td>\n      <td>0.156919</td>\n      <td>2.200000e+01</td>\n    </tr>\n    <tr>\n      <th>5</th>\n      <td>3.0</td>\n      <td>Março</td>\n      <td>21530</td>\n      <td>11.261520</td>\n      <td>0.191441</td>\n      <td>5.782514e+03</td>\n    </tr>\n    <tr>\n      <th>6</th>\n      <td>4.0</td>\n      <td>Abril</td>\n      <td>20665</td>\n      <td>10.809072</td>\n      <td>11.261520</td>\n      <td>-4.017650e+00</td>\n    </tr>\n    <tr>\n      <th>7</th>\n      <td>4.0</td>\n      <td>Maio</td>\n      <td>393</td>\n      <td>0.205563</td>\n      <td>10.809072</td>\n      <td>-9.809823e+01</td>\n    </tr>\n    <tr>\n      <th>8</th>\n      <td>5.0</td>\n      <td>Junho</td>\n      <td>356</td>\n      <td>0.186210</td>\n      <td>0.205563</td>\n      <td>-9.414758e+00</td>\n    </tr>\n    <tr>\n      <th>9</th>\n      <td>5.0</td>\n      <td>Maio</td>\n      <td>21510</td>\n      <td>11.251059</td>\n      <td>0.186210</td>\n      <td>5.942135e+03</td>\n    </tr>\n    <tr>\n      <th>10</th>\n      <td>6.0</td>\n      <td>Janeiro</td>\n      <td>65</td>\n      <td>0.033999</td>\n      <td>11.251059</td>\n      <td>-9.969781e+01</td>\n    </tr>\n    <tr>\n      <th>11</th>\n      <td>6.0</td>\n      <td>Julho</td>\n      <td>354</td>\n      <td>0.185164</td>\n      <td>0.033999</td>\n      <td>4.446154e+02</td>\n    </tr>\n    <tr>\n      <th>12</th>\n      <td>6.0</td>\n      <td>Junho</td>\n      <td>20303</td>\n      <td>10.619724</td>\n      <td>0.185164</td>\n      <td>5.635311e+03</td>\n    </tr>\n    <tr>\n      <th>13</th>\n      <td>7.0</td>\n      <td>Agosto</td>\n      <td>268</td>\n      <td>0.140181</td>\n      <td>10.619724</td>\n      <td>-9.868000e+01</td>\n    </tr>\n    <tr>\n      <th>14</th>\n      <td>7.0</td>\n      <td>Janeiro</td>\n      <td>56</td>\n      <td>0.029291</td>\n      <td>0.140181</td>\n      <td>-7.910448e+01</td>\n    </tr>\n    <tr>\n      <th>15</th>\n      <td>7.0</td>\n      <td>Julho</td>\n      <td>21109</td>\n      <td>11.041311</td>\n      <td>0.029291</td>\n      <td>3.759464e+04</td>\n    </tr>\n    <tr>\n      <th>16</th>\n      <td>8.0</td>\n      <td>Agosto</td>\n      <td>20019</td>\n      <td>10.471174</td>\n      <td>11.041311</td>\n      <td>-5.163674e+00</td>\n    </tr>\n    <tr>\n      <th>17</th>\n      <td>8.0</td>\n      <td>Setembro</td>\n      <td>274</td>\n      <td>0.143319</td>\n      <td>10.471174</td>\n      <td>-9.863130e+01</td>\n    </tr>\n    <tr>\n      <th>18</th>\n      <td>9.0</td>\n      <td>Outubro</td>\n      <td>289</td>\n      <td>0.151165</td>\n      <td>0.143319</td>\n      <td>5.474453e+00</td>\n    </tr>\n    <tr>\n      <th>19</th>\n      <td>9.0</td>\n      <td>Setembro</td>\n      <td>19020</td>\n      <td>9.948635</td>\n      <td>0.151165</td>\n      <td>6.481315e+03</td>\n    </tr>\n    <tr>\n      <th>20</th>\n      <td>10.0</td>\n      <td>Novembro</td>\n      <td>201</td>\n      <td>0.105135</td>\n      <td>9.948635</td>\n      <td>-9.894322e+01</td>\n    </tr>\n    <tr>\n      <th>21</th>\n      <td>10.0</td>\n      <td>Outubro</td>\n      <td>2922</td>\n      <td>1.528387</td>\n      <td>0.105135</td>\n      <td>1.353731e+03</td>\n    </tr>\n    <tr>\n      <th>22</th>\n      <td>11.0</td>\n      <td>Dezembro</td>\n      <td>233</td>\n      <td>0.121873</td>\n      <td>1.528387</td>\n      <td>-9.202601e+01</td>\n    </tr>\n    <tr>\n      <th>23</th>\n      <td>11.0</td>\n      <td>Novembro</td>\n      <td>2977</td>\n      <td>1.557155</td>\n      <td>0.121873</td>\n      <td>1.177682e+03</td>\n    </tr>\n    <tr>\n      <th>24</th>\n      <td>12.0</td>\n      <td>Abril</td>\n      <td>137</td>\n      <td>0.071659</td>\n      <td>1.557155</td>\n      <td>-9.539805e+01</td>\n    </tr>\n    <tr>\n      <th>25</th>\n      <td>12.0</td>\n      <td>Agosto</td>\n      <td>81</td>\n      <td>0.042368</td>\n      <td>0.071659</td>\n      <td>-4.087591e+01</td>\n    </tr>\n    <tr>\n      <th>26</th>\n      <td>12.0</td>\n      <td>Dezembro</td>\n      <td>2779</td>\n      <td>1.453589</td>\n      <td>0.042368</td>\n      <td>3.330864e+03</td>\n    </tr>\n    <tr>\n      <th>27</th>\n      <td>12.0</td>\n      <td>Fevereiro</td>\n      <td>140</td>\n      <td>0.073229</td>\n      <td>1.453589</td>\n      <td>-9.496222e+01</td>\n    </tr>\n    <tr>\n      <th>28</th>\n      <td>12.0</td>\n      <td>Janeiro</td>\n      <td>354</td>\n      <td>0.185164</td>\n      <td>0.073229</td>\n      <td>1.528571e+02</td>\n    </tr>\n    <tr>\n      <th>29</th>\n      <td>12.0</td>\n      <td>Julho</td>\n      <td>120</td>\n      <td>0.062767</td>\n      <td>0.185164</td>\n      <td>-6.610169e+01</td>\n    </tr>\n    <tr>\n      <th>30</th>\n      <td>12.0</td>\n      <td>Junho</td>\n      <td>130</td>\n      <td>0.067998</td>\n      <td>0.062767</td>\n      <td>8.333333e+00</td>\n    </tr>\n    <tr>\n      <th>31</th>\n      <td>12.0</td>\n      <td>Maio</td>\n      <td>132</td>\n      <td>0.069044</td>\n      <td>0.067998</td>\n      <td>1.538462e+00</td>\n    </tr>\n    <tr>\n      <th>32</th>\n      <td>12.0</td>\n      <td>Março</td>\n      <td>149</td>\n      <td>0.077936</td>\n      <td>0.069044</td>\n      <td>1.287879e+01</td>\n    </tr>\n    <tr>\n      <th>33</th>\n      <td>12.0</td>\n      <td>Novembro</td>\n      <td>63</td>\n      <td>0.032953</td>\n      <td>0.077936</td>\n      <td>-5.771812e+01</td>\n    </tr>\n    <tr>\n      <th>34</th>\n      <td>12.0</td>\n      <td>Outubro</td>\n      <td>74</td>\n      <td>0.038707</td>\n      <td>0.032953</td>\n      <td>1.746032e+01</td>\n    </tr>\n    <tr>\n      <th>35</th>\n      <td>12.0</td>\n      <td>Setembro</td>\n      <td>98</td>\n      <td>0.051260</td>\n      <td>0.038707</td>\n      <td>3.243243e+01</td>\n    </tr>\n  </tbody>\n</table>\n</div>"
     },
     "execution_count": 98,
     "metadata": {},
     "output_type": "execute_result"
    }
   ],
   "source": [
    "percentual_voo_pontual_saida(colunas_agrupamento=['MES_INDICEPARTIDA_REAL', 'MES_CHEGADA_REAL'], filtro_compania=['AZUL'])"
   ],
   "metadata": {
    "collapsed": false
   }
  },
  {
   "cell_type": "code",
   "execution_count": 106,
   "outputs": [
    {
     "data": {
      "text/plain": "      MES_INDICECHEGADA_REAL MES_CHEGADA_REAL  \\\n0                        1.0          Janeiro   \n1                        1.0          Janeiro   \n2                        1.0          Janeiro   \n3                        1.0          Janeiro   \n4                        1.0          Janeiro   \n...                      ...              ...   \n1152                    12.0         Dezembro   \n1153                    12.0         Dezembro   \n1154                    12.0         Dezembro   \n1155                    12.0         Dezembro   \n1156                    12.0         Dezembro   \n\n                            DESCRICAO_AEROPORTO_DESTINO  TOTAL  \\\n0                             ADALBERTO MENDES DA SILVA     47   \n1     AEROPORTO INTERNACIONAL DO RIO DE JANEIRO/GALE...     70   \n2                    AEROPORTO REGIONAL PLÃNIO ALARCON     13   \n3                                           AFONSO PENA    551   \n4                                              ALTAMIRA     17   \n...                                                 ...    ...   \n1152           TENENTE-CORONEL AVIADOR CÃSAR BOMBONATO     32   \n1153                                           USIMINAS     12   \n1154                                        VAL DE CANS     75   \n1155                                          VIRACOPOS    643   \n1156                                 ZUMBI DOS PALMARES     31   \n\n      PERCENTUAL_VOO_PONTUAL_CHEGADA  REGISTRO_DESLOCADO  \\\n0                           0.024849            0.000000   \n1                           0.037008            0.024849   \n2                           0.006873            0.037008   \n3                           0.291309            0.006873   \n4                           0.008988            0.291309   \n...                              ...                 ...   \n1152                        0.016918            0.001057   \n1153                        0.006344            0.016918   \n1154                        0.039652            0.006344   \n1155                        0.339949            0.039652   \n1156                        0.016389            0.339949   \n\n      VARIACAO_PERCENTUAL_VOO_PONTUAL_SAIDA  \n0                                       inf  \n1                                 48.936170  \n2                                -81.428571  \n3                               4138.461538  \n4                                -96.914701  \n...                                     ...  \n1152                            1500.000000  \n1153                             -62.500000  \n1154                             525.000000  \n1155                             757.333333  \n1156                             -95.178849  \n\n[1157 rows x 7 columns]",
      "text/html": "<div>\n<style scoped>\n    .dataframe tbody tr th:only-of-type {\n        vertical-align: middle;\n    }\n\n    .dataframe tbody tr th {\n        vertical-align: top;\n    }\n\n    .dataframe thead th {\n        text-align: right;\n    }\n</style>\n<table border=\"1\" class=\"dataframe\">\n  <thead>\n    <tr style=\"text-align: right;\">\n      <th></th>\n      <th>MES_INDICECHEGADA_REAL</th>\n      <th>MES_CHEGADA_REAL</th>\n      <th>DESCRICAO_AEROPORTO_DESTINO</th>\n      <th>TOTAL</th>\n      <th>PERCENTUAL_VOO_PONTUAL_CHEGADA</th>\n      <th>REGISTRO_DESLOCADO</th>\n      <th>VARIACAO_PERCENTUAL_VOO_PONTUAL_SAIDA</th>\n    </tr>\n  </thead>\n  <tbody>\n    <tr>\n      <th>0</th>\n      <td>1.0</td>\n      <td>Janeiro</td>\n      <td>ADALBERTO MENDES DA SILVA</td>\n      <td>47</td>\n      <td>0.024849</td>\n      <td>0.000000</td>\n      <td>inf</td>\n    </tr>\n    <tr>\n      <th>1</th>\n      <td>1.0</td>\n      <td>Janeiro</td>\n      <td>AEROPORTO INTERNACIONAL DO RIO DE JANEIRO/GALE...</td>\n      <td>70</td>\n      <td>0.037008</td>\n      <td>0.024849</td>\n      <td>48.936170</td>\n    </tr>\n    <tr>\n      <th>2</th>\n      <td>1.0</td>\n      <td>Janeiro</td>\n      <td>AEROPORTO REGIONAL PLÃNIO ALARCON</td>\n      <td>13</td>\n      <td>0.006873</td>\n      <td>0.037008</td>\n      <td>-81.428571</td>\n    </tr>\n    <tr>\n      <th>3</th>\n      <td>1.0</td>\n      <td>Janeiro</td>\n      <td>AFONSO PENA</td>\n      <td>551</td>\n      <td>0.291309</td>\n      <td>0.006873</td>\n      <td>4138.461538</td>\n    </tr>\n    <tr>\n      <th>4</th>\n      <td>1.0</td>\n      <td>Janeiro</td>\n      <td>ALTAMIRA</td>\n      <td>17</td>\n      <td>0.008988</td>\n      <td>0.291309</td>\n      <td>-96.914701</td>\n    </tr>\n    <tr>\n      <th>...</th>\n      <td>...</td>\n      <td>...</td>\n      <td>...</td>\n      <td>...</td>\n      <td>...</td>\n      <td>...</td>\n      <td>...</td>\n    </tr>\n    <tr>\n      <th>1152</th>\n      <td>12.0</td>\n      <td>Dezembro</td>\n      <td>TENENTE-CORONEL AVIADOR CÃSAR BOMBONATO</td>\n      <td>32</td>\n      <td>0.016918</td>\n      <td>0.001057</td>\n      <td>1500.000000</td>\n    </tr>\n    <tr>\n      <th>1153</th>\n      <td>12.0</td>\n      <td>Dezembro</td>\n      <td>USIMINAS</td>\n      <td>12</td>\n      <td>0.006344</td>\n      <td>0.016918</td>\n      <td>-62.500000</td>\n    </tr>\n    <tr>\n      <th>1154</th>\n      <td>12.0</td>\n      <td>Dezembro</td>\n      <td>VAL DE CANS</td>\n      <td>75</td>\n      <td>0.039652</td>\n      <td>0.006344</td>\n      <td>525.000000</td>\n    </tr>\n    <tr>\n      <th>1155</th>\n      <td>12.0</td>\n      <td>Dezembro</td>\n      <td>VIRACOPOS</td>\n      <td>643</td>\n      <td>0.339949</td>\n      <td>0.039652</td>\n      <td>757.333333</td>\n    </tr>\n    <tr>\n      <th>1156</th>\n      <td>12.0</td>\n      <td>Dezembro</td>\n      <td>ZUMBI DOS PALMARES</td>\n      <td>31</td>\n      <td>0.016389</td>\n      <td>0.339949</td>\n      <td>-95.178849</td>\n    </tr>\n  </tbody>\n</table>\n<p>1157 rows × 7 columns</p>\n</div>"
     },
     "execution_count": 106,
     "metadata": {},
     "output_type": "execute_result"
    }
   ],
   "source": [
    "percentual_voo_pontual_chegada(colunas_agrupamento=['MES_INDICECHEGADA_REAL', 'MES_CHEGADA_REAL', 'DESCRICAO_AEROPORTO_DESTINO'], filtro_compania=['AZUL'])"
   ],
   "metadata": {
    "collapsed": false
   }
  },
  {
   "cell_type": "markdown",
   "source": [
    "<p>Pefil de vôos -> Manhã, tarde, noite, madrugada, Deixar fitro por compania, aeroporto</p>"
   ],
   "metadata": {
    "collapsed": false
   }
  },
  {
   "cell_type": "code",
   "execution_count": 139,
   "outputs": [],
   "source": [
    "def total_voos_turno_partida(lista_compania: List = None, lista_aeroporto: List = None, colunas_agrupamento: List = None) -> pd.DataFrame:\n",
    "    df_total_voos = dados_vooo_completo.copy()\n",
    "    coluna_padrao = ['TURNO_PARTIDA_REAL'] + colunas_agrupamento if colunas_agrupamento is not None else ['TURNO_PARTIDA_REAL']\n",
    "\n",
    "    if lista_compania is not None:\n",
    "\n",
    "        df_total_voos = df_total_voos[(df_total_voos['NM_EMPRESAS'].isin(lista_compania))]\n",
    "    if lista_aeroporto is not None:\n",
    "        df_total_voos = df_total_voos[(df_total_voos['DESCRICAO_AEROPORTO_ORIGEM'].isin(lista_aeroporto))]\n",
    "\n",
    "    df_total_voos_turno = df_total_voos.groupby(coluna_padrao).size().reset_index(name='TOTAL_VOOS_POR_TURNO')\n",
    "    return df_total_voos_turno\n",
    "\n",
    "\n"
   ],
   "metadata": {
    "collapsed": false
   }
  },
  {
   "cell_type": "code",
   "execution_count": 141,
   "outputs": [
    {
     "data": {
      "text/plain": "     TURNO_PARTIDA_REAL            NM_EMPRESAS MES_PARTIDA_REAL  \\\n0             Madrugada                   ABSA            Abril   \n1             Madrugada                   ABSA           Agosto   \n2             Madrugada                   ABSA         Dezembro   \n3             Madrugada                   ABSA        Fevereiro   \n4             Madrugada                   ABSA          Janeiro   \n...                 ...                    ...              ...   \n1546              Noite  UNITED PARCEL SERVICE            Março   \n1547              Noite  UNITED PARCEL SERVICE         Novembro   \n1548              Noite  UNITED PARCEL SERVICE   Não Encontrado   \n1549              Noite  UNITED PARCEL SERVICE          Outubro   \n1550              Noite  UNITED PARCEL SERVICE         Setembro   \n\n      TOTAL_VOOS_POR_TURNO  \n0                       68  \n1                       74  \n2                        2  \n3                       71  \n4                       46  \n...                    ...  \n1546                    67  \n1547                     6  \n1548                    37  \n1549                     6  \n1550                    55  \n\n[1551 rows x 4 columns]",
      "text/html": "<div>\n<style scoped>\n    .dataframe tbody tr th:only-of-type {\n        vertical-align: middle;\n    }\n\n    .dataframe tbody tr th {\n        vertical-align: top;\n    }\n\n    .dataframe thead th {\n        text-align: right;\n    }\n</style>\n<table border=\"1\" class=\"dataframe\">\n  <thead>\n    <tr style=\"text-align: right;\">\n      <th></th>\n      <th>TURNO_PARTIDA_REAL</th>\n      <th>NM_EMPRESAS</th>\n      <th>MES_PARTIDA_REAL</th>\n      <th>TOTAL_VOOS_POR_TURNO</th>\n    </tr>\n  </thead>\n  <tbody>\n    <tr>\n      <th>0</th>\n      <td>Madrugada</td>\n      <td>ABSA</td>\n      <td>Abril</td>\n      <td>68</td>\n    </tr>\n    <tr>\n      <th>1</th>\n      <td>Madrugada</td>\n      <td>ABSA</td>\n      <td>Agosto</td>\n      <td>74</td>\n    </tr>\n    <tr>\n      <th>2</th>\n      <td>Madrugada</td>\n      <td>ABSA</td>\n      <td>Dezembro</td>\n      <td>2</td>\n    </tr>\n    <tr>\n      <th>3</th>\n      <td>Madrugada</td>\n      <td>ABSA</td>\n      <td>Fevereiro</td>\n      <td>71</td>\n    </tr>\n    <tr>\n      <th>4</th>\n      <td>Madrugada</td>\n      <td>ABSA</td>\n      <td>Janeiro</td>\n      <td>46</td>\n    </tr>\n    <tr>\n      <th>...</th>\n      <td>...</td>\n      <td>...</td>\n      <td>...</td>\n      <td>...</td>\n    </tr>\n    <tr>\n      <th>1546</th>\n      <td>Noite</td>\n      <td>UNITED PARCEL SERVICE</td>\n      <td>Março</td>\n      <td>67</td>\n    </tr>\n    <tr>\n      <th>1547</th>\n      <td>Noite</td>\n      <td>UNITED PARCEL SERVICE</td>\n      <td>Novembro</td>\n      <td>6</td>\n    </tr>\n    <tr>\n      <th>1548</th>\n      <td>Noite</td>\n      <td>UNITED PARCEL SERVICE</td>\n      <td>Não Encontrado</td>\n      <td>37</td>\n    </tr>\n    <tr>\n      <th>1549</th>\n      <td>Noite</td>\n      <td>UNITED PARCEL SERVICE</td>\n      <td>Outubro</td>\n      <td>6</td>\n    </tr>\n    <tr>\n      <th>1550</th>\n      <td>Noite</td>\n      <td>UNITED PARCEL SERVICE</td>\n      <td>Setembro</td>\n      <td>55</td>\n    </tr>\n  </tbody>\n</table>\n<p>1551 rows × 4 columns</p>\n</div>"
     },
     "execution_count": 141,
     "metadata": {},
     "output_type": "execute_result"
    }
   ],
   "source": [
    "total_voos_turno_partida(colunas_agrupamento=['NM_EMPRESAS', 'MES_PARTIDA_REAL'])"
   ],
   "metadata": {
    "collapsed": false
   }
  }
 ],
 "metadata": {
  "kernelspec": {
   "display_name": "Python 3",
   "language": "python",
   "name": "python3"
  },
  "language_info": {
   "codemirror_mode": {
    "name": "ipython",
    "version": 2
   },
   "file_extension": ".py",
   "mimetype": "text/x-python",
   "name": "python",
   "nbconvert_exporter": "python",
   "pygments_lexer": "ipython2",
   "version": "2.7.6"
  }
 },
 "nbformat": 4,
 "nbformat_minor": 0
}
