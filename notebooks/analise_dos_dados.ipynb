{
 "cells": [
  {
   "cell_type": "code",
   "execution_count": 1,
   "metadata": {
    "collapsed": true
   },
   "outputs": [],
   "source": [
    "import pandas as pda"
   ]
  },
  {
   "cell_type": "code",
   "execution_count": 2,
   "outputs": [
    {
     "name": "stderr",
     "output_type": "stream",
     "text": [
      "C:\\Users\\silva\\AppData\\Roaming\\Python\\Python37\\site-packages\\IPython\\core\\interactiveshell.py:3553: DtypeWarning: Columns (3) have mixed types.Specify dtype option on import or set low_memory=False.\n",
      "  exec(code_obj, self.user_global_ns, self.user_ns)\n"
     ]
    }
   ],
   "source": [
    "dados_vooo_completo = pd.read_csv('../data/processed/df_dados_voo_completo.csv', sep=';', encoding='utf-8')"
   ],
   "metadata": {
    "collapsed": false
   }
  },
  {
   "cell_type": "code",
   "execution_count": 3,
   "outputs": [
    {
     "data": {
      "text/plain": "   Unnamed: 0 ?SG_ICAO_EMPRESA_AEREA NR_VOO CODIGO_DI CODIGO_TIPO_LINHA  \\\n0           0                    AAL    262         0                 I   \n1           1                    AAL    263         0                 I   \n2           2                    AAL    789         2                 X   \n3           3                    AAL    790         2                 X   \n4           4                    AAL    904         0                 I   \n\n  SIGLA_ICAO_AEROPORTO_ORIGEM SIGLA_ICAO_AEROPORTO_DESTINO  \\\n0                        SBGL                         KMIA   \n1                        KMIA                         SBGL   \n2                        KMIA                         SBGR   \n3                        SBGR                         KMIA   \n4                        SBGL                         KMIA   \n\n      PARTIDA_PREVISTA         PARTIDA_REAL     CHEGADA_PREVISTA  ...  \\\n0  2022-03-01 22:30:00  2022-03-01 22:35:00  2022-03-02 07:10:00  ...   \n1  2022-03-01 00:45:00  2022-03-01 01:58:00  2022-03-01 09:05:00  ...   \n2                  NaN  2022-03-01 02:54:00                  NaN  ...   \n3                  NaN  2022-03-01 11:17:00                  NaN  ...   \n4  2022-03-01 00:05:00  2022-03-01 00:00:00  2022-03-01 08:40:00  ...   \n\n  CONTINENTE_AEROPORTO_DESTINO SIGLA_OACI_AEROPORTO_ORIGEM  \\\n0             AMERICA DO NORTE                        SBGL   \n1               AMERICA DO SUL                        KMIA   \n2               AMERICA DO SUL                        KMIA   \n3             AMERICA DO NORTE                        SBGR   \n4             AMERICA DO NORTE                        SBGL   \n\n                          DESCRICAO_AEROPORTO_ORIGEM CIDADE_AEROPORTO_ORIGEM  \\\n0  AEROPORTO INTERNACIONAL DO RIO DE JANEIRO/GALE...          RIO DE JANEIRO   \n1                        MIAMI INTERNATIONAL AIRPORT                   MIAMI   \n2                        MIAMI INTERNATIONAL AIRPORT                   MIAMI   \n3        GUARULHOS - GOVERNADOR ANDRÉ FRANCO MONTORO               GUARULHOS   \n4  AEROPORTO INTERNACIONAL DO RIO DE JANEIRO/GALE...          RIO DE JANEIRO   \n\n  UF_AEROPORTO_ORIGEM     PAIS_AEROPORTO_DORIGEM CONTINENTE_AEROPORTO_ORIGEM  \\\n0                  RJ                     BRASIL              AMERICA DO SUL   \n1                 NaN  ESTADOS UNIDOS DA AMERICA            AMERICA DO NORTE   \n2                 NaN  ESTADOS UNIDOS DA AMERICA            AMERICA DO NORTE   \n3                  SP                     BRASIL              AMERICA DO SUL   \n4                  RJ                     BRASIL              AMERICA DO SUL   \n\n  SIGLA_OACI_EMPRESAS            NM_EMPRESAS NACIONAL_OU_ESTRANGEIRA  \n0                 AAL  AMERICAN AIRLINES INC             ESTRANGEIRA  \n1                 AAL  AMERICAN AIRLINES INC             ESTRANGEIRA  \n2                 AAL  AMERICAN AIRLINES INC             ESTRANGEIRA  \n3                 AAL  AMERICAN AIRLINES INC             ESTRANGEIRA  \n4                 AAL  AMERICAN AIRLINES INC             ESTRANGEIRA  \n\n[5 rows x 27 columns]",
      "text/html": "<div>\n<style scoped>\n    .dataframe tbody tr th:only-of-type {\n        vertical-align: middle;\n    }\n\n    .dataframe tbody tr th {\n        vertical-align: top;\n    }\n\n    .dataframe thead th {\n        text-align: right;\n    }\n</style>\n<table border=\"1\" class=\"dataframe\">\n  <thead>\n    <tr style=\"text-align: right;\">\n      <th></th>\n      <th>Unnamed: 0</th>\n      <th>?SG_ICAO_EMPRESA_AEREA</th>\n      <th>NR_VOO</th>\n      <th>CODIGO_DI</th>\n      <th>CODIGO_TIPO_LINHA</th>\n      <th>SIGLA_ICAO_AEROPORTO_ORIGEM</th>\n      <th>SIGLA_ICAO_AEROPORTO_DESTINO</th>\n      <th>PARTIDA_PREVISTA</th>\n      <th>PARTIDA_REAL</th>\n      <th>CHEGADA_PREVISTA</th>\n      <th>...</th>\n      <th>CONTINENTE_AEROPORTO_DESTINO</th>\n      <th>SIGLA_OACI_AEROPORTO_ORIGEM</th>\n      <th>DESCRICAO_AEROPORTO_ORIGEM</th>\n      <th>CIDADE_AEROPORTO_ORIGEM</th>\n      <th>UF_AEROPORTO_ORIGEM</th>\n      <th>PAIS_AEROPORTO_DORIGEM</th>\n      <th>CONTINENTE_AEROPORTO_ORIGEM</th>\n      <th>SIGLA_OACI_EMPRESAS</th>\n      <th>NM_EMPRESAS</th>\n      <th>NACIONAL_OU_ESTRANGEIRA</th>\n    </tr>\n  </thead>\n  <tbody>\n    <tr>\n      <th>0</th>\n      <td>0</td>\n      <td>AAL</td>\n      <td>262</td>\n      <td>0</td>\n      <td>I</td>\n      <td>SBGL</td>\n      <td>KMIA</td>\n      <td>2022-03-01 22:30:00</td>\n      <td>2022-03-01 22:35:00</td>\n      <td>2022-03-02 07:10:00</td>\n      <td>...</td>\n      <td>AMERICA DO NORTE</td>\n      <td>SBGL</td>\n      <td>AEROPORTO INTERNACIONAL DO RIO DE JANEIRO/GALE...</td>\n      <td>RIO DE JANEIRO</td>\n      <td>RJ</td>\n      <td>BRASIL</td>\n      <td>AMERICA DO SUL</td>\n      <td>AAL</td>\n      <td>AMERICAN AIRLINES INC</td>\n      <td>ESTRANGEIRA</td>\n    </tr>\n    <tr>\n      <th>1</th>\n      <td>1</td>\n      <td>AAL</td>\n      <td>263</td>\n      <td>0</td>\n      <td>I</td>\n      <td>KMIA</td>\n      <td>SBGL</td>\n      <td>2022-03-01 00:45:00</td>\n      <td>2022-03-01 01:58:00</td>\n      <td>2022-03-01 09:05:00</td>\n      <td>...</td>\n      <td>AMERICA DO SUL</td>\n      <td>KMIA</td>\n      <td>MIAMI INTERNATIONAL AIRPORT</td>\n      <td>MIAMI</td>\n      <td>NaN</td>\n      <td>ESTADOS UNIDOS DA AMERICA</td>\n      <td>AMERICA DO NORTE</td>\n      <td>AAL</td>\n      <td>AMERICAN AIRLINES INC</td>\n      <td>ESTRANGEIRA</td>\n    </tr>\n    <tr>\n      <th>2</th>\n      <td>2</td>\n      <td>AAL</td>\n      <td>789</td>\n      <td>2</td>\n      <td>X</td>\n      <td>KMIA</td>\n      <td>SBGR</td>\n      <td>NaN</td>\n      <td>2022-03-01 02:54:00</td>\n      <td>NaN</td>\n      <td>...</td>\n      <td>AMERICA DO SUL</td>\n      <td>KMIA</td>\n      <td>MIAMI INTERNATIONAL AIRPORT</td>\n      <td>MIAMI</td>\n      <td>NaN</td>\n      <td>ESTADOS UNIDOS DA AMERICA</td>\n      <td>AMERICA DO NORTE</td>\n      <td>AAL</td>\n      <td>AMERICAN AIRLINES INC</td>\n      <td>ESTRANGEIRA</td>\n    </tr>\n    <tr>\n      <th>3</th>\n      <td>3</td>\n      <td>AAL</td>\n      <td>790</td>\n      <td>2</td>\n      <td>X</td>\n      <td>SBGR</td>\n      <td>KMIA</td>\n      <td>NaN</td>\n      <td>2022-03-01 11:17:00</td>\n      <td>NaN</td>\n      <td>...</td>\n      <td>AMERICA DO NORTE</td>\n      <td>SBGR</td>\n      <td>GUARULHOS - GOVERNADOR ANDRÉ FRANCO MONTORO</td>\n      <td>GUARULHOS</td>\n      <td>SP</td>\n      <td>BRASIL</td>\n      <td>AMERICA DO SUL</td>\n      <td>AAL</td>\n      <td>AMERICAN AIRLINES INC</td>\n      <td>ESTRANGEIRA</td>\n    </tr>\n    <tr>\n      <th>4</th>\n      <td>4</td>\n      <td>AAL</td>\n      <td>904</td>\n      <td>0</td>\n      <td>I</td>\n      <td>SBGL</td>\n      <td>KMIA</td>\n      <td>2022-03-01 00:05:00</td>\n      <td>2022-03-01 00:00:00</td>\n      <td>2022-03-01 08:40:00</td>\n      <td>...</td>\n      <td>AMERICA DO NORTE</td>\n      <td>SBGL</td>\n      <td>AEROPORTO INTERNACIONAL DO RIO DE JANEIRO/GALE...</td>\n      <td>RIO DE JANEIRO</td>\n      <td>RJ</td>\n      <td>BRASIL</td>\n      <td>AMERICA DO SUL</td>\n      <td>AAL</td>\n      <td>AMERICAN AIRLINES INC</td>\n      <td>ESTRANGEIRA</td>\n    </tr>\n  </tbody>\n</table>\n<p>5 rows × 27 columns</p>\n</div>"
     },
     "execution_count": 3,
     "metadata": {},
     "output_type": "execute_result"
    }
   ],
   "source": [
    "dados_vooo_completo.head()"
   ],
   "metadata": {
    "collapsed": false
   }
  },
  {
   "cell_type": "code",
   "execution_count": 4,
   "outputs": [
    {
     "name": "stdout",
     "output_type": "stream",
     "text": [
      "<class 'pandas.core.frame.DataFrame'>\n",
      "RangeIndex: 789907 entries, 0 to 789906\n",
      "Data columns (total 27 columns):\n",
      " #   Column                        Non-Null Count   Dtype \n",
      "---  ------                        --------------   ----- \n",
      " 0   Unnamed: 0                    789907 non-null  int64 \n",
      " 1   ?SG_ICAO_EMPRESA_AEREA        789907 non-null  object\n",
      " 2   NR_VOO                        789907 non-null  object\n",
      " 3   CODIGO_DI                     789907 non-null  object\n",
      " 4   CODIGO_TIPO_LINHA             789904 non-null  object\n",
      " 5   SIGLA_ICAO_AEROPORTO_ORIGEM   789907 non-null  object\n",
      " 6   SIGLA_ICAO_AEROPORTO_DESTINO  789907 non-null  object\n",
      " 7   PARTIDA_PREVISTA              771720 non-null  object\n",
      " 8   PARTIDA_REAL                  753684 non-null  object\n",
      " 9   CHEGADA_PREVISTA              771720 non-null  object\n",
      " 10  CHEGADA_REAL                  753665 non-null  object\n",
      " 11  SITUACAO_VOO                  789907 non-null  object\n",
      " 12  SIGLA_OACI_AEROPORTO_DESTINO  780971 non-null  object\n",
      " 13  DESCRICAO_AEROPORTO_DESTINO   780971 non-null  object\n",
      " 14  CIDADE_AEROPORTO_DESTINO      779435 non-null  object\n",
      " 15  UF_AEROPORTO_DESTINO          727648 non-null  object\n",
      " 16  PAIS_AEROPORTO_DESTINO        780971 non-null  object\n",
      " 17  CONTINENTE_AEROPORTO_DESTINO  780971 non-null  object\n",
      " 18  SIGLA_OACI_AEROPORTO_ORIGEM   781046 non-null  object\n",
      " 19  DESCRICAO_AEROPORTO_ORIGEM    781046 non-null  object\n",
      " 20  CIDADE_AEROPORTO_ORIGEM       779650 non-null  object\n",
      " 21  UF_AEROPORTO_ORIGEM           728009 non-null  object\n",
      " 22  PAIS_AEROPORTO_DORIGEM        781046 non-null  object\n",
      " 23  CONTINENTE_AEROPORTO_ORIGEM   781046 non-null  object\n",
      " 24  SIGLA_OACI_EMPRESAS           754369 non-null  object\n",
      " 25  NM_EMPRESAS                   754369 non-null  object\n",
      " 26  NACIONAL_OU_ESTRANGEIRA       752999 non-null  object\n",
      "dtypes: int64(1), object(26)\n",
      "memory usage: 162.7+ MB\n"
     ]
    }
   ],
   "source": [
    "dados_vooo_completo.info()"
   ],
   "metadata": {
    "collapsed": false
   }
  },
  {
   "cell_type": "code",
   "execution_count": null,
   "outputs": [],
   "source": [
    "dados_vooo_completo['?SG_ICAO_EMPRESA_AEREA'] = dados_vooo_completo['?SG_ICAO_EMPRESA_AEREA'].astype('string')\n",
    "dados_vooo_completo['NR_VOO'] = dados_vooo_completo['NR_VOO'].astype('string')\n",
    "dados_vooo_completo['CODIGO_DI'] = dados_vooo_completo['CODIGO_DI'].astype('string')\n",
    "dados_vooo_completo['CODIGO_TIPO_LINHA'] = dados_vooo_completo['CODIGO_TIPO_LINHA'].astype('string')\n",
    "dados_vooo_completo['SIGLA_ICAO_AEROPORTO_ORIGEM'] = dados_vooo_completo['SIGLA_ICAO_AEROPORTO_ORIGEM'].astype('string')\n",
    "dados_vooo_completo['SIGLA_ICAO_AEROPORTO_DESTINO'] = dados_vooo_completo['SIGLA_ICAO_AEROPORTO_DESTINO'].astype(\n",
    "    'string')\n",
    "dados_vooo_completo['PARTIDA_PREVISTA'] = pd.to_datetime(dados_vooo_completo['PARTIDA_PREVISTA'],\n",
    "                                                         format='%Y-%m-%d %H:%M', errors='coerce')\n",
    "dados_vooo_completo['PARTIDA_REAL'] = pd.to_datetime(dados_vooo_completo['PARTIDA_REAL'], format='%Y-%m-%d %H:%M',\n",
    "                                                     errors='coerce')\n",
    "dados_vooo_completo['CHEGADA_PREVISTA'] = pd.to_datetime(dados_vooo_completo['CHEGADA_PREVISTA'],\n",
    "                                                         format='%Y-%m-%d %H:%M', errors='coerce')\n",
    "dados_vooo_completo['CHEGADA_REAL'] = pd.to_datetime(dados_vooo_completo['CHEGADA_REAL'], format='%Y-%m-%d %H:%M',\n",
    "                                                     errors='coerce')\n",
    "dados_vooo_completo['SITUACAO_VOO'] = dados_vooo_completo['SITUACAO_VOO'].astype('string')\n",
    "dados_vooo_completo['DESCRICAO_AEROPORTO_DESTINO'] = dados_vooo_completo['DESCRICAO_AEROPORTO_DESTINO'].astype('string')\n",
    "dados_vooo_completo['CIDADE_AEROPORTO_DESTINO'] = dados_vooo_completo['CIDADE_AEROPORTO_DESTINO'].astype('string')\n",
    "dados_vooo_completo['UF_AEROPORTO_DESTINO'] = dados_vooo_completo['UF_AEROPORTO_DESTINO'].astype('string')\n",
    "dados_vooo_completo['UF_AEROPORTO_ORIGEM'] = dados_vooo_completo['UF_AEROPORTO_ORIGEM'].astype('string')\n",
    "dados_vooo_completo['PAIS_AEROPORTO_DESTINO'] = dados_vooo_completo['PAIS_AEROPORTO_DESTINO'].astype('string')\n",
    "dados_vooo_completo['CONTINENTE_AEROPORTO_DESTINO'] = dados_vooo_completo['CONTINENTE_AEROPORTO_DESTINO'].astype(\n",
    "    'string')\n",
    "dados_vooo_completo['DESCRICAO_AEROPORTO_ORIGEM'] = dados_vooo_completo['DESCRICAO_AEROPORTO_ORIGEM'].astype('string')\n",
    "dados_vooo_completo['CIDADE_AEROPORTO_ORIGEM'] = dados_vooo_completo['CIDADE_AEROPORTO_ORIGEM'].astype('string')\n",
    "dados_vooo_completo['CIDADE_AEROPORTO_DESTINO'] = dados_vooo_completo['CIDADE_AEROPORTO_DESTINO'].astype('string')\n",
    "dados_vooo_completo['PAIS_AEROPORTO_DORIGEM'] = dados_vooo_completo['PAIS_AEROPORTO_DORIGEM'].astype('string')\n",
    "dados_vooo_completo['PAIS_AEROPORTO_DORIGEM'] = dados_vooo_completo['PAIS_AEROPORTO_DORIGEM'].astype('string')\n",
    "dados_vooo_completo['CONTINENTE_AEROPORTO_ORIGEM'] = dados_vooo_completo['CONTINENTE_AEROPORTO_ORIGEM'].astype('string')\n",
    "dados_vooo_completo['NM_EMPRESAS'] = dados_vooo_completo['NM_EMPRESAS'].astype('string')\n",
    "dados_vooo_completo['NACIONAL_OU_ESTRANGEIRA'] = dados_vooo_completo['NACIONAL_OU_ESTRANGEIRA'].astype('string')\n",
    "dados_vooo_completo['SIGLA_OACI_AEROPORTO_DESTINO'] = dados_vooo_completo['SIGLA_OACI_AEROPORTO_DESTINO'].astype(\n",
    "    'string')\n",
    "dados_vooo_completo['SIGLA_OACI_AEROPORTO_ORIGEM'] = dados_vooo_completo['SIGLA_OACI_AEROPORTO_ORIGEM'].astype('string')\n",
    "dados_vooo_completo['SIGLA_OACI_EMPRESAS'] = dados_vooo_completo['SIGLA_OACI_EMPRESAS'].astype('string')"
   ],
   "metadata": {
    "collapsed": false
   }
  },
  {
   "cell_type": "code",
   "execution_count": null,
   "outputs": [],
   "source": [
    "dados_vooo_completo.info()"
   ],
   "metadata": {
    "collapsed": false
   }
  },
  {
   "cell_type": "markdown",
   "source": [
    "# Criar colunas de tempo -> Trimestre, mês, turno (Manhã, tarde, noite, madrugada)"
   ],
   "metadata": {
    "collapsed": false
   }
  },
  {
   "cell_type": "code",
   "execution_count": null,
   "outputs": [],
   "source": [
    "colunas_tempo = ['PARTIDA_REAL', 'PARTIDA_PREVISTA', 'CHEGADA_PREVISTA', 'CHEGADA_REAL']\n",
    "traducao_dias = {'Monday': 'Segunda-feira',\n",
    "                 'Tuesday': 'Terça-feira',\n",
    "                 'Wednesday': 'Quarta-feira',\n",
    "                 'Thursday': 'Quinta-feira',\n",
    "                 'Friday': 'Sexta-feira',\n",
    "                 'Saturday': 'Sábado',\n",
    "                 'Sunday': 'Domingo'}\n",
    "mes = {\n",
    "    1.0: 'janeiro',\n",
    "    2.0: 'fevereiro',\n",
    "    3.0: 'março',\n",
    "    4.0: 'abril',\n",
    "    5.0: 'maio',\n",
    "    6.0: 'junho',\n",
    "    7.0: 'julho',\n",
    "    8.0: 'Agosto',\n",
    "    9.0: 'Setembro',\n",
    "    10.0: 'Outubro',\n",
    "    11.0: 'Novembro',\n",
    "    12.0: 'Dezembro'\n",
    "}\n",
    "\n",
    "trimeste = {\n",
    "    1.0 : 'primeiro trimestre' ,\n",
    "    2.0: 'primeiro trimestre' ,\n",
    "    3.0: 'primeiro trimestre' ,\n",
    "    4.0: 'segundo trimestre' ,\n",
    "    5.0: 'segundo trimestre' ,\n",
    "    6.0: 'segundo trimestre' ,\n",
    "    7.0: 'terceiro trimestre' ,\n",
    "    8.0: 'terceiro trimestre' ,\n",
    "    9.0: 'terceiro trimestre' ,\n",
    "    10.0: 'quarto trimestre' ,\n",
    "    11.0: 'quarto trimestre' ,\n",
    "    12.0: 'quarto trimestre'\n",
    "}\n",
    "\n",
    "def turno(horario):\n",
    "    if 0 < horario < 6:\n",
    "        return 'madrugada'\n",
    "    elif 6 <= horario < 12:\n",
    "        return 'manhã'\n",
    "    elif 12 <= horario < 6:\n",
    "        return 'tarde'\n",
    "    else:\n",
    "        return 'noite'\n",
    "\n"
   ],
   "metadata": {
    "collapsed": false
   }
  },
  {
   "cell_type": "code",
   "execution_count": null,
   "outputs": [],
   "source": [
    "for coluna_tempo in colunas_tempo:\n",
    "    dados_vooo_completo['DATA_' + coluna_tempo] = dados_vooo_completo[coluna_tempo].dt.date\n",
    "    dados_vooo_completo['HORA_' + coluna_tempo] = dados_vooo_completo[coluna_tempo].dt.time\n",
    "    dados_vooo_completo['DIA_SEMANA_' + coluna_tempo] = dados_vooo_completo[coluna_tempo].dt.day_name().apply(\n",
    "        lambda x: traducao_dias.get(x, 'Não Encontrado'))\n",
    "    dados_vooo_completo['MES_' + coluna_tempo] = dados_vooo_completo[coluna_tempo].dt.month.apply(\n",
    "        lambda x: mes.get(x, 'Não Encontrado'))\n",
    "    dados_vooo_completo['TRIMESTRE_' + coluna_tempo] = dados_vooo_completo[coluna_tempo].dt.month.apply(\n",
    "        lambda x: trimeste.get(x, 'Não Encontrado'))"
   ],
   "metadata": {
    "collapsed": false
   }
  },
  {
   "cell_type": "code",
   "execution_count": null,
   "outputs": [],
   "source": [
    "dados_vooo_completo.info()"
   ],
   "metadata": {
    "collapsed": false
   }
  },
  {
   "cell_type": "code",
   "execution_count": null,
   "outputs": [],
   "source": [
    "dados_vooo_completo[dados_vooo_completo['HORA_CHEGADA_PREVISTA'] < 5]"
   ],
   "metadata": {
    "collapsed": false
   }
  },
  {
   "cell_type": "markdown",
   "source": [
    "# quantos vôos cancelados, atrasado, Realizados, -> Filtrar por nome de compania, aeroporto, mês ano"
   ],
   "metadata": {
    "collapsed": false
   }
  },
  {
   "cell_type": "code",
   "execution_count": null,
   "outputs": [],
   "source": [
    "total_voos_registrados = dados_vooo_completo['NR_VOO'].count()\n",
    "total_voos_registrados"
   ],
   "metadata": {
    "collapsed": false
   }
  },
  {
   "cell_type": "code",
   "execution_count": null,
   "outputs": [],
   "source": [
    "total_voos = dados_vooo_completo.groupby(['SITUACAO_VOO'])['SITUACAO_VOO'].count()\n",
    "total_voos = total_voos.rename_axis('index').reset_index()\n",
    "total_voos.rename(\n",
    "    columns={\n",
    "        'index': 'SITUACAO_VOO',\n",
    "        'SITUACAO_VOO': 'TOTAL'}\n",
    "    , inplace=True\n",
    ")\n",
    "total_voos['PERCENTUAL'] = total_voos['TOTAL'] * 100 / total_voos_registrados\n",
    "total_voos"
   ],
   "metadata": {
    "collapsed": false
   }
  },
  {
   "cell_type": "code",
   "execution_count": null,
   "outputs": [],
   "source": [
    "total_voos[total_voos['SITUACAO_VOO'] == 'CANCELADO']['TOTAL']"
   ],
   "metadata": {
    "collapsed": false
   }
  }
 ],
 "metadata": {
  "kernelspec": {
   "display_name": "Python 3",
   "language": "python",
   "name": "python3"
  },
  "language_info": {
   "codemirror_mode": {
    "name": "ipython",
    "version": 2
   },
   "file_extension": ".py",
   "mimetype": "text/x-python",
   "name": "python",
   "nbconvert_exporter": "python",
   "pygments_lexer": "ipython2",
   "version": "2.7.6"
  }
 },
 "nbformat": 4,
 "nbformat_minor": 0
}
