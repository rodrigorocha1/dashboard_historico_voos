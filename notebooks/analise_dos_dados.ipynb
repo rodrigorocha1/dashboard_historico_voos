{
 "cells": [
  {
   "cell_type": "code",
   "execution_count": 1,
   "metadata": {
    "collapsed": true
   },
   "outputs": [],
   "source": [
    "import pandas as pd\n",
    "import os\n",
    "import zipfile"
   ]
  },
  {
   "cell_type": "code",
   "execution_count": 4,
   "outputs": [
    {
     "data": {
      "text/plain": "'F:\\\\projetos\\\\historico_voos'"
     },
     "execution_count": 4,
     "metadata": {},
     "output_type": "execute_result"
    }
   ],
   "source": [
    "os.getcwd()\n",
    "os.chdir('F:\\projetos\\historico_voos')\n",
    "os.getcwd()"
   ],
   "metadata": {
    "collapsed": false
   }
  },
  {
   "cell_type": "code",
   "execution_count": 5,
   "outputs": [],
   "source": [
    "caminho = os.getcwd() + '\\\\data\\\\processed\\\\df_dados_voo_completo.zip'"
   ],
   "metadata": {
    "collapsed": false
   }
  },
  {
   "cell_type": "code",
   "execution_count": 7,
   "outputs": [
    {
     "name": "stdout",
     "output_type": "stream",
     "text": [
      "df_dados_voo_completo.csv\n"
     ]
    },
    {
     "name": "stderr",
     "output_type": "stream",
     "text": [
      "F:\\projetos\\historico_voos\\venv\\lib\\site-packages\\IPython\\core\\interactiveshell.py:3258: DtypeWarning: Columns (3) have mixed types.Specify dtype option on import or set low_memory=False.\n",
      "  interactivity=interactivity, compiler=compiler, result=result)\n"
     ]
    }
   ],
   "source": [
    "with zipfile.ZipFile(caminho) as z:\n",
    "    print(*z.namelist(), sep='\\n')\n",
    "    with z.open('df_dados_voo_completo.csv') as df:\n",
    "        dados_vooo_completo = pd.read_csv(df, sep=';', encoding='ISO-8859-1')"
   ],
   "metadata": {
    "collapsed": false
   }
  },
  {
   "cell_type": "code",
   "execution_count": 9,
   "outputs": [
    {
     "data": {
      "text/plain": "   Unnamed: 0 ?SG_ICAO_EMPRESA_AEREA NR_VOO CODIGO_DI CODIGO_TIPO_LINHA  \\\n0           0                    AAL    262         0                 I   \n1           1                    AAL    263         0                 I   \n2           2                    AAL    789         2                 X   \n3           3                    AAL    790         2                 X   \n4           4                    AAL    904         0                 I   \n\n  SIGLA_ICAO_AEROPORTO_ORIGEM SIGLA_ICAO_AEROPORTO_DESTINO  \\\n0                        SBGL                         KMIA   \n1                        KMIA                         SBGL   \n2                        KMIA                         SBGR   \n3                        SBGR                         KMIA   \n4                        SBGL                         KMIA   \n\n      PARTIDA_PREVISTA         PARTIDA_REAL     CHEGADA_PREVISTA  ...  \\\n0  2022-03-01 22:30:00  2022-03-01 22:35:00  2022-03-02 07:10:00  ...   \n1  2022-03-01 00:45:00  2022-03-01 01:58:00  2022-03-01 09:05:00  ...   \n2                  NaN  2022-03-01 02:54:00                  NaN  ...   \n3                  NaN  2022-03-01 11:17:00                  NaN  ...   \n4  2022-03-01 00:05:00  2022-03-01 00:00:00  2022-03-01 08:40:00  ...   \n\n  CONTINENTE_AEROPORTO_DESTINO SIGLA_OACI_AEROPORTO_ORIGEM  \\\n0             AMERICA DO NORTE                        SBGL   \n1               AMERICA DO SUL                        KMIA   \n2               AMERICA DO SUL                        KMIA   \n3             AMERICA DO NORTE                        SBGR   \n4             AMERICA DO NORTE                        SBGL   \n\n                          DESCRICAO_AEROPORTO_ORIGEM CIDADE_AEROPORTO_ORIGEM  \\\n0  AEROPORTO INTERNACIONAL DO RIO DE JANEIRO/GALE...          RIO DE JANEIRO   \n1                        MIAMI INTERNATIONAL AIRPORT                   MIAMI   \n2                        MIAMI INTERNATIONAL AIRPORT                   MIAMI   \n3       GUARULHOS - GOVERNADOR ANDRÃ FRANCO MONTORO               GUARULHOS   \n4  AEROPORTO INTERNACIONAL DO RIO DE JANEIRO/GALE...          RIO DE JANEIRO   \n\n  UF_AEROPORTO_ORIGEM     PAIS_AEROPORTO_DORIGEM CONTINENTE_AEROPORTO_ORIGEM  \\\n0                  RJ                     BRASIL              AMERICA DO SUL   \n1                 NaN  ESTADOS UNIDOS DA AMERICA            AMERICA DO NORTE   \n2                 NaN  ESTADOS UNIDOS DA AMERICA            AMERICA DO NORTE   \n3                  SP                     BRASIL              AMERICA DO SUL   \n4                  RJ                     BRASIL              AMERICA DO SUL   \n\n  SIGLA_OACI_EMPRESAS            NM_EMPRESAS NACIONAL_OU_ESTRANGEIRA  \n0                 AAL  AMERICAN AIRLINES INC             ESTRANGEIRA  \n1                 AAL  AMERICAN AIRLINES INC             ESTRANGEIRA  \n2                 AAL  AMERICAN AIRLINES INC             ESTRANGEIRA  \n3                 AAL  AMERICAN AIRLINES INC             ESTRANGEIRA  \n4                 AAL  AMERICAN AIRLINES INC             ESTRANGEIRA  \n\n[5 rows x 27 columns]",
      "text/html": "<div>\n<style scoped>\n    .dataframe tbody tr th:only-of-type {\n        vertical-align: middle;\n    }\n\n    .dataframe tbody tr th {\n        vertical-align: top;\n    }\n\n    .dataframe thead th {\n        text-align: right;\n    }\n</style>\n<table border=\"1\" class=\"dataframe\">\n  <thead>\n    <tr style=\"text-align: right;\">\n      <th></th>\n      <th>Unnamed: 0</th>\n      <th>?SG_ICAO_EMPRESA_AEREA</th>\n      <th>NR_VOO</th>\n      <th>CODIGO_DI</th>\n      <th>CODIGO_TIPO_LINHA</th>\n      <th>SIGLA_ICAO_AEROPORTO_ORIGEM</th>\n      <th>SIGLA_ICAO_AEROPORTO_DESTINO</th>\n      <th>PARTIDA_PREVISTA</th>\n      <th>PARTIDA_REAL</th>\n      <th>CHEGADA_PREVISTA</th>\n      <th>...</th>\n      <th>CONTINENTE_AEROPORTO_DESTINO</th>\n      <th>SIGLA_OACI_AEROPORTO_ORIGEM</th>\n      <th>DESCRICAO_AEROPORTO_ORIGEM</th>\n      <th>CIDADE_AEROPORTO_ORIGEM</th>\n      <th>UF_AEROPORTO_ORIGEM</th>\n      <th>PAIS_AEROPORTO_DORIGEM</th>\n      <th>CONTINENTE_AEROPORTO_ORIGEM</th>\n      <th>SIGLA_OACI_EMPRESAS</th>\n      <th>NM_EMPRESAS</th>\n      <th>NACIONAL_OU_ESTRANGEIRA</th>\n    </tr>\n  </thead>\n  <tbody>\n    <tr>\n      <th>0</th>\n      <td>0</td>\n      <td>AAL</td>\n      <td>262</td>\n      <td>0</td>\n      <td>I</td>\n      <td>SBGL</td>\n      <td>KMIA</td>\n      <td>2022-03-01 22:30:00</td>\n      <td>2022-03-01 22:35:00</td>\n      <td>2022-03-02 07:10:00</td>\n      <td>...</td>\n      <td>AMERICA DO NORTE</td>\n      <td>SBGL</td>\n      <td>AEROPORTO INTERNACIONAL DO RIO DE JANEIRO/GALE...</td>\n      <td>RIO DE JANEIRO</td>\n      <td>RJ</td>\n      <td>BRASIL</td>\n      <td>AMERICA DO SUL</td>\n      <td>AAL</td>\n      <td>AMERICAN AIRLINES INC</td>\n      <td>ESTRANGEIRA</td>\n    </tr>\n    <tr>\n      <th>1</th>\n      <td>1</td>\n      <td>AAL</td>\n      <td>263</td>\n      <td>0</td>\n      <td>I</td>\n      <td>KMIA</td>\n      <td>SBGL</td>\n      <td>2022-03-01 00:45:00</td>\n      <td>2022-03-01 01:58:00</td>\n      <td>2022-03-01 09:05:00</td>\n      <td>...</td>\n      <td>AMERICA DO SUL</td>\n      <td>KMIA</td>\n      <td>MIAMI INTERNATIONAL AIRPORT</td>\n      <td>MIAMI</td>\n      <td>NaN</td>\n      <td>ESTADOS UNIDOS DA AMERICA</td>\n      <td>AMERICA DO NORTE</td>\n      <td>AAL</td>\n      <td>AMERICAN AIRLINES INC</td>\n      <td>ESTRANGEIRA</td>\n    </tr>\n    <tr>\n      <th>2</th>\n      <td>2</td>\n      <td>AAL</td>\n      <td>789</td>\n      <td>2</td>\n      <td>X</td>\n      <td>KMIA</td>\n      <td>SBGR</td>\n      <td>NaN</td>\n      <td>2022-03-01 02:54:00</td>\n      <td>NaN</td>\n      <td>...</td>\n      <td>AMERICA DO SUL</td>\n      <td>KMIA</td>\n      <td>MIAMI INTERNATIONAL AIRPORT</td>\n      <td>MIAMI</td>\n      <td>NaN</td>\n      <td>ESTADOS UNIDOS DA AMERICA</td>\n      <td>AMERICA DO NORTE</td>\n      <td>AAL</td>\n      <td>AMERICAN AIRLINES INC</td>\n      <td>ESTRANGEIRA</td>\n    </tr>\n    <tr>\n      <th>3</th>\n      <td>3</td>\n      <td>AAL</td>\n      <td>790</td>\n      <td>2</td>\n      <td>X</td>\n      <td>SBGR</td>\n      <td>KMIA</td>\n      <td>NaN</td>\n      <td>2022-03-01 11:17:00</td>\n      <td>NaN</td>\n      <td>...</td>\n      <td>AMERICA DO NORTE</td>\n      <td>SBGR</td>\n      <td>GUARULHOS - GOVERNADOR ANDRÃ FRANCO MONTORO</td>\n      <td>GUARULHOS</td>\n      <td>SP</td>\n      <td>BRASIL</td>\n      <td>AMERICA DO SUL</td>\n      <td>AAL</td>\n      <td>AMERICAN AIRLINES INC</td>\n      <td>ESTRANGEIRA</td>\n    </tr>\n    <tr>\n      <th>4</th>\n      <td>4</td>\n      <td>AAL</td>\n      <td>904</td>\n      <td>0</td>\n      <td>I</td>\n      <td>SBGL</td>\n      <td>KMIA</td>\n      <td>2022-03-01 00:05:00</td>\n      <td>2022-03-01 00:00:00</td>\n      <td>2022-03-01 08:40:00</td>\n      <td>...</td>\n      <td>AMERICA DO NORTE</td>\n      <td>SBGL</td>\n      <td>AEROPORTO INTERNACIONAL DO RIO DE JANEIRO/GALE...</td>\n      <td>RIO DE JANEIRO</td>\n      <td>RJ</td>\n      <td>BRASIL</td>\n      <td>AMERICA DO SUL</td>\n      <td>AAL</td>\n      <td>AMERICAN AIRLINES INC</td>\n      <td>ESTRANGEIRA</td>\n    </tr>\n  </tbody>\n</table>\n<p>5 rows × 27 columns</p>\n</div>"
     },
     "execution_count": 9,
     "metadata": {},
     "output_type": "execute_result"
    }
   ],
   "source": [
    "dados_vooo_completo.head()"
   ],
   "metadata": {
    "collapsed": false
   }
  },
  {
   "cell_type": "code",
   "execution_count": 10,
   "outputs": [
    {
     "name": "stdout",
     "output_type": "stream",
     "text": [
      "<class 'pandas.core.frame.DataFrame'>\n",
      "RangeIndex: 789907 entries, 0 to 789906\n",
      "Data columns (total 27 columns):\n",
      " #   Column                        Non-Null Count   Dtype \n",
      "---  ------                        --------------   ----- \n",
      " 0   Unnamed: 0                    789907 non-null  int64 \n",
      " 1   ?SG_ICAO_EMPRESA_AEREA        789907 non-null  object\n",
      " 2   NR_VOO                        789907 non-null  object\n",
      " 3   CODIGO_DI                     789907 non-null  object\n",
      " 4   CODIGO_TIPO_LINHA             789904 non-null  object\n",
      " 5   SIGLA_ICAO_AEROPORTO_ORIGEM   789907 non-null  object\n",
      " 6   SIGLA_ICAO_AEROPORTO_DESTINO  789907 non-null  object\n",
      " 7   PARTIDA_PREVISTA              771720 non-null  object\n",
      " 8   PARTIDA_REAL                  753684 non-null  object\n",
      " 9   CHEGADA_PREVISTA              771720 non-null  object\n",
      " 10  CHEGADA_REAL                  753665 non-null  object\n",
      " 11  SITUACAO_VOO                  789907 non-null  object\n",
      " 12  SIGLA_OACI_AEROPORTO_DESTINO  780971 non-null  object\n",
      " 13  DESCRICAO_AEROPORTO_DESTINO   780971 non-null  object\n",
      " 14  CIDADE_AEROPORTO_DESTINO      779435 non-null  object\n",
      " 15  UF_AEROPORTO_DESTINO          727648 non-null  object\n",
      " 16  PAIS_AEROPORTO_DESTINO        780971 non-null  object\n",
      " 17  CONTINENTE_AEROPORTO_DESTINO  780971 non-null  object\n",
      " 18  SIGLA_OACI_AEROPORTO_ORIGEM   781046 non-null  object\n",
      " 19  DESCRICAO_AEROPORTO_ORIGEM    781046 non-null  object\n",
      " 20  CIDADE_AEROPORTO_ORIGEM       779650 non-null  object\n",
      " 21  UF_AEROPORTO_ORIGEM           728009 non-null  object\n",
      " 22  PAIS_AEROPORTO_DORIGEM        781046 non-null  object\n",
      " 23  CONTINENTE_AEROPORTO_ORIGEM   781046 non-null  object\n",
      " 24  SIGLA_OACI_EMPRESAS           754369 non-null  object\n",
      " 25  NM_EMPRESAS                   754369 non-null  object\n",
      " 26  NACIONAL_OU_ESTRANGEIRA       752999 non-null  object\n",
      "dtypes: int64(1), object(26)\n",
      "memory usage: 162.7+ MB\n"
     ]
    }
   ],
   "source": [
    "dados_vooo_completo.info()"
   ],
   "metadata": {
    "collapsed": false
   }
  },
  {
   "cell_type": "code",
   "execution_count": 14,
   "outputs": [],
   "source": [
    "dados_vooo_completo['?SG_ICAO_EMPRESA_AEREA'] = dados_vooo_completo['?SG_ICAO_EMPRESA_AEREA'].astype('string')\n",
    "dados_vooo_completo['NR_VOO'] = dados_vooo_completo['NR_VOO'].astype('string')\n",
    "dados_vooo_completo['CODIGO_DI'] = dados_vooo_completo['CODIGO_DI'].astype('string')\n",
    "dados_vooo_completo['CODIGO_TIPO_LINHA'] = dados_vooo_completo['CODIGO_TIPO_LINHA'].astype('string')\n",
    "dados_vooo_completo['SIGLA_ICAO_AEROPORTO_ORIGEM'] = dados_vooo_completo['SIGLA_ICAO_AEROPORTO_ORIGEM'].astype('string')\n",
    "dados_vooo_completo['SIGLA_ICAO_AEROPORTO_DESTINO'] = dados_vooo_completo['SIGLA_ICAO_AEROPORTO_DESTINO'].astype(\n",
    "    'string')\n",
    "dados_vooo_completo['PARTIDA_PREVISTA'] = pd.to_datetime(dados_vooo_completo['PARTIDA_PREVISTA'],\n",
    "                                                         format='%Y-%m-%d %H:%M', errors='coerce')\n",
    "dados_vooo_completo['PARTIDA_REAL'] = pd.to_datetime(dados_vooo_completo['PARTIDA_REAL'], format='%Y-%m-%d %H:%M',\n",
    "                                                     errors='coerce')\n",
    "dados_vooo_completo['CHEGADA_PREVISTA'] = pd.to_datetime(dados_vooo_completo['CHEGADA_PREVISTA'],\n",
    "                                                         format='%Y-%m-%d %H:%M', errors='coerce')\n",
    "dados_vooo_completo['CHEGADA_REAL'] = pd.to_datetime(dados_vooo_completo['CHEGADA_REAL'], format='%Y-%m-%d %H:%M',\n",
    "                                                     errors='coerce')\n",
    "dados_vooo_completo['SITUACAO_VOO'] = dados_vooo_completo['SITUACAO_VOO'].astype('string')\n",
    "dados_vooo_completo['DESCRICAO_AEROPORTO_DESTINO'] = dados_vooo_completo['DESCRICAO_AEROPORTO_DESTINO'].astype('string')\n",
    "dados_vooo_completo['CIDADE_AEROPORTO_DESTINO'] = dados_vooo_completo['CIDADE_AEROPORTO_DESTINO'].astype('string')\n",
    "dados_vooo_completo['UF_AEROPORTO_DESTINO'] = dados_vooo_completo['UF_AEROPORTO_DESTINO'].astype('string')\n",
    "dados_vooo_completo['UF_AEROPORTO_ORIGEM'] = dados_vooo_completo['UF_AEROPORTO_ORIGEM'].astype('string')\n",
    "dados_vooo_completo['PAIS_AEROPORTO_DESTINO'] = dados_vooo_completo['PAIS_AEROPORTO_DESTINO'].astype('string')\n",
    "dados_vooo_completo['CONTINENTE_AEROPORTO_DESTINO'] = dados_vooo_completo['CONTINENTE_AEROPORTO_DESTINO'].astype(\n",
    "    'string')\n",
    "dados_vooo_completo['DESCRICAO_AEROPORTO_ORIGEM'] = dados_vooo_completo['DESCRICAO_AEROPORTO_ORIGEM'].astype('string')\n",
    "dados_vooo_completo['CIDADE_AEROPORTO_ORIGEM'] = dados_vooo_completo['CIDADE_AEROPORTO_ORIGEM'].astype('string')\n",
    "dados_vooo_completo['CIDADE_AEROPORTO_DESTINO'] = dados_vooo_completo['CIDADE_AEROPORTO_DESTINO'].astype('string')\n",
    "dados_vooo_completo['PAIS_AEROPORTO_DORIGEM'] = dados_vooo_completo['PAIS_AEROPORTO_DORIGEM'].astype('string')\n",
    "dados_vooo_completo['PAIS_AEROPORTO_DORIGEM'] = dados_vooo_completo['PAIS_AEROPORTO_DORIGEM'].astype('string')\n",
    "dados_vooo_completo['CONTINENTE_AEROPORTO_ORIGEM'] = dados_vooo_completo['CONTINENTE_AEROPORTO_ORIGEM'].astype('string')\n",
    "dados_vooo_completo['NM_EMPRESAS'] = dados_vooo_completo['NM_EMPRESAS'].astype('string')\n",
    "dados_vooo_completo['NACIONAL_OU_ESTRANGEIRA'] = dados_vooo_completo['NACIONAL_OU_ESTRANGEIRA'].astype('string')\n",
    "dados_vooo_completo['SIGLA_OACI_AEROPORTO_DESTINO'] = dados_vooo_completo['SIGLA_OACI_AEROPORTO_DESTINO'].astype(\n",
    "    'string')\n",
    "dados_vooo_completo['SIGLA_OACI_AEROPORTO_ORIGEM'] = dados_vooo_completo['SIGLA_OACI_AEROPORTO_ORIGEM'].astype('string')\n",
    "dados_vooo_completo['SIGLA_OACI_EMPRESAS'] = dados_vooo_completo['SIGLA_OACI_EMPRESAS'].astype('string')"
   ],
   "metadata": {
    "collapsed": false
   }
  },
  {
   "cell_type": "code",
   "execution_count": 15,
   "outputs": [
    {
     "name": "stdout",
     "output_type": "stream",
     "text": [
      "<class 'pandas.core.frame.DataFrame'>\n",
      "RangeIndex: 789907 entries, 0 to 789906\n",
      "Data columns (total 27 columns):\n",
      " #   Column                        Non-Null Count   Dtype         \n",
      "---  ------                        --------------   -----         \n",
      " 0   Unnamed: 0                    789907 non-null  int64         \n",
      " 1   ?SG_ICAO_EMPRESA_AEREA        789907 non-null  string        \n",
      " 2   NR_VOO                        789907 non-null  string        \n",
      " 3   CODIGO_DI                     789907 non-null  string        \n",
      " 4   CODIGO_TIPO_LINHA             789904 non-null  string        \n",
      " 5   SIGLA_ICAO_AEROPORTO_ORIGEM   789907 non-null  string        \n",
      " 6   SIGLA_ICAO_AEROPORTO_DESTINO  789907 non-null  string        \n",
      " 7   PARTIDA_PREVISTA              771720 non-null  datetime64[ns]\n",
      " 8   PARTIDA_REAL                  753684 non-null  datetime64[ns]\n",
      " 9   CHEGADA_PREVISTA              771720 non-null  datetime64[ns]\n",
      " 10  CHEGADA_REAL                  753665 non-null  datetime64[ns]\n",
      " 11  SITUACAO_VOO                  789907 non-null  string        \n",
      " 12  SIGLA_OACI_AEROPORTO_DESTINO  780971 non-null  string        \n",
      " 13  DESCRICAO_AEROPORTO_DESTINO   780971 non-null  string        \n",
      " 14  CIDADE_AEROPORTO_DESTINO      779435 non-null  string        \n",
      " 15  UF_AEROPORTO_DESTINO          727648 non-null  string        \n",
      " 16  PAIS_AEROPORTO_DESTINO        780971 non-null  string        \n",
      " 17  CONTINENTE_AEROPORTO_DESTINO  780971 non-null  string        \n",
      " 18  SIGLA_OACI_AEROPORTO_ORIGEM   781046 non-null  string        \n",
      " 19  DESCRICAO_AEROPORTO_ORIGEM    781046 non-null  string        \n",
      " 20  CIDADE_AEROPORTO_ORIGEM       779650 non-null  string        \n",
      " 21  UF_AEROPORTO_ORIGEM           728009 non-null  string        \n",
      " 22  PAIS_AEROPORTO_DORIGEM        781046 non-null  string        \n",
      " 23  CONTINENTE_AEROPORTO_ORIGEM   781046 non-null  string        \n",
      " 24  SIGLA_OACI_EMPRESAS           754369 non-null  string        \n",
      " 25  NM_EMPRESAS                   754369 non-null  string        \n",
      " 26  NACIONAL_OU_ESTRANGEIRA       752999 non-null  string        \n",
      "dtypes: datetime64[ns](4), int64(1), string(22)\n",
      "memory usage: 162.7 MB\n"
     ]
    }
   ],
   "source": [
    "dados_vooo_completo.info()"
   ],
   "metadata": {
    "collapsed": false
   }
  },
  {
   "cell_type": "markdown",
   "source": [
    "# Criar colunas de tempo -> Trimestre, mês, turno (Manhã, tarde, noite, madrugada)"
   ],
   "metadata": {
    "collapsed": false
   }
  },
  {
   "cell_type": "code",
   "execution_count": 54,
   "outputs": [],
   "source": [
    "colunas_tempo = ['PARTIDA_REAL', 'PARTIDA_PREVISTA', 'CHEGADA_PREVISTA', 'CHEGADA_REAL']\n",
    "traducao_dias = {'Monday': 'Segunda-feira',\n",
    "                 'Tuesday': 'Terça-feira',\n",
    "                 'Wednesday': 'Quarta-feira',\n",
    "                 'Thursday': 'Quinta-feira',\n",
    "                 'Friday': 'Sexta-feira',\n",
    "                 'Saturday': 'Sábado',\n",
    "                 'Sunday': 'Domingo'}\n",
    "mes = {\n",
    "    1.0: 'Janeiro',\n",
    "    2.0: 'Fevereiro',\n",
    "    3.0: 'Março',\n",
    "    4.0: 'Abril',\n",
    "    5.0: 'Maio',\n",
    "    6.0: 'Junho',\n",
    "    7.0: 'Julho',\n",
    "    8.0: 'Agosto',\n",
    "    9.0: 'Setembro',\n",
    "    10.0: 'Outubro',\n",
    "    11.0: 'Novembro',\n",
    "    12.0: 'Dezembro'\n",
    "}\n",
    "\n",
    "trimeste = {\n",
    "    1.0 : 'Primeiro trimestre' ,\n",
    "    2.0: 'Primeiro trimestre' ,\n",
    "    3.0: 'Primeiro trimestre' ,\n",
    "    4.0: 'Segundo trimestre' ,\n",
    "    5.0: 'Segundo trimestre' ,\n",
    "    6.0: 'Segundo trimestre' ,\n",
    "    7.0: 'Terceiro trimestre' ,\n",
    "    8.0: 'Terceiro trimestre' ,\n",
    "    9.0: 'Terceiro trimestre' ,\n",
    "    10.0: 'Quarto trimestre' ,\n",
    "    11.0: 'Quarto trimestre' ,\n",
    "    12.0: 'Quarto trimestre'\n",
    "}\n",
    "\n",
    "def turno(horario):\n",
    "    if 0.0 < horario < 6.0:\n",
    "        return 'Madrugada'\n",
    "    elif 6.0 <= horario < 12.0:\n",
    "        return 'Manhã'\n",
    "    elif 12.0 <= horario < 6.0:\n",
    "        return 'Tarde'\n",
    "    else:\n",
    "        return 'Noite'\n",
    "\n"
   ],
   "metadata": {
    "collapsed": false
   }
  },
  {
   "cell_type": "code",
   "execution_count": 55,
   "outputs": [],
   "source": [
    "for coluna_tempo in colunas_tempo:\n",
    "    dados_vooo_completo['DATA_' + coluna_tempo] = pd.to_datetime(dados_vooo_completo[coluna_tempo].dt.date)\n",
    "    dados_vooo_completo['HORA_' + coluna_tempo] = dados_vooo_completo[coluna_tempo].dt.time\n",
    "    dados_vooo_completo['DIA_SEMANA_' + coluna_tempo] = dados_vooo_completo[coluna_tempo].dt.day_name().apply(\n",
    "        lambda x: traducao_dias.get(x, 'Não Encontrado')).astype('string')\n",
    "    dados_vooo_completo['MES_' + coluna_tempo] = dados_vooo_completo[coluna_tempo].dt.month.apply(\n",
    "        lambda x: mes.get(x, 'Não Encontrado')).astype('string')\n",
    "    dados_vooo_completo['TRIMESTRE_' + coluna_tempo] = dados_vooo_completo[coluna_tempo].dt.month.apply(\n",
    "        lambda x: trimeste.get(x, 'Não Encontrado')).astype('string')\n",
    "    dados_vooo_completo['TURNO_' + coluna_tempo] = dados_vooo_completo[coluna_tempo].dt.hour.apply(turno)\n"
   ],
   "metadata": {
    "collapsed": false
   }
  },
  {
   "cell_type": "code",
   "execution_count": 61,
   "outputs": [
    {
     "data": {
      "text/plain": "   Unnamed: 0 ?SG_ICAO_EMPRESA_AEREA NR_VOO CODIGO_DI CODIGO_TIPO_LINHA  \\\n0           0                    AAL    262         0                 I   \n1           1                    AAL    263         0                 I   \n2           2                    AAL    789         2                 X   \n3           3                    AAL    790         2                 X   \n4           4                    AAL    904         0                 I   \n\n  SIGLA_ICAO_AEROPORTO_ORIGEM SIGLA_ICAO_AEROPORTO_DESTINO  \\\n0                        SBGL                         KMIA   \n1                        KMIA                         SBGL   \n2                        KMIA                         SBGR   \n3                        SBGR                         KMIA   \n4                        SBGL                         KMIA   \n\n     PARTIDA_PREVISTA        PARTIDA_REAL    CHEGADA_PREVISTA  ...  \\\n0 2022-03-01 22:30:00 2022-03-01 22:35:00 2022-03-02 07:10:00  ...   \n1 2022-03-01 00:45:00 2022-03-01 01:58:00 2022-03-01 09:05:00  ...   \n2                 NaT 2022-03-01 02:54:00                 NaT  ...   \n3                 NaT 2022-03-01 11:17:00                 NaT  ...   \n4 2022-03-01 00:05:00 2022-03-01 00:00:00 2022-03-01 08:40:00  ...   \n\n  TRIMESTRE_CHEGADA_PREVISTA DATA_CHEGADA_REAL HORA_CHEGADA_REAL  \\\n0         Primeiro trimestre        2022-03-02          07:11:00   \n1         Primeiro trimestre        2022-03-01          11:07:00   \n2             Não Encontrado        2022-03-01          11:02:00   \n3             Não Encontrado        2022-03-01          19:13:00   \n4         Primeiro trimestre        2022-03-01          08:03:00   \n\n  DIA_SEMANA_CHEGADA_REAL MES_CHEGADA_REAL TRIMESTRE_CHEGADA_REAL  \\\n0            Quarta-feira            Março     Primeiro trimestre   \n1             Terça-feira            Março     Primeiro trimestre   \n2             Terça-feira            Março     Primeiro trimestre   \n3             Terça-feira            Março     Primeiro trimestre   \n4             Terça-feira            Março     Primeiro trimestre   \n\n  TURNO_PARTIDA_REAL TURNO_PARTIDA_PREVISTA TURNO_CHEGADA_PREVISTA  \\\n0              Noite                  Noite                  Manhã   \n1          Madrugada                  Noite                  Manhã   \n2          Madrugada                  Noite                  Noite   \n3              Manhã                  Noite                  Noite   \n4              Noite                  Noite                  Manhã   \n\n  TURNO_CHEGADA_REAL  \n0              Manhã  \n1              Manhã  \n2              Manhã  \n3              Noite  \n4              Manhã  \n\n[5 rows x 51 columns]",
      "text/html": "<div>\n<style scoped>\n    .dataframe tbody tr th:only-of-type {\n        vertical-align: middle;\n    }\n\n    .dataframe tbody tr th {\n        vertical-align: top;\n    }\n\n    .dataframe thead th {\n        text-align: right;\n    }\n</style>\n<table border=\"1\" class=\"dataframe\">\n  <thead>\n    <tr style=\"text-align: right;\">\n      <th></th>\n      <th>Unnamed: 0</th>\n      <th>?SG_ICAO_EMPRESA_AEREA</th>\n      <th>NR_VOO</th>\n      <th>CODIGO_DI</th>\n      <th>CODIGO_TIPO_LINHA</th>\n      <th>SIGLA_ICAO_AEROPORTO_ORIGEM</th>\n      <th>SIGLA_ICAO_AEROPORTO_DESTINO</th>\n      <th>PARTIDA_PREVISTA</th>\n      <th>PARTIDA_REAL</th>\n      <th>CHEGADA_PREVISTA</th>\n      <th>...</th>\n      <th>TRIMESTRE_CHEGADA_PREVISTA</th>\n      <th>DATA_CHEGADA_REAL</th>\n      <th>HORA_CHEGADA_REAL</th>\n      <th>DIA_SEMANA_CHEGADA_REAL</th>\n      <th>MES_CHEGADA_REAL</th>\n      <th>TRIMESTRE_CHEGADA_REAL</th>\n      <th>TURNO_PARTIDA_REAL</th>\n      <th>TURNO_PARTIDA_PREVISTA</th>\n      <th>TURNO_CHEGADA_PREVISTA</th>\n      <th>TURNO_CHEGADA_REAL</th>\n    </tr>\n  </thead>\n  <tbody>\n    <tr>\n      <th>0</th>\n      <td>0</td>\n      <td>AAL</td>\n      <td>262</td>\n      <td>0</td>\n      <td>I</td>\n      <td>SBGL</td>\n      <td>KMIA</td>\n      <td>2022-03-01 22:30:00</td>\n      <td>2022-03-01 22:35:00</td>\n      <td>2022-03-02 07:10:00</td>\n      <td>...</td>\n      <td>Primeiro trimestre</td>\n      <td>2022-03-02</td>\n      <td>07:11:00</td>\n      <td>Quarta-feira</td>\n      <td>Março</td>\n      <td>Primeiro trimestre</td>\n      <td>Noite</td>\n      <td>Noite</td>\n      <td>Manhã</td>\n      <td>Manhã</td>\n    </tr>\n    <tr>\n      <th>1</th>\n      <td>1</td>\n      <td>AAL</td>\n      <td>263</td>\n      <td>0</td>\n      <td>I</td>\n      <td>KMIA</td>\n      <td>SBGL</td>\n      <td>2022-03-01 00:45:00</td>\n      <td>2022-03-01 01:58:00</td>\n      <td>2022-03-01 09:05:00</td>\n      <td>...</td>\n      <td>Primeiro trimestre</td>\n      <td>2022-03-01</td>\n      <td>11:07:00</td>\n      <td>Terça-feira</td>\n      <td>Março</td>\n      <td>Primeiro trimestre</td>\n      <td>Madrugada</td>\n      <td>Noite</td>\n      <td>Manhã</td>\n      <td>Manhã</td>\n    </tr>\n    <tr>\n      <th>2</th>\n      <td>2</td>\n      <td>AAL</td>\n      <td>789</td>\n      <td>2</td>\n      <td>X</td>\n      <td>KMIA</td>\n      <td>SBGR</td>\n      <td>NaT</td>\n      <td>2022-03-01 02:54:00</td>\n      <td>NaT</td>\n      <td>...</td>\n      <td>Não Encontrado</td>\n      <td>2022-03-01</td>\n      <td>11:02:00</td>\n      <td>Terça-feira</td>\n      <td>Março</td>\n      <td>Primeiro trimestre</td>\n      <td>Madrugada</td>\n      <td>Noite</td>\n      <td>Noite</td>\n      <td>Manhã</td>\n    </tr>\n    <tr>\n      <th>3</th>\n      <td>3</td>\n      <td>AAL</td>\n      <td>790</td>\n      <td>2</td>\n      <td>X</td>\n      <td>SBGR</td>\n      <td>KMIA</td>\n      <td>NaT</td>\n      <td>2022-03-01 11:17:00</td>\n      <td>NaT</td>\n      <td>...</td>\n      <td>Não Encontrado</td>\n      <td>2022-03-01</td>\n      <td>19:13:00</td>\n      <td>Terça-feira</td>\n      <td>Março</td>\n      <td>Primeiro trimestre</td>\n      <td>Manhã</td>\n      <td>Noite</td>\n      <td>Noite</td>\n      <td>Noite</td>\n    </tr>\n    <tr>\n      <th>4</th>\n      <td>4</td>\n      <td>AAL</td>\n      <td>904</td>\n      <td>0</td>\n      <td>I</td>\n      <td>SBGL</td>\n      <td>KMIA</td>\n      <td>2022-03-01 00:05:00</td>\n      <td>2022-03-01 00:00:00</td>\n      <td>2022-03-01 08:40:00</td>\n      <td>...</td>\n      <td>Primeiro trimestre</td>\n      <td>2022-03-01</td>\n      <td>08:03:00</td>\n      <td>Terça-feira</td>\n      <td>Março</td>\n      <td>Primeiro trimestre</td>\n      <td>Noite</td>\n      <td>Noite</td>\n      <td>Manhã</td>\n      <td>Manhã</td>\n    </tr>\n  </tbody>\n</table>\n<p>5 rows × 51 columns</p>\n</div>"
     },
     "execution_count": 61,
     "metadata": {},
     "output_type": "execute_result"
    }
   ],
   "source": [
    "dados_vooo_completo.head()"
   ],
   "metadata": {
    "collapsed": false
   }
  },
  {
   "cell_type": "markdown",
   "source": [
    "# quantos vôos cancelados, atrasado, Realizados, -> Filtrar por nome de compania, aeroporto, mês ano"
   ],
   "metadata": {
    "collapsed": false
   }
  },
  {
   "cell_type": "markdown",
   "source": [
    "<h6>Total Vôos Empresas</h6>"
   ],
   "metadata": {
    "collapsed": false
   }
  },
  {
   "cell_type": "code",
   "execution_count": 75,
   "outputs": [
    {
     "data": {
      "text/plain": "                                          NM_EMPRESAS  TOTAL_VOOS_EMPRESAS\n14                                               AZUL               267412\n43                                                TAM               203965\n23                                                GOL               184351\n37                                          PASSAREDO                13643\n46                                   TAP AIR PORTUGAL                 6487\n18                COPA -COMPANIA PANAMENA DE AVIACION                 6335\n2                               AEROLINEAS ARGENTINAS                 5884\n34                                  MAP LINHAS AEREAS                 5213\n29                                          LAN CHILE                 4410\n1                                                ABSA                 4308\n38                                      QATAR AIRWAYS                 4098\n10                              AMERICAN AIRLINES INC                 3503\n49                                    UNITED AIRLINES                 2766\n12                                            AVIANCA                 2726\n47                                              TOTAL                 2664\n21                                ETHIOPIAN AIR LINES                 2433\n28                                      LAN CARGO S.A                 2283\n11                                      ATLAS AIR INC                 2085\n9                                          AIR FRANCE                 2043\n16                                BRITISH AIRWAYS PLC                 1766\n48                              TURKISH AIRLINES INC.                 1424\n31              LINEA AEREA CARGUERA DE COLOMBIA S.A.                 1408\n6                                          AIR CANADA                 1401\n26                           KLM ROYAL DUTCH AIRLINES                 1381\n36                                    MODERN TRANSPOR                 1370\n44                        TAM TRANSP.AÂR.DEL.MERCOS.                 1355\n50                              UNITED PARCEL SERVICE                 1247\n33                                 LUFTHANSA CARGO AG                 1193\n35                             MARTINAIR HOLLAND N.V.                 1190\n17                                  CARGOLUX AIRLINES                 1136\n32                                          LUFTHANSA                 1103\n45                                          TAMPA S/A                 1051\n19                                     DELTA AIRLINES                 1022\n27                                    KOREAN AIRLINES                 1019\n20                                           EMIRATES                  943\n30                                       LAN PERU S/A                  933\n15                              BOLIVIANA DE AVIACION                  920\n24                                             IBERIA                  875\n41                                           SWISSAIR                  867\n3                                          AEROMEXICO                  812\n22                                    FEDERAL EXPRESS                  800\n8                                      AIR EUROPA S/A                  629\n0                                              ABAETE                  616\n42                       TAAG LINHAS AEREAS DE ANGOLA                  432\n25                                    KALITTA AIR LLC                  302\n4           AEROTRANSPORTES MAS DE CARGA S.A. DE C.V.                  232\n5                               AIR ATLANTA ICELANDIC                  148\n7                                           AIR CHINA                   96\n40                                    SURINAM AIRWAYS                   82\n13                                  AVIOR AIRLINES CA                    4\n39  SATA INTERNACIONAL - SERVIÃOS E TRANSPORTES A...                    3",
      "text/html": "<div>\n<style scoped>\n    .dataframe tbody tr th:only-of-type {\n        vertical-align: middle;\n    }\n\n    .dataframe tbody tr th {\n        vertical-align: top;\n    }\n\n    .dataframe thead th {\n        text-align: right;\n    }\n</style>\n<table border=\"1\" class=\"dataframe\">\n  <thead>\n    <tr style=\"text-align: right;\">\n      <th></th>\n      <th>NM_EMPRESAS</th>\n      <th>TOTAL_VOOS_EMPRESAS</th>\n    </tr>\n  </thead>\n  <tbody>\n    <tr>\n      <th>14</th>\n      <td>AZUL</td>\n      <td>267412</td>\n    </tr>\n    <tr>\n      <th>43</th>\n      <td>TAM</td>\n      <td>203965</td>\n    </tr>\n    <tr>\n      <th>23</th>\n      <td>GOL</td>\n      <td>184351</td>\n    </tr>\n    <tr>\n      <th>37</th>\n      <td>PASSAREDO</td>\n      <td>13643</td>\n    </tr>\n    <tr>\n      <th>46</th>\n      <td>TAP AIR PORTUGAL</td>\n      <td>6487</td>\n    </tr>\n    <tr>\n      <th>18</th>\n      <td>COPA -COMPANIA PANAMENA DE AVIACION</td>\n      <td>6335</td>\n    </tr>\n    <tr>\n      <th>2</th>\n      <td>AEROLINEAS ARGENTINAS</td>\n      <td>5884</td>\n    </tr>\n    <tr>\n      <th>34</th>\n      <td>MAP LINHAS AEREAS</td>\n      <td>5213</td>\n    </tr>\n    <tr>\n      <th>29</th>\n      <td>LAN CHILE</td>\n      <td>4410</td>\n    </tr>\n    <tr>\n      <th>1</th>\n      <td>ABSA</td>\n      <td>4308</td>\n    </tr>\n    <tr>\n      <th>38</th>\n      <td>QATAR AIRWAYS</td>\n      <td>4098</td>\n    </tr>\n    <tr>\n      <th>10</th>\n      <td>AMERICAN AIRLINES INC</td>\n      <td>3503</td>\n    </tr>\n    <tr>\n      <th>49</th>\n      <td>UNITED AIRLINES</td>\n      <td>2766</td>\n    </tr>\n    <tr>\n      <th>12</th>\n      <td>AVIANCA</td>\n      <td>2726</td>\n    </tr>\n    <tr>\n      <th>47</th>\n      <td>TOTAL</td>\n      <td>2664</td>\n    </tr>\n    <tr>\n      <th>21</th>\n      <td>ETHIOPIAN AIR LINES</td>\n      <td>2433</td>\n    </tr>\n    <tr>\n      <th>28</th>\n      <td>LAN CARGO S.A</td>\n      <td>2283</td>\n    </tr>\n    <tr>\n      <th>11</th>\n      <td>ATLAS AIR INC</td>\n      <td>2085</td>\n    </tr>\n    <tr>\n      <th>9</th>\n      <td>AIR FRANCE</td>\n      <td>2043</td>\n    </tr>\n    <tr>\n      <th>16</th>\n      <td>BRITISH AIRWAYS PLC</td>\n      <td>1766</td>\n    </tr>\n    <tr>\n      <th>48</th>\n      <td>TURKISH AIRLINES INC.</td>\n      <td>1424</td>\n    </tr>\n    <tr>\n      <th>31</th>\n      <td>LINEA AEREA CARGUERA DE COLOMBIA S.A.</td>\n      <td>1408</td>\n    </tr>\n    <tr>\n      <th>6</th>\n      <td>AIR CANADA</td>\n      <td>1401</td>\n    </tr>\n    <tr>\n      <th>26</th>\n      <td>KLM ROYAL DUTCH AIRLINES</td>\n      <td>1381</td>\n    </tr>\n    <tr>\n      <th>36</th>\n      <td>MODERN TRANSPOR</td>\n      <td>1370</td>\n    </tr>\n    <tr>\n      <th>44</th>\n      <td>TAM TRANSP.AÂR.DEL.MERCOS.</td>\n      <td>1355</td>\n    </tr>\n    <tr>\n      <th>50</th>\n      <td>UNITED PARCEL SERVICE</td>\n      <td>1247</td>\n    </tr>\n    <tr>\n      <th>33</th>\n      <td>LUFTHANSA CARGO AG</td>\n      <td>1193</td>\n    </tr>\n    <tr>\n      <th>35</th>\n      <td>MARTINAIR HOLLAND N.V.</td>\n      <td>1190</td>\n    </tr>\n    <tr>\n      <th>17</th>\n      <td>CARGOLUX AIRLINES</td>\n      <td>1136</td>\n    </tr>\n    <tr>\n      <th>32</th>\n      <td>LUFTHANSA</td>\n      <td>1103</td>\n    </tr>\n    <tr>\n      <th>45</th>\n      <td>TAMPA S/A</td>\n      <td>1051</td>\n    </tr>\n    <tr>\n      <th>19</th>\n      <td>DELTA AIRLINES</td>\n      <td>1022</td>\n    </tr>\n    <tr>\n      <th>27</th>\n      <td>KOREAN AIRLINES</td>\n      <td>1019</td>\n    </tr>\n    <tr>\n      <th>20</th>\n      <td>EMIRATES</td>\n      <td>943</td>\n    </tr>\n    <tr>\n      <th>30</th>\n      <td>LAN PERU S/A</td>\n      <td>933</td>\n    </tr>\n    <tr>\n      <th>15</th>\n      <td>BOLIVIANA DE AVIACION</td>\n      <td>920</td>\n    </tr>\n    <tr>\n      <th>24</th>\n      <td>IBERIA</td>\n      <td>875</td>\n    </tr>\n    <tr>\n      <th>41</th>\n      <td>SWISSAIR</td>\n      <td>867</td>\n    </tr>\n    <tr>\n      <th>3</th>\n      <td>AEROMEXICO</td>\n      <td>812</td>\n    </tr>\n    <tr>\n      <th>22</th>\n      <td>FEDERAL EXPRESS</td>\n      <td>800</td>\n    </tr>\n    <tr>\n      <th>8</th>\n      <td>AIR EUROPA S/A</td>\n      <td>629</td>\n    </tr>\n    <tr>\n      <th>0</th>\n      <td>ABAETE</td>\n      <td>616</td>\n    </tr>\n    <tr>\n      <th>42</th>\n      <td>TAAG LINHAS AEREAS DE ANGOLA</td>\n      <td>432</td>\n    </tr>\n    <tr>\n      <th>25</th>\n      <td>KALITTA AIR LLC</td>\n      <td>302</td>\n    </tr>\n    <tr>\n      <th>4</th>\n      <td>AEROTRANSPORTES MAS DE CARGA S.A. DE C.V.</td>\n      <td>232</td>\n    </tr>\n    <tr>\n      <th>5</th>\n      <td>AIR ATLANTA ICELANDIC</td>\n      <td>148</td>\n    </tr>\n    <tr>\n      <th>7</th>\n      <td>AIR CHINA</td>\n      <td>96</td>\n    </tr>\n    <tr>\n      <th>40</th>\n      <td>SURINAM AIRWAYS</td>\n      <td>82</td>\n    </tr>\n    <tr>\n      <th>13</th>\n      <td>AVIOR AIRLINES CA</td>\n      <td>4</td>\n    </tr>\n    <tr>\n      <th>39</th>\n      <td>SATA INTERNACIONAL - SERVIÃOS E TRANSPORTES A...</td>\n      <td>3</td>\n    </tr>\n  </tbody>\n</table>\n</div>"
     },
     "execution_count": 75,
     "metadata": {},
     "output_type": "execute_result"
    }
   ],
   "source": [
    "total_voos_registrados = dados_vooo_completo.groupby(['NM_EMPRESAS'])['NM_EMPRESAS'].count()\n",
    "total_voos_registrados = total_voos_registrados.rename_axis('index').reset_index()\n",
    "total_voos_registrados.rename(\n",
    "    columns={\n",
    "        'index': 'NM_EMPRESAS',\n",
    "        'NM_EMPRESAS': 'TOTAL_VOOS_EMPRESAS'\n",
    "    },\n",
    "    inplace=True\n",
    ")\n",
    "total_voos_registrados.sort_values(by='TOTAL_VOOS_EMPRESAS', ascending=False)"
   ],
   "metadata": {
    "collapsed": false
   }
  },
  {
   "cell_type": "code",
   "execution_count": 58,
   "outputs": [
    {
     "data": {
      "text/plain": "     SITUACAO_VOO   TOTAL  PERCENTUAL\n0       CANCELADO   35654    4.513696\n1  NÃO INFORMADO     567    0.071781\n2       REALIZADO  753686   95.414523",
      "text/html": "<div>\n<style scoped>\n    .dataframe tbody tr th:only-of-type {\n        vertical-align: middle;\n    }\n\n    .dataframe tbody tr th {\n        vertical-align: top;\n    }\n\n    .dataframe thead th {\n        text-align: right;\n    }\n</style>\n<table border=\"1\" class=\"dataframe\">\n  <thead>\n    <tr style=\"text-align: right;\">\n      <th></th>\n      <th>SITUACAO_VOO</th>\n      <th>TOTAL</th>\n      <th>PERCENTUAL</th>\n    </tr>\n  </thead>\n  <tbody>\n    <tr>\n      <th>0</th>\n      <td>CANCELADO</td>\n      <td>35654</td>\n      <td>4.513696</td>\n    </tr>\n    <tr>\n      <th>1</th>\n      <td>NÃO INFORMADO</td>\n      <td>567</td>\n      <td>0.071781</td>\n    </tr>\n    <tr>\n      <th>2</th>\n      <td>REALIZADO</td>\n      <td>753686</td>\n      <td>95.414523</td>\n    </tr>\n  </tbody>\n</table>\n</div>"
     },
     "execution_count": 58,
     "metadata": {},
     "output_type": "execute_result"
    }
   ],
   "source": [
    "total_voos = dados_vooo_completo.groupby(['SITUACAO_VOO'])['SITUACAO_VOO'].count()\n",
    "total_voos = total_voos.rename_axis('index').reset_index()\n",
    "total_voos.rename(\n",
    "    columns={\n",
    "        'index': 'SITUACAO_VOO',\n",
    "        'SITUACAO_VOO': 'TOTAL'}\n",
    "    , inplace=True\n",
    ")\n",
    "total_voos['PERCENTUAL'] = total_voos['TOTAL'] * 100 / total_voos_registrados\n",
    "total_voos"
   ],
   "metadata": {
    "collapsed": false
   }
  },
  {
   "cell_type": "code",
   "execution_count": 110,
   "outputs": [
    {
     "data": {
      "text/plain": "<StringArray>\n['ESTRANGEIRA', 'BRASILEIRA', <NA>]\nLength: 3, dtype: string"
     },
     "execution_count": 110,
     "metadata": {},
     "output_type": "execute_result"
    }
   ],
   "source": [
    "dados_vooo_completo.head()"
   ],
   "metadata": {
    "collapsed": false
   }
  },
  {
   "cell_type": "code",
   "execution_count": 111,
   "outputs": [
    {
     "data": {
      "text/plain": "NM_EMPRESAS\nABAETE                 116\nABSA                   848\nAZUL                 10064\nGOL                   2179\nMAP LINHAS AEREAS      939\nPASSAREDO             2685\nTAM                   3294\nTOTAL                  324\nName: SITUACAO_VOO, dtype: int64"
     },
     "execution_count": 111,
     "metadata": {},
     "output_type": "execute_result"
    }
   ],
   "source": [
    "df_filtrado = dados_vooo_completo[(dados_vooo_completo['SITUACAO_VOO'] == 'CANCELADO') & (dados_vooo_completo['NACIONAL_OU_ESTRANGEIRA'] == 'BRASILEIRA')]\n",
    "df_filtrado.groupby(['NM_EMPRESAS'])['SITUACAO_VOO'].count()"
   ],
   "metadata": {
    "collapsed": false
   }
  },
  {
   "cell_type": "code",
   "execution_count": 91,
   "outputs": [
    {
     "data": {
      "text/plain": "NM_EMPRESAS\nABAETE                                                         116\nABSA                                                           848\nAEROLINEAS ARGENTINAS                                          821\nAEROMEXICO                                                      15\nAEROTRANSPORTES MAS DE CARGA S.A. DE C.V.                       46\nAIR ATLANTA ICELANDIC                                           49\nAIR CANADA                                                      97\nAIR CHINA                                                       96\nAIR EUROPA S/A                                                  10\nAIR FRANCE                                                      90\nAMERICAN AIRLINES INC                                          750\nATLAS AIR INC                                                  475\nAVIANCA                                                        314\nAZUL                                                         10064\nBOLIVIANA DE AVIACION                                           59\nBRITISH AIRWAYS PLC                                            119\nCARGOLUX AIRLINES                                              211\nCOPA -COMPANIA PANAMENA DE AVIACION                            106\nDELTA AIRLINES                                                  16\nEMIRATES                                                        61\nETHIOPIAN AIR LINES                                           1008\nFEDERAL EXPRESS                                                 71\nGOL                                                           2179\nIBERIA                                                         183\nKALITTA AIR LLC                                                122\nKLM ROYAL DUTCH AIRLINES                                       128\nKOREAN AIRLINES                                                 36\nLAN CARGO S.A                                                  211\nLAN CHILE                                                      194\nLAN PERU S/A                                                    14\nLINEA AEREA CARGUERA DE COLOMBIA S.A.                          188\nLUFTHANSA                                                       11\nLUFTHANSA CARGO AG                                              48\nMAP LINHAS AEREAS                                              939\nMARTINAIR HOLLAND N.V.                                         208\nMODERN TRANSPOR                                                 75\nPASSAREDO                                                     2685\nQATAR AIRWAYS                                                 2195\nSATA INTERNACIONAL - SERVIÃOS E TRANSPORTES AÃREOS S.A.        2\nSWISSAIR                                                         6\nTAAG LINHAS AEREAS DE ANGOLA                                    91\nTAM                                                           3294\nTAM TRANSP.AÂR.DEL.MERCOS.                                    359\nTAMPA S/A                                                      154\nTAP AIR PORTUGAL                                               101\nTOTAL                                                          324\nTURKISH AIRLINES INC.                                          111\nUNITED AIRLINES                                                 43\nUNITED PARCEL SERVICE                                           37\nName: NM_EMPRESAS, dtype: int64"
     },
     "execution_count": 91,
     "metadata": {},
     "output_type": "execute_result"
    }
   ],
   "source": [
    " df_situacao_voo.g"
   ],
   "metadata": {
    "collapsed": false
   }
  }
 ],
 "metadata": {
  "kernelspec": {
   "display_name": "Python 3",
   "language": "python",
   "name": "python3"
  },
  "language_info": {
   "codemirror_mode": {
    "name": "ipython",
    "version": 2
   },
   "file_extension": ".py",
   "mimetype": "text/x-python",
   "name": "python",
   "nbconvert_exporter": "python",
   "pygments_lexer": "ipython2",
   "version": "2.7.6"
  }
 },
 "nbformat": 4,
 "nbformat_minor": 0
}
