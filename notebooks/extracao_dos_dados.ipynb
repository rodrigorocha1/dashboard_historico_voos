{
 "cells": [
  {
   "cell_type": "code",
   "execution_count": 1,
   "metadata": {
    "collapsed": true
   },
   "outputs": [],
   "source": [
    "import os\n",
    "import pandas as pd\n",
    "import zipfile"
   ]
  },
  {
   "cell_type": "code",
   "execution_count": 3,
   "outputs": [
    {
     "data": {
      "text/plain": "'F:\\\\projetos\\\\historico_voos'"
     },
     "execution_count": 3,
     "metadata": {},
     "output_type": "execute_result"
    }
   ],
   "source": [
    "os.getcwd()\n",
    "os.chdir('F:\\projetos\\historico_voos')\n",
    "os.getcwd()"
   ],
   "metadata": {
    "collapsed": false
   }
  },
  {
   "cell_type": "code",
   "execution_count": 4,
   "outputs": [],
   "source": [
    "caminho = os.getcwd() + '\\\\data\\\\processed\\\\df_dados_voo_completo.zip'"
   ],
   "metadata": {
    "collapsed": false
   }
  },
  {
   "cell_type": "code",
   "execution_count": 5,
   "outputs": [
    {
     "name": "stdout",
     "output_type": "stream",
     "text": [
      "df_dados_voo_completo.csv\n"
     ]
    },
    {
     "name": "stderr",
     "output_type": "stream",
     "text": [
      "F:\\projetos\\historico_voos\\venv\\lib\\site-packages\\IPython\\core\\interactiveshell.py:3258: DtypeWarning: Columns (3) have mixed types.Specify dtype option on import or set low_memory=False.\n",
      "  interactivity=interactivity, compiler=compiler, result=result)\n"
     ]
    }
   ],
   "source": [
    "with zipfile.ZipFile(caminho) as z:\n",
    "    print(*z.namelist(), sep='\\n')\n",
    "    with z.open('df_dados_voo_completo.csv') as df:\n",
    "        dados_voo = pd.read_csv(df, sep=';', encoding='ISO-8859-1')\n",
    "\n"
   ],
   "metadata": {
    "collapsed": false
   }
  },
  {
   "cell_type": "code",
   "execution_count": 6,
   "outputs": [
    {
     "name": "stderr",
     "output_type": "stream",
     "text": [
      "F:\\projetos\\historico_voos\\venv\\lib\\site-packages\\IPython\\core\\interactiveshell.py:3258: DtypeWarning: Columns (3) have mixed types.Specify dtype option on import or set low_memory=False.\n",
      "  interactivity=interactivity, compiler=compiler, result=result)\n"
     ]
    }
   ],
   "source": [
    "dados_voo = pd.read_csv(caminho, sep=';', encoding='ISO-8859-1')"
   ],
   "metadata": {
    "collapsed": false
   }
  },
  {
   "cell_type": "code",
   "execution_count": 7,
   "outputs": [
    {
     "data": {
      "text/plain": "(789907, 27)"
     },
     "execution_count": 7,
     "metadata": {},
     "output_type": "execute_result"
    }
   ],
   "source": [
    "dados_voo.shape"
   ],
   "metadata": {
    "collapsed": false
   }
  },
  {
   "cell_type": "code",
   "execution_count": 8,
   "outputs": [
    {
     "data": {
      "text/plain": "   Unnamed: 0 ?SG_ICAO_EMPRESA_AEREA NR_VOO CODIGO_DI CODIGO_TIPO_LINHA  \\\n0           0                    AAL    262         0                 I   \n1           1                    AAL    263         0                 I   \n2           2                    AAL    789         2                 X   \n3           3                    AAL    790         2                 X   \n4           4                    AAL    904         0                 I   \n\n  SIGLA_ICAO_AEROPORTO_ORIGEM SIGLA_ICAO_AEROPORTO_DESTINO  \\\n0                        SBGL                         KMIA   \n1                        KMIA                         SBGL   \n2                        KMIA                         SBGR   \n3                        SBGR                         KMIA   \n4                        SBGL                         KMIA   \n\n      PARTIDA_PREVISTA         PARTIDA_REAL     CHEGADA_PREVISTA  ...  \\\n0  2022-03-01 22:30:00  2022-03-01 22:35:00  2022-03-02 07:10:00  ...   \n1  2022-03-01 00:45:00  2022-03-01 01:58:00  2022-03-01 09:05:00  ...   \n2                  NaN  2022-03-01 02:54:00                  NaN  ...   \n3                  NaN  2022-03-01 11:17:00                  NaN  ...   \n4  2022-03-01 00:05:00  2022-03-01 00:00:00  2022-03-01 08:40:00  ...   \n\n  CONTINENTE_AEROPORTO_DESTINO SIGLA_OACI_AEROPORTO_ORIGEM  \\\n0             AMERICA DO NORTE                        SBGL   \n1               AMERICA DO SUL                        KMIA   \n2               AMERICA DO SUL                        KMIA   \n3             AMERICA DO NORTE                        SBGR   \n4             AMERICA DO NORTE                        SBGL   \n\n                          DESCRICAO_AEROPORTO_ORIGEM CIDADE_AEROPORTO_ORIGEM  \\\n0  AEROPORTO INTERNACIONAL DO RIO DE JANEIRO/GALE...          RIO DE JANEIRO   \n1                        MIAMI INTERNATIONAL AIRPORT                   MIAMI   \n2                        MIAMI INTERNATIONAL AIRPORT                   MIAMI   \n3       GUARULHOS - GOVERNADOR ANDRÃ FRANCO MONTORO               GUARULHOS   \n4  AEROPORTO INTERNACIONAL DO RIO DE JANEIRO/GALE...          RIO DE JANEIRO   \n\n  UF_AEROPORTO_ORIGEM     PAIS_AEROPORTO_DORIGEM CONTINENTE_AEROPORTO_ORIGEM  \\\n0                  RJ                     BRASIL              AMERICA DO SUL   \n1                 NaN  ESTADOS UNIDOS DA AMERICA            AMERICA DO NORTE   \n2                 NaN  ESTADOS UNIDOS DA AMERICA            AMERICA DO NORTE   \n3                  SP                     BRASIL              AMERICA DO SUL   \n4                  RJ                     BRASIL              AMERICA DO SUL   \n\n  SIGLA_OACI_EMPRESAS            NM_EMPRESAS NACIONAL_OU_ESTRANGEIRA  \n0                 AAL  AMERICAN AIRLINES INC             ESTRANGEIRA  \n1                 AAL  AMERICAN AIRLINES INC             ESTRANGEIRA  \n2                 AAL  AMERICAN AIRLINES INC             ESTRANGEIRA  \n3                 AAL  AMERICAN AIRLINES INC             ESTRANGEIRA  \n4                 AAL  AMERICAN AIRLINES INC             ESTRANGEIRA  \n\n[5 rows x 27 columns]",
      "text/html": "<div>\n<style scoped>\n    .dataframe tbody tr th:only-of-type {\n        vertical-align: middle;\n    }\n\n    .dataframe tbody tr th {\n        vertical-align: top;\n    }\n\n    .dataframe thead th {\n        text-align: right;\n    }\n</style>\n<table border=\"1\" class=\"dataframe\">\n  <thead>\n    <tr style=\"text-align: right;\">\n      <th></th>\n      <th>Unnamed: 0</th>\n      <th>?SG_ICAO_EMPRESA_AEREA</th>\n      <th>NR_VOO</th>\n      <th>CODIGO_DI</th>\n      <th>CODIGO_TIPO_LINHA</th>\n      <th>SIGLA_ICAO_AEROPORTO_ORIGEM</th>\n      <th>SIGLA_ICAO_AEROPORTO_DESTINO</th>\n      <th>PARTIDA_PREVISTA</th>\n      <th>PARTIDA_REAL</th>\n      <th>CHEGADA_PREVISTA</th>\n      <th>...</th>\n      <th>CONTINENTE_AEROPORTO_DESTINO</th>\n      <th>SIGLA_OACI_AEROPORTO_ORIGEM</th>\n      <th>DESCRICAO_AEROPORTO_ORIGEM</th>\n      <th>CIDADE_AEROPORTO_ORIGEM</th>\n      <th>UF_AEROPORTO_ORIGEM</th>\n      <th>PAIS_AEROPORTO_DORIGEM</th>\n      <th>CONTINENTE_AEROPORTO_ORIGEM</th>\n      <th>SIGLA_OACI_EMPRESAS</th>\n      <th>NM_EMPRESAS</th>\n      <th>NACIONAL_OU_ESTRANGEIRA</th>\n    </tr>\n  </thead>\n  <tbody>\n    <tr>\n      <th>0</th>\n      <td>0</td>\n      <td>AAL</td>\n      <td>262</td>\n      <td>0</td>\n      <td>I</td>\n      <td>SBGL</td>\n      <td>KMIA</td>\n      <td>2022-03-01 22:30:00</td>\n      <td>2022-03-01 22:35:00</td>\n      <td>2022-03-02 07:10:00</td>\n      <td>...</td>\n      <td>AMERICA DO NORTE</td>\n      <td>SBGL</td>\n      <td>AEROPORTO INTERNACIONAL DO RIO DE JANEIRO/GALE...</td>\n      <td>RIO DE JANEIRO</td>\n      <td>RJ</td>\n      <td>BRASIL</td>\n      <td>AMERICA DO SUL</td>\n      <td>AAL</td>\n      <td>AMERICAN AIRLINES INC</td>\n      <td>ESTRANGEIRA</td>\n    </tr>\n    <tr>\n      <th>1</th>\n      <td>1</td>\n      <td>AAL</td>\n      <td>263</td>\n      <td>0</td>\n      <td>I</td>\n      <td>KMIA</td>\n      <td>SBGL</td>\n      <td>2022-03-01 00:45:00</td>\n      <td>2022-03-01 01:58:00</td>\n      <td>2022-03-01 09:05:00</td>\n      <td>...</td>\n      <td>AMERICA DO SUL</td>\n      <td>KMIA</td>\n      <td>MIAMI INTERNATIONAL AIRPORT</td>\n      <td>MIAMI</td>\n      <td>NaN</td>\n      <td>ESTADOS UNIDOS DA AMERICA</td>\n      <td>AMERICA DO NORTE</td>\n      <td>AAL</td>\n      <td>AMERICAN AIRLINES INC</td>\n      <td>ESTRANGEIRA</td>\n    </tr>\n    <tr>\n      <th>2</th>\n      <td>2</td>\n      <td>AAL</td>\n      <td>789</td>\n      <td>2</td>\n      <td>X</td>\n      <td>KMIA</td>\n      <td>SBGR</td>\n      <td>NaN</td>\n      <td>2022-03-01 02:54:00</td>\n      <td>NaN</td>\n      <td>...</td>\n      <td>AMERICA DO SUL</td>\n      <td>KMIA</td>\n      <td>MIAMI INTERNATIONAL AIRPORT</td>\n      <td>MIAMI</td>\n      <td>NaN</td>\n      <td>ESTADOS UNIDOS DA AMERICA</td>\n      <td>AMERICA DO NORTE</td>\n      <td>AAL</td>\n      <td>AMERICAN AIRLINES INC</td>\n      <td>ESTRANGEIRA</td>\n    </tr>\n    <tr>\n      <th>3</th>\n      <td>3</td>\n      <td>AAL</td>\n      <td>790</td>\n      <td>2</td>\n      <td>X</td>\n      <td>SBGR</td>\n      <td>KMIA</td>\n      <td>NaN</td>\n      <td>2022-03-01 11:17:00</td>\n      <td>NaN</td>\n      <td>...</td>\n      <td>AMERICA DO NORTE</td>\n      <td>SBGR</td>\n      <td>GUARULHOS - GOVERNADOR ANDRÃ FRANCO MONTORO</td>\n      <td>GUARULHOS</td>\n      <td>SP</td>\n      <td>BRASIL</td>\n      <td>AMERICA DO SUL</td>\n      <td>AAL</td>\n      <td>AMERICAN AIRLINES INC</td>\n      <td>ESTRANGEIRA</td>\n    </tr>\n    <tr>\n      <th>4</th>\n      <td>4</td>\n      <td>AAL</td>\n      <td>904</td>\n      <td>0</td>\n      <td>I</td>\n      <td>SBGL</td>\n      <td>KMIA</td>\n      <td>2022-03-01 00:05:00</td>\n      <td>2022-03-01 00:00:00</td>\n      <td>2022-03-01 08:40:00</td>\n      <td>...</td>\n      <td>AMERICA DO NORTE</td>\n      <td>SBGL</td>\n      <td>AEROPORTO INTERNACIONAL DO RIO DE JANEIRO/GALE...</td>\n      <td>RIO DE JANEIRO</td>\n      <td>RJ</td>\n      <td>BRASIL</td>\n      <td>AMERICA DO SUL</td>\n      <td>AAL</td>\n      <td>AMERICAN AIRLINES INC</td>\n      <td>ESTRANGEIRA</td>\n    </tr>\n  </tbody>\n</table>\n<p>5 rows × 27 columns</p>\n</div>"
     },
     "execution_count": 8,
     "metadata": {},
     "output_type": "execute_result"
    }
   ],
   "source": [
    "dados_voo.head(5)"
   ],
   "metadata": {
    "collapsed": false
   }
  },
  {
   "cell_type": "code",
   "execution_count": 33,
   "outputs": [
    {
     "data": {
      "text/plain": "   Unnamed: 0 SIGLA_OACI_AEROPORTO_DESTINO  \\\n0         NaN                         1AON   \n1         NaN                         2NHT   \n2         NaN                         6ASO   \n3         NaN                         CYMX   \n4         NaN                         CYQB   \n\n                     DESCRICAO_AEROPORTO_DESTINO CIDADE_AEROPORTO_DESTINO  \\\n0                            OUROLANDIA DO NORTE      OURILANDIA DO NORTE   \n1                             HOTEL TRANSAMÉRICA                     UNA    \n2                                        SORRISO                  SORRISO   \n3         MONTREAL-MIRABEL INTERNATIONAL AIRPORT                  MIRABEL   \n4  QUEBEC CITY JEAN LESAGE INTERNATIONAL AIRPORT  QUEBEC JEAN LESAGE INTL   \n\n  UF_AEROPORTO_DESTINO PAIS_AEROPORTO_DESTINO CONTINENTE_AEROPORTO_DESTINO  \n0                   PA                 BRASIL               AMERICA DO SUL  \n1                   BA                 BRASIL               AMERICA DO SUL  \n2                   MT                 BRASIL               AMERICA DO SUL  \n3                  NaN                 CANADA             AMERICA DO NORTE  \n4                  NaN                 CANADA             AMERICA DO NORTE  ",
      "text/html": "<div>\n<style scoped>\n    .dataframe tbody tr th:only-of-type {\n        vertical-align: middle;\n    }\n\n    .dataframe tbody tr th {\n        vertical-align: top;\n    }\n\n    .dataframe thead th {\n        text-align: right;\n    }\n</style>\n<table border=\"1\" class=\"dataframe\">\n  <thead>\n    <tr style=\"text-align: right;\">\n      <th></th>\n      <th>Unnamed: 0</th>\n      <th>SIGLA_OACI_AEROPORTO_DESTINO</th>\n      <th>DESCRICAO_AEROPORTO_DESTINO</th>\n      <th>CIDADE_AEROPORTO_DESTINO</th>\n      <th>UF_AEROPORTO_DESTINO</th>\n      <th>PAIS_AEROPORTO_DESTINO</th>\n      <th>CONTINENTE_AEROPORTO_DESTINO</th>\n    </tr>\n  </thead>\n  <tbody>\n    <tr>\n      <th>0</th>\n      <td>NaN</td>\n      <td>1AON</td>\n      <td>OUROLANDIA DO NORTE</td>\n      <td>OURILANDIA DO NORTE</td>\n      <td>PA</td>\n      <td>BRASIL</td>\n      <td>AMERICA DO SUL</td>\n    </tr>\n    <tr>\n      <th>1</th>\n      <td>NaN</td>\n      <td>2NHT</td>\n      <td>HOTEL TRANSAMÉRICA</td>\n      <td>UNA</td>\n      <td>BA</td>\n      <td>BRASIL</td>\n      <td>AMERICA DO SUL</td>\n    </tr>\n    <tr>\n      <th>2</th>\n      <td>NaN</td>\n      <td>6ASO</td>\n      <td>SORRISO</td>\n      <td>SORRISO</td>\n      <td>MT</td>\n      <td>BRASIL</td>\n      <td>AMERICA DO SUL</td>\n    </tr>\n    <tr>\n      <th>3</th>\n      <td>NaN</td>\n      <td>CYMX</td>\n      <td>MONTREAL-MIRABEL INTERNATIONAL AIRPORT</td>\n      <td>MIRABEL</td>\n      <td>NaN</td>\n      <td>CANADA</td>\n      <td>AMERICA DO NORTE</td>\n    </tr>\n    <tr>\n      <th>4</th>\n      <td>NaN</td>\n      <td>CYQB</td>\n      <td>QUEBEC CITY JEAN LESAGE INTERNATIONAL AIRPORT</td>\n      <td>QUEBEC JEAN LESAGE INTL</td>\n      <td>NaN</td>\n      <td>CANADA</td>\n      <td>AMERICA DO NORTE</td>\n    </tr>\n  </tbody>\n</table>\n</div>"
     },
     "execution_count": 33,
     "metadata": {},
     "output_type": "execute_result"
    }
   ],
   "source": [
    "df_aeroporto_destino = pd.read_excel(os.getcwd() + '\\\\data\\\\raw\\\\glossario_de_aerodromo.xls', skiprows=3)\n",
    "df_aeroporto_destino.rename(columns={'Sigla OACI' : 'SIGLA_OACI_AEROPORTO_DESTINO',\n",
    "                             'Descrição': 'DESCRICAO_AEROPORTO_DESTINO',\n",
    "                             'Cidade': 'CIDADE_AEROPORTO_DESTINO',\n",
    "                             'UF': 'UF_AEROPORTO_DESTINO',\n",
    "                             'País': 'PAIS_AEROPORTO_DESTINO',\n",
    "                             'Continente': 'CONTINENTE_AEROPORTO_DESTINO'}, inplace = True)\n",
    "df_aeroporto_destino.head()"
   ],
   "metadata": {
    "collapsed": false
   }
  },
  {
   "cell_type": "code",
   "execution_count": 34,
   "outputs": [
    {
     "data": {
      "text/plain": "   Unnamed: 0 SIGLA_OACI_AEROPORTO_ORIGEM  \\\n0         NaN                        1AON   \n1         NaN                        2NHT   \n2         NaN                        6ASO   \n3         NaN                        CYMX   \n4         NaN                        CYQB   \n\n                      DESCRICAO_AEROPORTO_ORIGEM  CIDADE_AEROPORTO_ORIGEM  \\\n0                            OUROLANDIA DO NORTE      OURILANDIA DO NORTE   \n1                             HOTEL TRANSAMÉRICA                     UNA    \n2                                        SORRISO                  SORRISO   \n3         MONTREAL-MIRABEL INTERNATIONAL AIRPORT                  MIRABEL   \n4  QUEBEC CITY JEAN LESAGE INTERNATIONAL AIRPORT  QUEBEC JEAN LESAGE INTL   \n\n  UF_AEROPORTO_ORIGEM PAIS_AEROPORTO_DORIGEM CONTINENTE_AEROPORTO_ORIGEM  \n0                  PA                 BRASIL              AMERICA DO SUL  \n1                  BA                 BRASIL              AMERICA DO SUL  \n2                  MT                 BRASIL              AMERICA DO SUL  \n3                 NaN                 CANADA            AMERICA DO NORTE  \n4                 NaN                 CANADA            AMERICA DO NORTE  ",
      "text/html": "<div>\n<style scoped>\n    .dataframe tbody tr th:only-of-type {\n        vertical-align: middle;\n    }\n\n    .dataframe tbody tr th {\n        vertical-align: top;\n    }\n\n    .dataframe thead th {\n        text-align: right;\n    }\n</style>\n<table border=\"1\" class=\"dataframe\">\n  <thead>\n    <tr style=\"text-align: right;\">\n      <th></th>\n      <th>Unnamed: 0</th>\n      <th>SIGLA_OACI_AEROPORTO_ORIGEM</th>\n      <th>DESCRICAO_AEROPORTO_ORIGEM</th>\n      <th>CIDADE_AEROPORTO_ORIGEM</th>\n      <th>UF_AEROPORTO_ORIGEM</th>\n      <th>PAIS_AEROPORTO_DORIGEM</th>\n      <th>CONTINENTE_AEROPORTO_ORIGEM</th>\n    </tr>\n  </thead>\n  <tbody>\n    <tr>\n      <th>0</th>\n      <td>NaN</td>\n      <td>1AON</td>\n      <td>OUROLANDIA DO NORTE</td>\n      <td>OURILANDIA DO NORTE</td>\n      <td>PA</td>\n      <td>BRASIL</td>\n      <td>AMERICA DO SUL</td>\n    </tr>\n    <tr>\n      <th>1</th>\n      <td>NaN</td>\n      <td>2NHT</td>\n      <td>HOTEL TRANSAMÉRICA</td>\n      <td>UNA</td>\n      <td>BA</td>\n      <td>BRASIL</td>\n      <td>AMERICA DO SUL</td>\n    </tr>\n    <tr>\n      <th>2</th>\n      <td>NaN</td>\n      <td>6ASO</td>\n      <td>SORRISO</td>\n      <td>SORRISO</td>\n      <td>MT</td>\n      <td>BRASIL</td>\n      <td>AMERICA DO SUL</td>\n    </tr>\n    <tr>\n      <th>3</th>\n      <td>NaN</td>\n      <td>CYMX</td>\n      <td>MONTREAL-MIRABEL INTERNATIONAL AIRPORT</td>\n      <td>MIRABEL</td>\n      <td>NaN</td>\n      <td>CANADA</td>\n      <td>AMERICA DO NORTE</td>\n    </tr>\n    <tr>\n      <th>4</th>\n      <td>NaN</td>\n      <td>CYQB</td>\n      <td>QUEBEC CITY JEAN LESAGE INTERNATIONAL AIRPORT</td>\n      <td>QUEBEC JEAN LESAGE INTL</td>\n      <td>NaN</td>\n      <td>CANADA</td>\n      <td>AMERICA DO NORTE</td>\n    </tr>\n  </tbody>\n</table>\n</div>"
     },
     "execution_count": 34,
     "metadata": {},
     "output_type": "execute_result"
    }
   ],
   "source": [
    "df_aeroporto_origem = pd.read_excel(os.getcwd() + '\\\\data\\\\raw\\\\glossario_de_aerodromo.xls', skiprows=3)\n",
    "df_aeroporto_origem.rename(columns={'Sigla OACI' : 'SIGLA_OACI_AEROPORTO_ORIGEM',\n",
    "                             'Descrição': 'DESCRICAO_AEROPORTO_ORIGEM',\n",
    "                             'Cidade': 'CIDADE_AEROPORTO_ORIGEM',\n",
    "                             'UF': 'UF_AEROPORTO_ORIGEM',\n",
    "                             'País': 'PAIS_AEROPORTO_DORIGEM',\n",
    "                             'Continente': 'CONTINENTE_AEROPORTO_ORIGEM'}, inplace = True)\n",
    "df_aeroporto_origem.head()"
   ],
   "metadata": {
    "collapsed": false
   }
  },
  {
   "cell_type": "code",
   "execution_count": 35,
   "outputs": [],
   "source": [
    "df_empresas_aereas = pd.read_excel(os.getcwd() + '\\\\data\\\\raw\\\\glossario_de_empresas_aereas.xls', skiprows=3)"
   ],
   "metadata": {
    "collapsed": false
   }
  },
  {
   "cell_type": "code",
   "execution_count": 36,
   "outputs": [
    {
     "data": {
      "text/plain": "   Unnamed: 0 SIGLA_OACI_EMPRESAS            NM_EMPRESAS  Unnamed: 3  \\\n0         NaN                 AAL  AMERICAN AIRLINES INC         NaN   \n1         NaN                 ABD  AIR ATLANTA ICELANDIC         NaN   \n2         NaN                 ABJ                 ABAETE         NaN   \n3         NaN                 ABZ             ATA BRASIL         NaN   \n4         NaN                 ACA             AIR CANADA         NaN   \n\n  NACIONAL_OU_ESTRANGEIRA  \n0             ESTRANGEIRA  \n1             ESTRANGEIRA  \n2              BRASILEIRA  \n3              BRASILEIRA  \n4             ESTRANGEIRA  ",
      "text/html": "<div>\n<style scoped>\n    .dataframe tbody tr th:only-of-type {\n        vertical-align: middle;\n    }\n\n    .dataframe tbody tr th {\n        vertical-align: top;\n    }\n\n    .dataframe thead th {\n        text-align: right;\n    }\n</style>\n<table border=\"1\" class=\"dataframe\">\n  <thead>\n    <tr style=\"text-align: right;\">\n      <th></th>\n      <th>Unnamed: 0</th>\n      <th>SIGLA_OACI_EMPRESAS</th>\n      <th>NM_EMPRESAS</th>\n      <th>Unnamed: 3</th>\n      <th>NACIONAL_OU_ESTRANGEIRA</th>\n    </tr>\n  </thead>\n  <tbody>\n    <tr>\n      <th>0</th>\n      <td>NaN</td>\n      <td>AAL</td>\n      <td>AMERICAN AIRLINES INC</td>\n      <td>NaN</td>\n      <td>ESTRANGEIRA</td>\n    </tr>\n    <tr>\n      <th>1</th>\n      <td>NaN</td>\n      <td>ABD</td>\n      <td>AIR ATLANTA ICELANDIC</td>\n      <td>NaN</td>\n      <td>ESTRANGEIRA</td>\n    </tr>\n    <tr>\n      <th>2</th>\n      <td>NaN</td>\n      <td>ABJ</td>\n      <td>ABAETE</td>\n      <td>NaN</td>\n      <td>BRASILEIRA</td>\n    </tr>\n    <tr>\n      <th>3</th>\n      <td>NaN</td>\n      <td>ABZ</td>\n      <td>ATA BRASIL</td>\n      <td>NaN</td>\n      <td>BRASILEIRA</td>\n    </tr>\n    <tr>\n      <th>4</th>\n      <td>NaN</td>\n      <td>ACA</td>\n      <td>AIR CANADA</td>\n      <td>NaN</td>\n      <td>ESTRANGEIRA</td>\n    </tr>\n  </tbody>\n</table>\n</div>"
     },
     "execution_count": 36,
     "metadata": {},
     "output_type": "execute_result"
    }
   ],
   "source": [
    "df_empresas_aereas.rename(\n",
    "    columns={\n",
    "        'Sigla OACI': 'SIGLA_OACI_EMPRESAS',\n",
    "        'Nome Empresas': 'NM_EMPRESAS',\n",
    "        'Nacional ou Estrangeira': 'NACIONAL_OU_ESTRANGEIRA'\n",
    "    }, inplace=True\n",
    ")\n",
    "df_empresas_aereas.head()"
   ],
   "metadata": {
    "collapsed": false
   }
  },
  {
   "cell_type": "code",
   "execution_count": 37,
   "outputs": [],
   "source": [
    "df_dados_voos_int_dest = pd.merge(dados_voo, df_aeroporto_destino, how='left', left_on='SIGLA_ICAO_AEROPORTO_DESTINO', right_on='SIGLA_OACI_AEROPORTO_DESTINO' )"
   ],
   "metadata": {
    "collapsed": false
   }
  },
  {
   "cell_type": "code",
   "execution_count": 38,
   "outputs": [
    {
     "data": {
      "text/plain": "  ?SG_ICAO_EMPRESA_AEREA NR_VOO CODIGO_DI CODIGO_TIPO_LINHA  \\\n0                    AAL    262         0                 I   \n1                    AAL    263         0                 I   \n2                    AAL    789         2                 X   \n3                    AAL    790         2                 X   \n4                    AAL    904         0                 I   \n\n  SIGLA_ICAO_AEROPORTO_ORIGEM SIGLA_ICAO_AEROPORTO_DESTINO  PARTIDA_PREVISTA  \\\n0                        SBGL                         KMIA  2022-03-01 22:30   \n1                        KMIA                         SBGL  2022-03-01 00:45   \n2                        KMIA                         SBGR               NaN   \n3                        SBGR                         KMIA               NaN   \n4                        SBGL                         KMIA  2022-03-01 00:05   \n\n       PARTIDA_REAL  CHEGADA_PREVISTA      CHEGADA_REAL SITUACAO_VOO  \\\n0  2022-03-01 22:35  2022-03-02 07:10  2022-03-02 07:11    REALIZADO   \n1  2022-03-01 01:58  2022-03-01 09:05  2022-03-01 11:07    REALIZADO   \n2  2022-03-01 02:54               NaN  2022-03-01 11:02    REALIZADO   \n3  2022-03-01 11:17               NaN  2022-03-01 19:13    REALIZADO   \n4  2022-03-01 00:00  2022-03-01 08:40  2022-03-01 08:03    REALIZADO   \n\n   Unnamed: 0 SIGLA_OACI_AEROPORTO_DESTINO  \\\n0         NaN                         KMIA   \n1         NaN                         SBGL   \n2         NaN                         SBGR   \n3         NaN                         KMIA   \n4         NaN                         KMIA   \n\n                         DESCRICAO_AEROPORTO_DESTINO CIDADE_AEROPORTO_DESTINO  \\\n0                        MIAMI INTERNATIONAL AIRPORT                    MIAMI   \n1  AEROPORTO INTERNACIONAL DO RIO DE JANEIRO/GALE...           RIO DE JANEIRO   \n2        GUARULHOS - GOVERNADOR ANDRÉ FRANCO MONTORO                GUARULHOS   \n3                        MIAMI INTERNATIONAL AIRPORT                    MIAMI   \n4                        MIAMI INTERNATIONAL AIRPORT                    MIAMI   \n\n  UF_AEROPORTO_DESTINO     PAIS_AEROPORTO_DESTINO CONTINENTE_AEROPORTO_DESTINO  \n0                  NaN  ESTADOS UNIDOS DA AMERICA             AMERICA DO NORTE  \n1                   RJ                     BRASIL               AMERICA DO SUL  \n2                   SP                     BRASIL               AMERICA DO SUL  \n3                  NaN  ESTADOS UNIDOS DA AMERICA             AMERICA DO NORTE  \n4                  NaN  ESTADOS UNIDOS DA AMERICA             AMERICA DO NORTE  ",
      "text/html": "<div>\n<style scoped>\n    .dataframe tbody tr th:only-of-type {\n        vertical-align: middle;\n    }\n\n    .dataframe tbody tr th {\n        vertical-align: top;\n    }\n\n    .dataframe thead th {\n        text-align: right;\n    }\n</style>\n<table border=\"1\" class=\"dataframe\">\n  <thead>\n    <tr style=\"text-align: right;\">\n      <th></th>\n      <th>?SG_ICAO_EMPRESA_AEREA</th>\n      <th>NR_VOO</th>\n      <th>CODIGO_DI</th>\n      <th>CODIGO_TIPO_LINHA</th>\n      <th>SIGLA_ICAO_AEROPORTO_ORIGEM</th>\n      <th>SIGLA_ICAO_AEROPORTO_DESTINO</th>\n      <th>PARTIDA_PREVISTA</th>\n      <th>PARTIDA_REAL</th>\n      <th>CHEGADA_PREVISTA</th>\n      <th>CHEGADA_REAL</th>\n      <th>SITUACAO_VOO</th>\n      <th>Unnamed: 0</th>\n      <th>SIGLA_OACI_AEROPORTO_DESTINO</th>\n      <th>DESCRICAO_AEROPORTO_DESTINO</th>\n      <th>CIDADE_AEROPORTO_DESTINO</th>\n      <th>UF_AEROPORTO_DESTINO</th>\n      <th>PAIS_AEROPORTO_DESTINO</th>\n      <th>CONTINENTE_AEROPORTO_DESTINO</th>\n    </tr>\n  </thead>\n  <tbody>\n    <tr>\n      <th>0</th>\n      <td>AAL</td>\n      <td>262</td>\n      <td>0</td>\n      <td>I</td>\n      <td>SBGL</td>\n      <td>KMIA</td>\n      <td>2022-03-01 22:30</td>\n      <td>2022-03-01 22:35</td>\n      <td>2022-03-02 07:10</td>\n      <td>2022-03-02 07:11</td>\n      <td>REALIZADO</td>\n      <td>NaN</td>\n      <td>KMIA</td>\n      <td>MIAMI INTERNATIONAL AIRPORT</td>\n      <td>MIAMI</td>\n      <td>NaN</td>\n      <td>ESTADOS UNIDOS DA AMERICA</td>\n      <td>AMERICA DO NORTE</td>\n    </tr>\n    <tr>\n      <th>1</th>\n      <td>AAL</td>\n      <td>263</td>\n      <td>0</td>\n      <td>I</td>\n      <td>KMIA</td>\n      <td>SBGL</td>\n      <td>2022-03-01 00:45</td>\n      <td>2022-03-01 01:58</td>\n      <td>2022-03-01 09:05</td>\n      <td>2022-03-01 11:07</td>\n      <td>REALIZADO</td>\n      <td>NaN</td>\n      <td>SBGL</td>\n      <td>AEROPORTO INTERNACIONAL DO RIO DE JANEIRO/GALE...</td>\n      <td>RIO DE JANEIRO</td>\n      <td>RJ</td>\n      <td>BRASIL</td>\n      <td>AMERICA DO SUL</td>\n    </tr>\n    <tr>\n      <th>2</th>\n      <td>AAL</td>\n      <td>789</td>\n      <td>2</td>\n      <td>X</td>\n      <td>KMIA</td>\n      <td>SBGR</td>\n      <td>NaN</td>\n      <td>2022-03-01 02:54</td>\n      <td>NaN</td>\n      <td>2022-03-01 11:02</td>\n      <td>REALIZADO</td>\n      <td>NaN</td>\n      <td>SBGR</td>\n      <td>GUARULHOS - GOVERNADOR ANDRÉ FRANCO MONTORO</td>\n      <td>GUARULHOS</td>\n      <td>SP</td>\n      <td>BRASIL</td>\n      <td>AMERICA DO SUL</td>\n    </tr>\n    <tr>\n      <th>3</th>\n      <td>AAL</td>\n      <td>790</td>\n      <td>2</td>\n      <td>X</td>\n      <td>SBGR</td>\n      <td>KMIA</td>\n      <td>NaN</td>\n      <td>2022-03-01 11:17</td>\n      <td>NaN</td>\n      <td>2022-03-01 19:13</td>\n      <td>REALIZADO</td>\n      <td>NaN</td>\n      <td>KMIA</td>\n      <td>MIAMI INTERNATIONAL AIRPORT</td>\n      <td>MIAMI</td>\n      <td>NaN</td>\n      <td>ESTADOS UNIDOS DA AMERICA</td>\n      <td>AMERICA DO NORTE</td>\n    </tr>\n    <tr>\n      <th>4</th>\n      <td>AAL</td>\n      <td>904</td>\n      <td>0</td>\n      <td>I</td>\n      <td>SBGL</td>\n      <td>KMIA</td>\n      <td>2022-03-01 00:05</td>\n      <td>2022-03-01 00:00</td>\n      <td>2022-03-01 08:40</td>\n      <td>2022-03-01 08:03</td>\n      <td>REALIZADO</td>\n      <td>NaN</td>\n      <td>KMIA</td>\n      <td>MIAMI INTERNATIONAL AIRPORT</td>\n      <td>MIAMI</td>\n      <td>NaN</td>\n      <td>ESTADOS UNIDOS DA AMERICA</td>\n      <td>AMERICA DO NORTE</td>\n    </tr>\n  </tbody>\n</table>\n</div>"
     },
     "execution_count": 38,
     "metadata": {},
     "output_type": "execute_result"
    }
   ],
   "source": [
    "df_dados_voos_int_dest.head()"
   ],
   "metadata": {
    "collapsed": false
   }
  },
  {
   "cell_type": "code",
   "execution_count": 39,
   "outputs": [
    {
     "data": {
      "text/plain": "(789907, 18)"
     },
     "execution_count": 39,
     "metadata": {},
     "output_type": "execute_result"
    }
   ],
   "source": [
    "df_dados_voos_int_dest.shape"
   ],
   "metadata": {
    "collapsed": false
   }
  },
  {
   "cell_type": "code",
   "execution_count": 40,
   "outputs": [],
   "source": [
    "df_dados_voos_int_orig = pd.merge(df_dados_voos_int_dest, df_aeroporto_origem, how='left', left_on='SIGLA_ICAO_AEROPORTO_ORIGEM', right_on='SIGLA_OACI_AEROPORTO_ORIGEM')"
   ],
   "metadata": {
    "collapsed": false
   }
  },
  {
   "cell_type": "code",
   "execution_count": 41,
   "outputs": [
    {
     "data": {
      "text/plain": "  ?SG_ICAO_EMPRESA_AEREA NR_VOO CODIGO_DI CODIGO_TIPO_LINHA  \\\n0                    AAL    262         0                 I   \n1                    AAL    263         0                 I   \n2                    AAL    789         2                 X   \n3                    AAL    790         2                 X   \n4                    AAL    904         0                 I   \n5                    AAL    905         0                 I   \n6                    AAL    906         2                 X   \n7                    AAL    929         0                 I   \n8                    AAL    930         0                 I   \n9                    AAL    950         0                 I   \n\n  SIGLA_ICAO_AEROPORTO_ORIGEM SIGLA_ICAO_AEROPORTO_DESTINO  PARTIDA_PREVISTA  \\\n0                        SBGL                         KMIA  2022-03-01 22:30   \n1                        KMIA                         SBGL  2022-03-01 00:45   \n2                        KMIA                         SBGR               NaN   \n3                        SBGR                         KMIA               NaN   \n4                        SBGL                         KMIA  2022-03-01 00:05   \n5                        KMIA                         SBGL  2022-03-01 22:00   \n6                        SBGR                         KMIA               NaN   \n7                        KMIA                         SBGR  2022-03-01 21:50   \n8                        SBGR                         KMIA  2022-03-01 22:30   \n9                        SBGR                         KJFK  2022-03-01 23:20   \n\n       PARTIDA_REAL  CHEGADA_PREVISTA      CHEGADA_REAL  ...  \\\n0  2022-03-01 22:35  2022-03-02 07:10  2022-03-02 07:11  ...   \n1  2022-03-01 01:58  2022-03-01 09:05  2022-03-01 11:07  ...   \n2  2022-03-01 02:54               NaN  2022-03-01 11:02  ...   \n3  2022-03-01 11:17               NaN  2022-03-01 19:13  ...   \n4  2022-03-01 00:00  2022-03-01 08:40  2022-03-01 08:03  ...   \n5  2022-03-01 22:02  2022-03-02 06:20  2022-03-02 06:19  ...   \n6  2022-03-01 00:08               NaN  2022-03-01 08:18  ...   \n7  2022-03-01 21:47  2022-03-02 06:20  2022-03-02 05:58  ...   \n8  2022-03-01 22:25  2022-03-02 06:45  2022-03-02 06:34  ...   \n9  2022-03-01 23:28  2022-03-02 09:10  2022-03-02 08:51  ...   \n\n  UF_AEROPORTO_DESTINO     PAIS_AEROPORTO_DESTINO  \\\n0                  NaN  ESTADOS UNIDOS DA AMERICA   \n1                   RJ                     BRASIL   \n2                   SP                     BRASIL   \n3                  NaN  ESTADOS UNIDOS DA AMERICA   \n4                  NaN  ESTADOS UNIDOS DA AMERICA   \n5                   RJ                     BRASIL   \n6                  NaN  ESTADOS UNIDOS DA AMERICA   \n7                   SP                     BRASIL   \n8                  NaN  ESTADOS UNIDOS DA AMERICA   \n9                  NaN  ESTADOS UNIDOS DA AMERICA   \n\n  CONTINENTE_AEROPORTO_DESTINO Unnamed: 0_y SIGLA_OACI_AEROPORTO_ORIGEM  \\\n0             AMERICA DO NORTE          NaN                        SBGL   \n1               AMERICA DO SUL          NaN                        KMIA   \n2               AMERICA DO SUL          NaN                        KMIA   \n3             AMERICA DO NORTE          NaN                        SBGR   \n4             AMERICA DO NORTE          NaN                        SBGL   \n5               AMERICA DO SUL          NaN                        KMIA   \n6             AMERICA DO NORTE          NaN                        SBGR   \n7               AMERICA DO SUL          NaN                        KMIA   \n8             AMERICA DO NORTE          NaN                        SBGR   \n9             AMERICA DO NORTE          NaN                        SBGR   \n\n                          DESCRICAO_AEROPORTO_ORIGEM CIDADE_AEROPORTO_ORIGEM  \\\n0  AEROPORTO INTERNACIONAL DO RIO DE JANEIRO/GALE...          RIO DE JANEIRO   \n1                        MIAMI INTERNATIONAL AIRPORT                   MIAMI   \n2                        MIAMI INTERNATIONAL AIRPORT                   MIAMI   \n3        GUARULHOS - GOVERNADOR ANDRÉ FRANCO MONTORO               GUARULHOS   \n4  AEROPORTO INTERNACIONAL DO RIO DE JANEIRO/GALE...          RIO DE JANEIRO   \n5                        MIAMI INTERNATIONAL AIRPORT                   MIAMI   \n6        GUARULHOS - GOVERNADOR ANDRÉ FRANCO MONTORO               GUARULHOS   \n7                        MIAMI INTERNATIONAL AIRPORT                   MIAMI   \n8        GUARULHOS - GOVERNADOR ANDRÉ FRANCO MONTORO               GUARULHOS   \n9        GUARULHOS - GOVERNADOR ANDRÉ FRANCO MONTORO               GUARULHOS   \n\n  UF_AEROPORTO_ORIGEM     PAIS_AEROPORTO_DORIGEM CONTINENTE_AEROPORTO_ORIGEM  \n0                  RJ                     BRASIL              AMERICA DO SUL  \n1                 NaN  ESTADOS UNIDOS DA AMERICA            AMERICA DO NORTE  \n2                 NaN  ESTADOS UNIDOS DA AMERICA            AMERICA DO NORTE  \n3                  SP                     BRASIL              AMERICA DO SUL  \n4                  RJ                     BRASIL              AMERICA DO SUL  \n5                 NaN  ESTADOS UNIDOS DA AMERICA            AMERICA DO NORTE  \n6                  SP                     BRASIL              AMERICA DO SUL  \n7                 NaN  ESTADOS UNIDOS DA AMERICA            AMERICA DO NORTE  \n8                  SP                     BRASIL              AMERICA DO SUL  \n9                  SP                     BRASIL              AMERICA DO SUL  \n\n[10 rows x 25 columns]",
      "text/html": "<div>\n<style scoped>\n    .dataframe tbody tr th:only-of-type {\n        vertical-align: middle;\n    }\n\n    .dataframe tbody tr th {\n        vertical-align: top;\n    }\n\n    .dataframe thead th {\n        text-align: right;\n    }\n</style>\n<table border=\"1\" class=\"dataframe\">\n  <thead>\n    <tr style=\"text-align: right;\">\n      <th></th>\n      <th>?SG_ICAO_EMPRESA_AEREA</th>\n      <th>NR_VOO</th>\n      <th>CODIGO_DI</th>\n      <th>CODIGO_TIPO_LINHA</th>\n      <th>SIGLA_ICAO_AEROPORTO_ORIGEM</th>\n      <th>SIGLA_ICAO_AEROPORTO_DESTINO</th>\n      <th>PARTIDA_PREVISTA</th>\n      <th>PARTIDA_REAL</th>\n      <th>CHEGADA_PREVISTA</th>\n      <th>CHEGADA_REAL</th>\n      <th>...</th>\n      <th>UF_AEROPORTO_DESTINO</th>\n      <th>PAIS_AEROPORTO_DESTINO</th>\n      <th>CONTINENTE_AEROPORTO_DESTINO</th>\n      <th>Unnamed: 0_y</th>\n      <th>SIGLA_OACI_AEROPORTO_ORIGEM</th>\n      <th>DESCRICAO_AEROPORTO_ORIGEM</th>\n      <th>CIDADE_AEROPORTO_ORIGEM</th>\n      <th>UF_AEROPORTO_ORIGEM</th>\n      <th>PAIS_AEROPORTO_DORIGEM</th>\n      <th>CONTINENTE_AEROPORTO_ORIGEM</th>\n    </tr>\n  </thead>\n  <tbody>\n    <tr>\n      <th>0</th>\n      <td>AAL</td>\n      <td>262</td>\n      <td>0</td>\n      <td>I</td>\n      <td>SBGL</td>\n      <td>KMIA</td>\n      <td>2022-03-01 22:30</td>\n      <td>2022-03-01 22:35</td>\n      <td>2022-03-02 07:10</td>\n      <td>2022-03-02 07:11</td>\n      <td>...</td>\n      <td>NaN</td>\n      <td>ESTADOS UNIDOS DA AMERICA</td>\n      <td>AMERICA DO NORTE</td>\n      <td>NaN</td>\n      <td>SBGL</td>\n      <td>AEROPORTO INTERNACIONAL DO RIO DE JANEIRO/GALE...</td>\n      <td>RIO DE JANEIRO</td>\n      <td>RJ</td>\n      <td>BRASIL</td>\n      <td>AMERICA DO SUL</td>\n    </tr>\n    <tr>\n      <th>1</th>\n      <td>AAL</td>\n      <td>263</td>\n      <td>0</td>\n      <td>I</td>\n      <td>KMIA</td>\n      <td>SBGL</td>\n      <td>2022-03-01 00:45</td>\n      <td>2022-03-01 01:58</td>\n      <td>2022-03-01 09:05</td>\n      <td>2022-03-01 11:07</td>\n      <td>...</td>\n      <td>RJ</td>\n      <td>BRASIL</td>\n      <td>AMERICA DO SUL</td>\n      <td>NaN</td>\n      <td>KMIA</td>\n      <td>MIAMI INTERNATIONAL AIRPORT</td>\n      <td>MIAMI</td>\n      <td>NaN</td>\n      <td>ESTADOS UNIDOS DA AMERICA</td>\n      <td>AMERICA DO NORTE</td>\n    </tr>\n    <tr>\n      <th>2</th>\n      <td>AAL</td>\n      <td>789</td>\n      <td>2</td>\n      <td>X</td>\n      <td>KMIA</td>\n      <td>SBGR</td>\n      <td>NaN</td>\n      <td>2022-03-01 02:54</td>\n      <td>NaN</td>\n      <td>2022-03-01 11:02</td>\n      <td>...</td>\n      <td>SP</td>\n      <td>BRASIL</td>\n      <td>AMERICA DO SUL</td>\n      <td>NaN</td>\n      <td>KMIA</td>\n      <td>MIAMI INTERNATIONAL AIRPORT</td>\n      <td>MIAMI</td>\n      <td>NaN</td>\n      <td>ESTADOS UNIDOS DA AMERICA</td>\n      <td>AMERICA DO NORTE</td>\n    </tr>\n    <tr>\n      <th>3</th>\n      <td>AAL</td>\n      <td>790</td>\n      <td>2</td>\n      <td>X</td>\n      <td>SBGR</td>\n      <td>KMIA</td>\n      <td>NaN</td>\n      <td>2022-03-01 11:17</td>\n      <td>NaN</td>\n      <td>2022-03-01 19:13</td>\n      <td>...</td>\n      <td>NaN</td>\n      <td>ESTADOS UNIDOS DA AMERICA</td>\n      <td>AMERICA DO NORTE</td>\n      <td>NaN</td>\n      <td>SBGR</td>\n      <td>GUARULHOS - GOVERNADOR ANDRÉ FRANCO MONTORO</td>\n      <td>GUARULHOS</td>\n      <td>SP</td>\n      <td>BRASIL</td>\n      <td>AMERICA DO SUL</td>\n    </tr>\n    <tr>\n      <th>4</th>\n      <td>AAL</td>\n      <td>904</td>\n      <td>0</td>\n      <td>I</td>\n      <td>SBGL</td>\n      <td>KMIA</td>\n      <td>2022-03-01 00:05</td>\n      <td>2022-03-01 00:00</td>\n      <td>2022-03-01 08:40</td>\n      <td>2022-03-01 08:03</td>\n      <td>...</td>\n      <td>NaN</td>\n      <td>ESTADOS UNIDOS DA AMERICA</td>\n      <td>AMERICA DO NORTE</td>\n      <td>NaN</td>\n      <td>SBGL</td>\n      <td>AEROPORTO INTERNACIONAL DO RIO DE JANEIRO/GALE...</td>\n      <td>RIO DE JANEIRO</td>\n      <td>RJ</td>\n      <td>BRASIL</td>\n      <td>AMERICA DO SUL</td>\n    </tr>\n    <tr>\n      <th>5</th>\n      <td>AAL</td>\n      <td>905</td>\n      <td>0</td>\n      <td>I</td>\n      <td>KMIA</td>\n      <td>SBGL</td>\n      <td>2022-03-01 22:00</td>\n      <td>2022-03-01 22:02</td>\n      <td>2022-03-02 06:20</td>\n      <td>2022-03-02 06:19</td>\n      <td>...</td>\n      <td>RJ</td>\n      <td>BRASIL</td>\n      <td>AMERICA DO SUL</td>\n      <td>NaN</td>\n      <td>KMIA</td>\n      <td>MIAMI INTERNATIONAL AIRPORT</td>\n      <td>MIAMI</td>\n      <td>NaN</td>\n      <td>ESTADOS UNIDOS DA AMERICA</td>\n      <td>AMERICA DO NORTE</td>\n    </tr>\n    <tr>\n      <th>6</th>\n      <td>AAL</td>\n      <td>906</td>\n      <td>2</td>\n      <td>X</td>\n      <td>SBGR</td>\n      <td>KMIA</td>\n      <td>NaN</td>\n      <td>2022-03-01 00:08</td>\n      <td>NaN</td>\n      <td>2022-03-01 08:18</td>\n      <td>...</td>\n      <td>NaN</td>\n      <td>ESTADOS UNIDOS DA AMERICA</td>\n      <td>AMERICA DO NORTE</td>\n      <td>NaN</td>\n      <td>SBGR</td>\n      <td>GUARULHOS - GOVERNADOR ANDRÉ FRANCO MONTORO</td>\n      <td>GUARULHOS</td>\n      <td>SP</td>\n      <td>BRASIL</td>\n      <td>AMERICA DO SUL</td>\n    </tr>\n    <tr>\n      <th>7</th>\n      <td>AAL</td>\n      <td>929</td>\n      <td>0</td>\n      <td>I</td>\n      <td>KMIA</td>\n      <td>SBGR</td>\n      <td>2022-03-01 21:50</td>\n      <td>2022-03-01 21:47</td>\n      <td>2022-03-02 06:20</td>\n      <td>2022-03-02 05:58</td>\n      <td>...</td>\n      <td>SP</td>\n      <td>BRASIL</td>\n      <td>AMERICA DO SUL</td>\n      <td>NaN</td>\n      <td>KMIA</td>\n      <td>MIAMI INTERNATIONAL AIRPORT</td>\n      <td>MIAMI</td>\n      <td>NaN</td>\n      <td>ESTADOS UNIDOS DA AMERICA</td>\n      <td>AMERICA DO NORTE</td>\n    </tr>\n    <tr>\n      <th>8</th>\n      <td>AAL</td>\n      <td>930</td>\n      <td>0</td>\n      <td>I</td>\n      <td>SBGR</td>\n      <td>KMIA</td>\n      <td>2022-03-01 22:30</td>\n      <td>2022-03-01 22:25</td>\n      <td>2022-03-02 06:45</td>\n      <td>2022-03-02 06:34</td>\n      <td>...</td>\n      <td>NaN</td>\n      <td>ESTADOS UNIDOS DA AMERICA</td>\n      <td>AMERICA DO NORTE</td>\n      <td>NaN</td>\n      <td>SBGR</td>\n      <td>GUARULHOS - GOVERNADOR ANDRÉ FRANCO MONTORO</td>\n      <td>GUARULHOS</td>\n      <td>SP</td>\n      <td>BRASIL</td>\n      <td>AMERICA DO SUL</td>\n    </tr>\n    <tr>\n      <th>9</th>\n      <td>AAL</td>\n      <td>950</td>\n      <td>0</td>\n      <td>I</td>\n      <td>SBGR</td>\n      <td>KJFK</td>\n      <td>2022-03-01 23:20</td>\n      <td>2022-03-01 23:28</td>\n      <td>2022-03-02 09:10</td>\n      <td>2022-03-02 08:51</td>\n      <td>...</td>\n      <td>NaN</td>\n      <td>ESTADOS UNIDOS DA AMERICA</td>\n      <td>AMERICA DO NORTE</td>\n      <td>NaN</td>\n      <td>SBGR</td>\n      <td>GUARULHOS - GOVERNADOR ANDRÉ FRANCO MONTORO</td>\n      <td>GUARULHOS</td>\n      <td>SP</td>\n      <td>BRASIL</td>\n      <td>AMERICA DO SUL</td>\n    </tr>\n  </tbody>\n</table>\n<p>10 rows × 25 columns</p>\n</div>"
     },
     "execution_count": 41,
     "metadata": {},
     "output_type": "execute_result"
    }
   ],
   "source": [
    "df_dados_voos_int_orig.head(10)"
   ],
   "metadata": {
    "collapsed": false
   }
  },
  {
   "cell_type": "code",
   "execution_count": 42,
   "outputs": [
    {
     "data": {
      "text/plain": "(789907, 25)"
     },
     "execution_count": 42,
     "metadata": {},
     "output_type": "execute_result"
    }
   ],
   "source": [
    "df_dados_voos_int_orig.shape"
   ],
   "metadata": {
    "collapsed": false
   }
  },
  {
   "cell_type": "code",
   "execution_count": 44,
   "outputs": [
    {
     "data": {
      "text/plain": "  ?SG_ICAO_EMPRESA_AEREA NR_VOO CODIGO_DI CODIGO_TIPO_LINHA  \\\n0                    AAL    262         0                 I   \n1                    AAL    263         0                 I   \n2                    AAL    789         2                 X   \n3                    AAL    790         2                 X   \n4                    AAL    904         0                 I   \n\n  SIGLA_ICAO_AEROPORTO_ORIGEM SIGLA_ICAO_AEROPORTO_DESTINO  PARTIDA_PREVISTA  \\\n0                        SBGL                         KMIA  2022-03-01 22:30   \n1                        KMIA                         SBGL  2022-03-01 00:45   \n2                        KMIA                         SBGR               NaN   \n3                        SBGR                         KMIA               NaN   \n4                        SBGL                         KMIA  2022-03-01 00:05   \n\n       PARTIDA_REAL  CHEGADA_PREVISTA      CHEGADA_REAL  ...  \\\n0  2022-03-01 22:35  2022-03-02 07:10  2022-03-02 07:11  ...   \n1  2022-03-01 01:58  2022-03-01 09:05  2022-03-01 11:07  ...   \n2  2022-03-01 02:54               NaN  2022-03-01 11:02  ...   \n3  2022-03-01 11:17               NaN  2022-03-01 19:13  ...   \n4  2022-03-01 00:00  2022-03-01 08:40  2022-03-01 08:03  ...   \n\n                          DESCRICAO_AEROPORTO_ORIGEM  CIDADE_AEROPORTO_ORIGEM  \\\n0  AEROPORTO INTERNACIONAL DO RIO DE JANEIRO/GALE...           RIO DE JANEIRO   \n1                        MIAMI INTERNATIONAL AIRPORT                    MIAMI   \n2                        MIAMI INTERNATIONAL AIRPORT                    MIAMI   \n3        GUARULHOS - GOVERNADOR ANDRÉ FRANCO MONTORO                GUARULHOS   \n4  AEROPORTO INTERNACIONAL DO RIO DE JANEIRO/GALE...           RIO DE JANEIRO   \n\n  UF_AEROPORTO_ORIGEM     PAIS_AEROPORTO_DORIGEM CONTINENTE_AEROPORTO_ORIGEM  \\\n0                  RJ                     BRASIL              AMERICA DO SUL   \n1                 NaN  ESTADOS UNIDOS DA AMERICA            AMERICA DO NORTE   \n2                 NaN  ESTADOS UNIDOS DA AMERICA            AMERICA DO NORTE   \n3                  SP                     BRASIL              AMERICA DO SUL   \n4                  RJ                     BRASIL              AMERICA DO SUL   \n\n  Unnamed: 0 SIGLA_OACI_EMPRESAS            NM_EMPRESAS  Unnamed: 3  \\\n0        NaN                 AAL  AMERICAN AIRLINES INC         NaN   \n1        NaN                 AAL  AMERICAN AIRLINES INC         NaN   \n2        NaN                 AAL  AMERICAN AIRLINES INC         NaN   \n3        NaN                 AAL  AMERICAN AIRLINES INC         NaN   \n4        NaN                 AAL  AMERICAN AIRLINES INC         NaN   \n\n  NACIONAL_OU_ESTRANGEIRA  \n0             ESTRANGEIRA  \n1             ESTRANGEIRA  \n2             ESTRANGEIRA  \n3             ESTRANGEIRA  \n4             ESTRANGEIRA  \n\n[5 rows x 30 columns]",
      "text/html": "<div>\n<style scoped>\n    .dataframe tbody tr th:only-of-type {\n        vertical-align: middle;\n    }\n\n    .dataframe tbody tr th {\n        vertical-align: top;\n    }\n\n    .dataframe thead th {\n        text-align: right;\n    }\n</style>\n<table border=\"1\" class=\"dataframe\">\n  <thead>\n    <tr style=\"text-align: right;\">\n      <th></th>\n      <th>?SG_ICAO_EMPRESA_AEREA</th>\n      <th>NR_VOO</th>\n      <th>CODIGO_DI</th>\n      <th>CODIGO_TIPO_LINHA</th>\n      <th>SIGLA_ICAO_AEROPORTO_ORIGEM</th>\n      <th>SIGLA_ICAO_AEROPORTO_DESTINO</th>\n      <th>PARTIDA_PREVISTA</th>\n      <th>PARTIDA_REAL</th>\n      <th>CHEGADA_PREVISTA</th>\n      <th>CHEGADA_REAL</th>\n      <th>...</th>\n      <th>DESCRICAO_AEROPORTO_ORIGEM</th>\n      <th>CIDADE_AEROPORTO_ORIGEM</th>\n      <th>UF_AEROPORTO_ORIGEM</th>\n      <th>PAIS_AEROPORTO_DORIGEM</th>\n      <th>CONTINENTE_AEROPORTO_ORIGEM</th>\n      <th>Unnamed: 0</th>\n      <th>SIGLA_OACI_EMPRESAS</th>\n      <th>NM_EMPRESAS</th>\n      <th>Unnamed: 3</th>\n      <th>NACIONAL_OU_ESTRANGEIRA</th>\n    </tr>\n  </thead>\n  <tbody>\n    <tr>\n      <th>0</th>\n      <td>AAL</td>\n      <td>262</td>\n      <td>0</td>\n      <td>I</td>\n      <td>SBGL</td>\n      <td>KMIA</td>\n      <td>2022-03-01 22:30</td>\n      <td>2022-03-01 22:35</td>\n      <td>2022-03-02 07:10</td>\n      <td>2022-03-02 07:11</td>\n      <td>...</td>\n      <td>AEROPORTO INTERNACIONAL DO RIO DE JANEIRO/GALE...</td>\n      <td>RIO DE JANEIRO</td>\n      <td>RJ</td>\n      <td>BRASIL</td>\n      <td>AMERICA DO SUL</td>\n      <td>NaN</td>\n      <td>AAL</td>\n      <td>AMERICAN AIRLINES INC</td>\n      <td>NaN</td>\n      <td>ESTRANGEIRA</td>\n    </tr>\n    <tr>\n      <th>1</th>\n      <td>AAL</td>\n      <td>263</td>\n      <td>0</td>\n      <td>I</td>\n      <td>KMIA</td>\n      <td>SBGL</td>\n      <td>2022-03-01 00:45</td>\n      <td>2022-03-01 01:58</td>\n      <td>2022-03-01 09:05</td>\n      <td>2022-03-01 11:07</td>\n      <td>...</td>\n      <td>MIAMI INTERNATIONAL AIRPORT</td>\n      <td>MIAMI</td>\n      <td>NaN</td>\n      <td>ESTADOS UNIDOS DA AMERICA</td>\n      <td>AMERICA DO NORTE</td>\n      <td>NaN</td>\n      <td>AAL</td>\n      <td>AMERICAN AIRLINES INC</td>\n      <td>NaN</td>\n      <td>ESTRANGEIRA</td>\n    </tr>\n    <tr>\n      <th>2</th>\n      <td>AAL</td>\n      <td>789</td>\n      <td>2</td>\n      <td>X</td>\n      <td>KMIA</td>\n      <td>SBGR</td>\n      <td>NaN</td>\n      <td>2022-03-01 02:54</td>\n      <td>NaN</td>\n      <td>2022-03-01 11:02</td>\n      <td>...</td>\n      <td>MIAMI INTERNATIONAL AIRPORT</td>\n      <td>MIAMI</td>\n      <td>NaN</td>\n      <td>ESTADOS UNIDOS DA AMERICA</td>\n      <td>AMERICA DO NORTE</td>\n      <td>NaN</td>\n      <td>AAL</td>\n      <td>AMERICAN AIRLINES INC</td>\n      <td>NaN</td>\n      <td>ESTRANGEIRA</td>\n    </tr>\n    <tr>\n      <th>3</th>\n      <td>AAL</td>\n      <td>790</td>\n      <td>2</td>\n      <td>X</td>\n      <td>SBGR</td>\n      <td>KMIA</td>\n      <td>NaN</td>\n      <td>2022-03-01 11:17</td>\n      <td>NaN</td>\n      <td>2022-03-01 19:13</td>\n      <td>...</td>\n      <td>GUARULHOS - GOVERNADOR ANDRÉ FRANCO MONTORO</td>\n      <td>GUARULHOS</td>\n      <td>SP</td>\n      <td>BRASIL</td>\n      <td>AMERICA DO SUL</td>\n      <td>NaN</td>\n      <td>AAL</td>\n      <td>AMERICAN AIRLINES INC</td>\n      <td>NaN</td>\n      <td>ESTRANGEIRA</td>\n    </tr>\n    <tr>\n      <th>4</th>\n      <td>AAL</td>\n      <td>904</td>\n      <td>0</td>\n      <td>I</td>\n      <td>SBGL</td>\n      <td>KMIA</td>\n      <td>2022-03-01 00:05</td>\n      <td>2022-03-01 00:00</td>\n      <td>2022-03-01 08:40</td>\n      <td>2022-03-01 08:03</td>\n      <td>...</td>\n      <td>AEROPORTO INTERNACIONAL DO RIO DE JANEIRO/GALE...</td>\n      <td>RIO DE JANEIRO</td>\n      <td>RJ</td>\n      <td>BRASIL</td>\n      <td>AMERICA DO SUL</td>\n      <td>NaN</td>\n      <td>AAL</td>\n      <td>AMERICAN AIRLINES INC</td>\n      <td>NaN</td>\n      <td>ESTRANGEIRA</td>\n    </tr>\n  </tbody>\n</table>\n<p>5 rows × 30 columns</p>\n</div>"
     },
     "execution_count": 44,
     "metadata": {},
     "output_type": "execute_result"
    }
   ],
   "source": [
    "df_dados_voo_completo = pd.merge(df_dados_voos_int_orig, df_empresas_aereas, how='left', left_on='?SG_ICAO_EMPRESA_AEREA', right_on='SIGLA_OACI_EMPRESAS')\n",
    "df_dados_voo_completo.head()"
   ],
   "metadata": {
    "collapsed": false
   }
  },
  {
   "cell_type": "code",
   "execution_count": 45,
   "outputs": [],
   "source": [
    "df_dados_voo_completo.drop(['Unnamed: 0', 'Unnamed: 0_x', 'Unnamed: 0_y', 'Unnamed: 3'], axis=1, inplace=True)"
   ],
   "metadata": {
    "collapsed": false
   }
  },
  {
   "cell_type": "code",
   "execution_count": 46,
   "outputs": [
    {
     "data": {
      "text/plain": "Index(['?SG_ICAO_EMPRESA_AEREA', 'NR_VOO', 'CODIGO_DI', 'CODIGO_TIPO_LINHA',\n       'SIGLA_ICAO_AEROPORTO_ORIGEM', 'SIGLA_ICAO_AEROPORTO_DESTINO',\n       'PARTIDA_PREVISTA', 'PARTIDA_REAL', 'CHEGADA_PREVISTA', 'CHEGADA_REAL',\n       'SITUACAO_VOO', 'SIGLA_OACI_AEROPORTO_DESTINO',\n       'DESCRICAO_AEROPORTO_DESTINO', 'CIDADE_AEROPORTO_DESTINO',\n       'UF_AEROPORTO_DESTINO', 'PAIS_AEROPORTO_DESTINO',\n       'CONTINENTE_AEROPORTO_DESTINO', 'SIGLA_OACI_AEROPORTO_ORIGEM',\n       'DESCRICAO_AEROPORTO_ORIGEM', 'CIDADE_AEROPORTO_ORIGEM',\n       'UF_AEROPORTO_ORIGEM', 'PAIS_AEROPORTO_DORIGEM',\n       'CONTINENTE_AEROPORTO_ORIGEM', 'SIGLA_OACI_EMPRESAS', 'NM_EMPRESAS',\n       'NACIONAL_OU_ESTRANGEIRA'],\n      dtype='object')"
     },
     "execution_count": 46,
     "metadata": {},
     "output_type": "execute_result"
    }
   ],
   "source": [
    "df_dados_voo_completo.columns"
   ],
   "metadata": {
    "collapsed": false
   }
  },
  {
   "cell_type": "code",
   "execution_count": 47,
   "outputs": [
    {
     "data": {
      "text/plain": "  ?SG_ICAO_EMPRESA_AEREA NR_VOO CODIGO_DI CODIGO_TIPO_LINHA  \\\n0                    AAL    262         0                 I   \n1                    AAL    263         0                 I   \n2                    AAL    789         2                 X   \n3                    AAL    790         2                 X   \n4                    AAL    904         0                 I   \n\n  SIGLA_ICAO_AEROPORTO_ORIGEM SIGLA_ICAO_AEROPORTO_DESTINO  PARTIDA_PREVISTA  \\\n0                        SBGL                         KMIA  2022-03-01 22:30   \n1                        KMIA                         SBGL  2022-03-01 00:45   \n2                        KMIA                         SBGR               NaN   \n3                        SBGR                         KMIA               NaN   \n4                        SBGL                         KMIA  2022-03-01 00:05   \n\n       PARTIDA_REAL  CHEGADA_PREVISTA      CHEGADA_REAL  ...  \\\n0  2022-03-01 22:35  2022-03-02 07:10  2022-03-02 07:11  ...   \n1  2022-03-01 01:58  2022-03-01 09:05  2022-03-01 11:07  ...   \n2  2022-03-01 02:54               NaN  2022-03-01 11:02  ...   \n3  2022-03-01 11:17               NaN  2022-03-01 19:13  ...   \n4  2022-03-01 00:00  2022-03-01 08:40  2022-03-01 08:03  ...   \n\n  CONTINENTE_AEROPORTO_DESTINO SIGLA_OACI_AEROPORTO_ORIGEM  \\\n0             AMERICA DO NORTE                        SBGL   \n1               AMERICA DO SUL                        KMIA   \n2               AMERICA DO SUL                        KMIA   \n3             AMERICA DO NORTE                        SBGR   \n4             AMERICA DO NORTE                        SBGL   \n\n                          DESCRICAO_AEROPORTO_ORIGEM CIDADE_AEROPORTO_ORIGEM  \\\n0  AEROPORTO INTERNACIONAL DO RIO DE JANEIRO/GALE...          RIO DE JANEIRO   \n1                        MIAMI INTERNATIONAL AIRPORT                   MIAMI   \n2                        MIAMI INTERNATIONAL AIRPORT                   MIAMI   \n3        GUARULHOS - GOVERNADOR ANDRÉ FRANCO MONTORO               GUARULHOS   \n4  AEROPORTO INTERNACIONAL DO RIO DE JANEIRO/GALE...          RIO DE JANEIRO   \n\n  UF_AEROPORTO_ORIGEM     PAIS_AEROPORTO_DORIGEM CONTINENTE_AEROPORTO_ORIGEM  \\\n0                  RJ                     BRASIL              AMERICA DO SUL   \n1                 NaN  ESTADOS UNIDOS DA AMERICA            AMERICA DO NORTE   \n2                 NaN  ESTADOS UNIDOS DA AMERICA            AMERICA DO NORTE   \n3                  SP                     BRASIL              AMERICA DO SUL   \n4                  RJ                     BRASIL              AMERICA DO SUL   \n\n  SIGLA_OACI_EMPRESAS            NM_EMPRESAS NACIONAL_OU_ESTRANGEIRA  \n0                 AAL  AMERICAN AIRLINES INC             ESTRANGEIRA  \n1                 AAL  AMERICAN AIRLINES INC             ESTRANGEIRA  \n2                 AAL  AMERICAN AIRLINES INC             ESTRANGEIRA  \n3                 AAL  AMERICAN AIRLINES INC             ESTRANGEIRA  \n4                 AAL  AMERICAN AIRLINES INC             ESTRANGEIRA  \n\n[5 rows x 26 columns]",
      "text/html": "<div>\n<style scoped>\n    .dataframe tbody tr th:only-of-type {\n        vertical-align: middle;\n    }\n\n    .dataframe tbody tr th {\n        vertical-align: top;\n    }\n\n    .dataframe thead th {\n        text-align: right;\n    }\n</style>\n<table border=\"1\" class=\"dataframe\">\n  <thead>\n    <tr style=\"text-align: right;\">\n      <th></th>\n      <th>?SG_ICAO_EMPRESA_AEREA</th>\n      <th>NR_VOO</th>\n      <th>CODIGO_DI</th>\n      <th>CODIGO_TIPO_LINHA</th>\n      <th>SIGLA_ICAO_AEROPORTO_ORIGEM</th>\n      <th>SIGLA_ICAO_AEROPORTO_DESTINO</th>\n      <th>PARTIDA_PREVISTA</th>\n      <th>PARTIDA_REAL</th>\n      <th>CHEGADA_PREVISTA</th>\n      <th>CHEGADA_REAL</th>\n      <th>...</th>\n      <th>CONTINENTE_AEROPORTO_DESTINO</th>\n      <th>SIGLA_OACI_AEROPORTO_ORIGEM</th>\n      <th>DESCRICAO_AEROPORTO_ORIGEM</th>\n      <th>CIDADE_AEROPORTO_ORIGEM</th>\n      <th>UF_AEROPORTO_ORIGEM</th>\n      <th>PAIS_AEROPORTO_DORIGEM</th>\n      <th>CONTINENTE_AEROPORTO_ORIGEM</th>\n      <th>SIGLA_OACI_EMPRESAS</th>\n      <th>NM_EMPRESAS</th>\n      <th>NACIONAL_OU_ESTRANGEIRA</th>\n    </tr>\n  </thead>\n  <tbody>\n    <tr>\n      <th>0</th>\n      <td>AAL</td>\n      <td>262</td>\n      <td>0</td>\n      <td>I</td>\n      <td>SBGL</td>\n      <td>KMIA</td>\n      <td>2022-03-01 22:30</td>\n      <td>2022-03-01 22:35</td>\n      <td>2022-03-02 07:10</td>\n      <td>2022-03-02 07:11</td>\n      <td>...</td>\n      <td>AMERICA DO NORTE</td>\n      <td>SBGL</td>\n      <td>AEROPORTO INTERNACIONAL DO RIO DE JANEIRO/GALE...</td>\n      <td>RIO DE JANEIRO</td>\n      <td>RJ</td>\n      <td>BRASIL</td>\n      <td>AMERICA DO SUL</td>\n      <td>AAL</td>\n      <td>AMERICAN AIRLINES INC</td>\n      <td>ESTRANGEIRA</td>\n    </tr>\n    <tr>\n      <th>1</th>\n      <td>AAL</td>\n      <td>263</td>\n      <td>0</td>\n      <td>I</td>\n      <td>KMIA</td>\n      <td>SBGL</td>\n      <td>2022-03-01 00:45</td>\n      <td>2022-03-01 01:58</td>\n      <td>2022-03-01 09:05</td>\n      <td>2022-03-01 11:07</td>\n      <td>...</td>\n      <td>AMERICA DO SUL</td>\n      <td>KMIA</td>\n      <td>MIAMI INTERNATIONAL AIRPORT</td>\n      <td>MIAMI</td>\n      <td>NaN</td>\n      <td>ESTADOS UNIDOS DA AMERICA</td>\n      <td>AMERICA DO NORTE</td>\n      <td>AAL</td>\n      <td>AMERICAN AIRLINES INC</td>\n      <td>ESTRANGEIRA</td>\n    </tr>\n    <tr>\n      <th>2</th>\n      <td>AAL</td>\n      <td>789</td>\n      <td>2</td>\n      <td>X</td>\n      <td>KMIA</td>\n      <td>SBGR</td>\n      <td>NaN</td>\n      <td>2022-03-01 02:54</td>\n      <td>NaN</td>\n      <td>2022-03-01 11:02</td>\n      <td>...</td>\n      <td>AMERICA DO SUL</td>\n      <td>KMIA</td>\n      <td>MIAMI INTERNATIONAL AIRPORT</td>\n      <td>MIAMI</td>\n      <td>NaN</td>\n      <td>ESTADOS UNIDOS DA AMERICA</td>\n      <td>AMERICA DO NORTE</td>\n      <td>AAL</td>\n      <td>AMERICAN AIRLINES INC</td>\n      <td>ESTRANGEIRA</td>\n    </tr>\n    <tr>\n      <th>3</th>\n      <td>AAL</td>\n      <td>790</td>\n      <td>2</td>\n      <td>X</td>\n      <td>SBGR</td>\n      <td>KMIA</td>\n      <td>NaN</td>\n      <td>2022-03-01 11:17</td>\n      <td>NaN</td>\n      <td>2022-03-01 19:13</td>\n      <td>...</td>\n      <td>AMERICA DO NORTE</td>\n      <td>SBGR</td>\n      <td>GUARULHOS - GOVERNADOR ANDRÉ FRANCO MONTORO</td>\n      <td>GUARULHOS</td>\n      <td>SP</td>\n      <td>BRASIL</td>\n      <td>AMERICA DO SUL</td>\n      <td>AAL</td>\n      <td>AMERICAN AIRLINES INC</td>\n      <td>ESTRANGEIRA</td>\n    </tr>\n    <tr>\n      <th>4</th>\n      <td>AAL</td>\n      <td>904</td>\n      <td>0</td>\n      <td>I</td>\n      <td>SBGL</td>\n      <td>KMIA</td>\n      <td>2022-03-01 00:05</td>\n      <td>2022-03-01 00:00</td>\n      <td>2022-03-01 08:40</td>\n      <td>2022-03-01 08:03</td>\n      <td>...</td>\n      <td>AMERICA DO NORTE</td>\n      <td>SBGL</td>\n      <td>AEROPORTO INTERNACIONAL DO RIO DE JANEIRO/GALE...</td>\n      <td>RIO DE JANEIRO</td>\n      <td>RJ</td>\n      <td>BRASIL</td>\n      <td>AMERICA DO SUL</td>\n      <td>AAL</td>\n      <td>AMERICAN AIRLINES INC</td>\n      <td>ESTRANGEIRA</td>\n    </tr>\n  </tbody>\n</table>\n<p>5 rows × 26 columns</p>\n</div>"
     },
     "execution_count": 47,
     "metadata": {},
     "output_type": "execute_result"
    }
   ],
   "source": [
    "df_dados_voo_completo.head()"
   ],
   "metadata": {
    "collapsed": false
   }
  },
  {
   "cell_type": "code",
   "execution_count": 48,
   "outputs": [
    {
     "name": "stdout",
     "output_type": "stream",
     "text": [
      "<class 'pandas.core.frame.DataFrame'>\n",
      "Int64Index: 789907 entries, 0 to 789906\n",
      "Data columns (total 26 columns):\n",
      " #   Column                        Non-Null Count   Dtype \n",
      "---  ------                        --------------   ----- \n",
      " 0   ?SG_ICAO_EMPRESA_AEREA        789907 non-null  object\n",
      " 1   NR_VOO                        789907 non-null  object\n",
      " 2   CODIGO_DI                     789907 non-null  object\n",
      " 3   CODIGO_TIPO_LINHA             789904 non-null  object\n",
      " 4   SIGLA_ICAO_AEROPORTO_ORIGEM   789907 non-null  object\n",
      " 5   SIGLA_ICAO_AEROPORTO_DESTINO  789907 non-null  object\n",
      " 6   PARTIDA_PREVISTA              771720 non-null  object\n",
      " 7   PARTIDA_REAL                  753685 non-null  object\n",
      " 8   CHEGADA_PREVISTA              771720 non-null  object\n",
      " 9   CHEGADA_REAL                  753665 non-null  object\n",
      " 10  SITUACAO_VOO                  789907 non-null  object\n",
      " 11  SIGLA_OACI_AEROPORTO_DESTINO  780971 non-null  object\n",
      " 12  DESCRICAO_AEROPORTO_DESTINO   780971 non-null  object\n",
      " 13  CIDADE_AEROPORTO_DESTINO      779435 non-null  object\n",
      " 14  UF_AEROPORTO_DESTINO          727648 non-null  object\n",
      " 15  PAIS_AEROPORTO_DESTINO        780971 non-null  object\n",
      " 16  CONTINENTE_AEROPORTO_DESTINO  780971 non-null  object\n",
      " 17  SIGLA_OACI_AEROPORTO_ORIGEM   781046 non-null  object\n",
      " 18  DESCRICAO_AEROPORTO_ORIGEM    781046 non-null  object\n",
      " 19  CIDADE_AEROPORTO_ORIGEM       779650 non-null  object\n",
      " 20  UF_AEROPORTO_ORIGEM           728009 non-null  object\n",
      " 21  PAIS_AEROPORTO_DORIGEM        781046 non-null  object\n",
      " 22  CONTINENTE_AEROPORTO_ORIGEM   781046 non-null  object\n",
      " 23  SIGLA_OACI_EMPRESAS           754369 non-null  object\n",
      " 24  NM_EMPRESAS                   754369 non-null  object\n",
      " 25  NACIONAL_OU_ESTRANGEIRA       752999 non-null  object\n",
      "dtypes: object(26)\n",
      "memory usage: 162.7+ MB\n"
     ]
    }
   ],
   "source": [
    "df_dados_voo_completo.info()"
   ],
   "metadata": {
    "collapsed": false
   }
  },
  {
   "cell_type": "code",
   "execution_count": 59,
   "outputs": [],
   "source": [
    "df_dados_voo_completo['?SG_ICAO_EMPRESA_AEREA'] = df_dados_voo_completo['?SG_ICAO_EMPRESA_AEREA'].astype('string')\n",
    "df_dados_voo_completo['NR_VOO'] = df_dados_voo_completo['NR_VOO'].astype('string')\n",
    "df_dados_voo_completo['CODIGO_DI'] = df_dados_voo_completo['CODIGO_DI'].astype('string')\n",
    "df_dados_voo_completo['CODIGO_TIPO_LINHA'] = df_dados_voo_completo['CODIGO_TIPO_LINHA'].astype('string')\n",
    "df_dados_voo_completo['SIGLA_ICAO_AEROPORTO_ORIGEM'] = df_dados_voo_completo['SIGLA_ICAO_AEROPORTO_ORIGEM'].astype('string')\n",
    "df_dados_voo_completo['SIGLA_ICAO_AEROPORTO_DESTINO'] = df_dados_voo_completo['SIGLA_ICAO_AEROPORTO_DESTINO'].astype('string')\n",
    "df_dados_voo_completo['PARTIDA_PREVISTA'] = pd.to_datetime(df_dados_voo_completo['PARTIDA_PREVISTA'], format='%Y-%m-%d %H:%M', errors='coerce')\n",
    "df_dados_voo_completo['PARTIDA_REAL'] = pd.to_datetime(df_dados_voo_completo['PARTIDA_REAL'], format='%Y-%m-%d %H:%M', errors='coerce')\n",
    "df_dados_voo_completo['CHEGADA_PREVISTA'] = pd.to_datetime(df_dados_voo_completo['CHEGADA_PREVISTA'], format='%Y-%m-%d %H:%M', errors='coerce')\n",
    "df_dados_voo_completo['CHEGADA_REAL'] = pd.to_datetime(df_dados_voo_completo['CHEGADA_REAL'], format='%Y-%m-%d %H:%M', errors='coerce')\n",
    "df_dados_voo_completo['SITUACAO_VOO'] = df_dados_voo_completo['SITUACAO_VOO'].astype('string')\n",
    "df_dados_voo_completo['DESCRICAO_AEROPORTO_DESTINO'] = df_dados_voo_completo['DESCRICAO_AEROPORTO_DESTINO'].astype('string')\n",
    "df_dados_voo_completo['CIDADE_AEROPORTO_DESTINO'] = df_dados_voo_completo['CIDADE_AEROPORTO_DESTINO'].astype('string')\n",
    "df_dados_voo_completo['UF_AEROPORTO_DESTINO'] = df_dados_voo_completo['UF_AEROPORTO_DESTINO'].astype('string')\n",
    "df_dados_voo_completo['UF_AEROPORTO_ORIGEM'] = df_dados_voo_completo['UF_AEROPORTO_ORIGEM'].astype('string')\n",
    "df_dados_voo_completo['PAIS_AEROPORTO_DESTINO'] = df_dados_voo_completo['PAIS_AEROPORTO_DESTINO'].astype('string')\n",
    "df_dados_voo_completo['CONTINENTE_AEROPORTO_DESTINO'] = df_dados_voo_completo['CONTINENTE_AEROPORTO_DESTINO'].astype('string')\n",
    "df_dados_voo_completo['DESCRICAO_AEROPORTO_ORIGEM'] = df_dados_voo_completo['DESCRICAO_AEROPORTO_ORIGEM'].astype('string')\n",
    "df_dados_voo_completo['CIDADE_AEROPORTO_ORIGEM'] = df_dados_voo_completo['CIDADE_AEROPORTO_ORIGEM'].astype('string')\n",
    "df_dados_voo_completo['CIDADE_AEROPORTO_DESTINO'] = df_dados_voo_completo['CIDADE_AEROPORTO_DESTINO'].astype('string')\n",
    "df_dados_voo_completo['PAIS_AEROPORTO_DORIGEM'] = df_dados_voo_completo['PAIS_AEROPORTO_DORIGEM'].astype('string')\n",
    "df_dados_voo_completo['PAIS_AEROPORTO_DORIGEM'] = df_dados_voo_completo['PAIS_AEROPORTO_DORIGEM'].astype('string')\n",
    "df_dados_voo_completo['CONTINENTE_AEROPORTO_ORIGEM'] = df_dados_voo_completo['CONTINENTE_AEROPORTO_ORIGEM'].astype('string')\n",
    "df_dados_voo_completo['NM_EMPRESAS'] = df_dados_voo_completo['NM_EMPRESAS'].astype('string')\n",
    "df_dados_voo_completo['NACIONAL_OU_ESTRANGEIRA'] = df_dados_voo_completo['NACIONAL_OU_ESTRANGEIRA'].astype('string')\n",
    "df_dados_voo_completo['SIGLA_OACI_AEROPORTO_DESTINO'] = df_dados_voo_completo['SIGLA_OACI_AEROPORTO_DESTINO'].astype('string')\n",
    "df_dados_voo_completo['SIGLA_OACI_AEROPORTO_ORIGEM'] = df_dados_voo_completo['SIGLA_OACI_AEROPORTO_ORIGEM'].astype('string')\n",
    "df_dados_voo_completo['SIGLA_OACI_EMPRESAS'] = df_dados_voo_completo['SIGLA_OACI_EMPRESAS'].astype('string')"
   ],
   "metadata": {
    "collapsed": false
   }
  },
  {
   "cell_type": "code",
   "execution_count": 57,
   "outputs": [
    {
     "data": {
      "text/plain": "  ?SG_ICAO_EMPRESA_AEREA NR_VOO CODIGO_DI CODIGO_TIPO_LINHA  \\\n0                    AAL    262         0                 I   \n1                    AAL    263         0                 I   \n2                    AAL    789         2                 X   \n3                    AAL    790         2                 X   \n4                    AAL    904         0                 I   \n\n  SIGLA_ICAO_AEROPORTO_ORIGEM SIGLA_ICAO_AEROPORTO_DESTINO  \\\n0                        SBGL                         KMIA   \n1                        KMIA                         SBGL   \n2                        KMIA                         SBGR   \n3                        SBGR                         KMIA   \n4                        SBGL                         KMIA   \n\n     PARTIDA_PREVISTA        PARTIDA_REAL    CHEGADA_PREVISTA  \\\n0 2022-03-01 22:30:00 2022-03-01 22:35:00 2022-03-02 07:10:00   \n1 2022-03-01 00:45:00 2022-03-01 01:58:00 2022-03-01 09:05:00   \n2                 NaT 2022-03-01 02:54:00                 NaT   \n3                 NaT 2022-03-01 11:17:00                 NaT   \n4 2022-03-01 00:05:00 2022-03-01 00:00:00 2022-03-01 08:40:00   \n\n         CHEGADA_REAL  ... CONTINENTE_AEROPORTO_DESTINO  \\\n0 2022-03-02 07:11:00  ...             AMERICA DO NORTE   \n1 2022-03-01 11:07:00  ...               AMERICA DO SUL   \n2 2022-03-01 11:02:00  ...               AMERICA DO SUL   \n3 2022-03-01 19:13:00  ...             AMERICA DO NORTE   \n4 2022-03-01 08:03:00  ...             AMERICA DO NORTE   \n\n  SIGLA_OACI_AEROPORTO_ORIGEM  \\\n0                        SBGL   \n1                        KMIA   \n2                        KMIA   \n3                        SBGR   \n4                        SBGL   \n\n                          DESCRICAO_AEROPORTO_ORIGEM CIDADE_AEROPORTO_ORIGEM  \\\n0  AEROPORTO INTERNACIONAL DO RIO DE JANEIRO/GALE...          RIO DE JANEIRO   \n1                        MIAMI INTERNATIONAL AIRPORT                   MIAMI   \n2                        MIAMI INTERNATIONAL AIRPORT                   MIAMI   \n3        GUARULHOS - GOVERNADOR ANDRÉ FRANCO MONTORO               GUARULHOS   \n4  AEROPORTO INTERNACIONAL DO RIO DE JANEIRO/GALE...          RIO DE JANEIRO   \n\n  UF_AEROPORTO_ORIGEM     PAIS_AEROPORTO_DORIGEM CONTINENTE_AEROPORTO_ORIGEM  \\\n0                  RJ                     BRASIL              AMERICA DO SUL   \n1                <NA>  ESTADOS UNIDOS DA AMERICA            AMERICA DO NORTE   \n2                <NA>  ESTADOS UNIDOS DA AMERICA            AMERICA DO NORTE   \n3                  SP                     BRASIL              AMERICA DO SUL   \n4                  RJ                     BRASIL              AMERICA DO SUL   \n\n  SIGLA_OACI_EMPRESAS            NM_EMPRESAS NACIONAL_OU_ESTRANGEIRA  \n0                 AAL  AMERICAN AIRLINES INC             ESTRANGEIRA  \n1                 AAL  AMERICAN AIRLINES INC             ESTRANGEIRA  \n2                 AAL  AMERICAN AIRLINES INC             ESTRANGEIRA  \n3                 AAL  AMERICAN AIRLINES INC             ESTRANGEIRA  \n4                 AAL  AMERICAN AIRLINES INC             ESTRANGEIRA  \n\n[5 rows x 26 columns]",
      "text/html": "<div>\n<style scoped>\n    .dataframe tbody tr th:only-of-type {\n        vertical-align: middle;\n    }\n\n    .dataframe tbody tr th {\n        vertical-align: top;\n    }\n\n    .dataframe thead th {\n        text-align: right;\n    }\n</style>\n<table border=\"1\" class=\"dataframe\">\n  <thead>\n    <tr style=\"text-align: right;\">\n      <th></th>\n      <th>?SG_ICAO_EMPRESA_AEREA</th>\n      <th>NR_VOO</th>\n      <th>CODIGO_DI</th>\n      <th>CODIGO_TIPO_LINHA</th>\n      <th>SIGLA_ICAO_AEROPORTO_ORIGEM</th>\n      <th>SIGLA_ICAO_AEROPORTO_DESTINO</th>\n      <th>PARTIDA_PREVISTA</th>\n      <th>PARTIDA_REAL</th>\n      <th>CHEGADA_PREVISTA</th>\n      <th>CHEGADA_REAL</th>\n      <th>...</th>\n      <th>CONTINENTE_AEROPORTO_DESTINO</th>\n      <th>SIGLA_OACI_AEROPORTO_ORIGEM</th>\n      <th>DESCRICAO_AEROPORTO_ORIGEM</th>\n      <th>CIDADE_AEROPORTO_ORIGEM</th>\n      <th>UF_AEROPORTO_ORIGEM</th>\n      <th>PAIS_AEROPORTO_DORIGEM</th>\n      <th>CONTINENTE_AEROPORTO_ORIGEM</th>\n      <th>SIGLA_OACI_EMPRESAS</th>\n      <th>NM_EMPRESAS</th>\n      <th>NACIONAL_OU_ESTRANGEIRA</th>\n    </tr>\n  </thead>\n  <tbody>\n    <tr>\n      <th>0</th>\n      <td>AAL</td>\n      <td>262</td>\n      <td>0</td>\n      <td>I</td>\n      <td>SBGL</td>\n      <td>KMIA</td>\n      <td>2022-03-01 22:30:00</td>\n      <td>2022-03-01 22:35:00</td>\n      <td>2022-03-02 07:10:00</td>\n      <td>2022-03-02 07:11:00</td>\n      <td>...</td>\n      <td>AMERICA DO NORTE</td>\n      <td>SBGL</td>\n      <td>AEROPORTO INTERNACIONAL DO RIO DE JANEIRO/GALE...</td>\n      <td>RIO DE JANEIRO</td>\n      <td>RJ</td>\n      <td>BRASIL</td>\n      <td>AMERICA DO SUL</td>\n      <td>AAL</td>\n      <td>AMERICAN AIRLINES INC</td>\n      <td>ESTRANGEIRA</td>\n    </tr>\n    <tr>\n      <th>1</th>\n      <td>AAL</td>\n      <td>263</td>\n      <td>0</td>\n      <td>I</td>\n      <td>KMIA</td>\n      <td>SBGL</td>\n      <td>2022-03-01 00:45:00</td>\n      <td>2022-03-01 01:58:00</td>\n      <td>2022-03-01 09:05:00</td>\n      <td>2022-03-01 11:07:00</td>\n      <td>...</td>\n      <td>AMERICA DO SUL</td>\n      <td>KMIA</td>\n      <td>MIAMI INTERNATIONAL AIRPORT</td>\n      <td>MIAMI</td>\n      <td>&lt;NA&gt;</td>\n      <td>ESTADOS UNIDOS DA AMERICA</td>\n      <td>AMERICA DO NORTE</td>\n      <td>AAL</td>\n      <td>AMERICAN AIRLINES INC</td>\n      <td>ESTRANGEIRA</td>\n    </tr>\n    <tr>\n      <th>2</th>\n      <td>AAL</td>\n      <td>789</td>\n      <td>2</td>\n      <td>X</td>\n      <td>KMIA</td>\n      <td>SBGR</td>\n      <td>NaT</td>\n      <td>2022-03-01 02:54:00</td>\n      <td>NaT</td>\n      <td>2022-03-01 11:02:00</td>\n      <td>...</td>\n      <td>AMERICA DO SUL</td>\n      <td>KMIA</td>\n      <td>MIAMI INTERNATIONAL AIRPORT</td>\n      <td>MIAMI</td>\n      <td>&lt;NA&gt;</td>\n      <td>ESTADOS UNIDOS DA AMERICA</td>\n      <td>AMERICA DO NORTE</td>\n      <td>AAL</td>\n      <td>AMERICAN AIRLINES INC</td>\n      <td>ESTRANGEIRA</td>\n    </tr>\n    <tr>\n      <th>3</th>\n      <td>AAL</td>\n      <td>790</td>\n      <td>2</td>\n      <td>X</td>\n      <td>SBGR</td>\n      <td>KMIA</td>\n      <td>NaT</td>\n      <td>2022-03-01 11:17:00</td>\n      <td>NaT</td>\n      <td>2022-03-01 19:13:00</td>\n      <td>...</td>\n      <td>AMERICA DO NORTE</td>\n      <td>SBGR</td>\n      <td>GUARULHOS - GOVERNADOR ANDRÉ FRANCO MONTORO</td>\n      <td>GUARULHOS</td>\n      <td>SP</td>\n      <td>BRASIL</td>\n      <td>AMERICA DO SUL</td>\n      <td>AAL</td>\n      <td>AMERICAN AIRLINES INC</td>\n      <td>ESTRANGEIRA</td>\n    </tr>\n    <tr>\n      <th>4</th>\n      <td>AAL</td>\n      <td>904</td>\n      <td>0</td>\n      <td>I</td>\n      <td>SBGL</td>\n      <td>KMIA</td>\n      <td>2022-03-01 00:05:00</td>\n      <td>2022-03-01 00:00:00</td>\n      <td>2022-03-01 08:40:00</td>\n      <td>2022-03-01 08:03:00</td>\n      <td>...</td>\n      <td>AMERICA DO NORTE</td>\n      <td>SBGL</td>\n      <td>AEROPORTO INTERNACIONAL DO RIO DE JANEIRO/GALE...</td>\n      <td>RIO DE JANEIRO</td>\n      <td>RJ</td>\n      <td>BRASIL</td>\n      <td>AMERICA DO SUL</td>\n      <td>AAL</td>\n      <td>AMERICAN AIRLINES INC</td>\n      <td>ESTRANGEIRA</td>\n    </tr>\n  </tbody>\n</table>\n<p>5 rows × 26 columns</p>\n</div>"
     },
     "execution_count": 57,
     "metadata": {},
     "output_type": "execute_result"
    }
   ],
   "source": [
    "df_dados_voo_completo.head()"
   ],
   "metadata": {
    "collapsed": false
   }
  },
  {
   "cell_type": "code",
   "execution_count": 60,
   "outputs": [
    {
     "name": "stdout",
     "output_type": "stream",
     "text": [
      "<class 'pandas.core.frame.DataFrame'>\n",
      "Int64Index: 789907 entries, 0 to 789906\n",
      "Data columns (total 26 columns):\n",
      " #   Column                        Non-Null Count   Dtype         \n",
      "---  ------                        --------------   -----         \n",
      " 0   ?SG_ICAO_EMPRESA_AEREA        789907 non-null  string        \n",
      " 1   NR_VOO                        789907 non-null  string        \n",
      " 2   CODIGO_DI                     789907 non-null  string        \n",
      " 3   CODIGO_TIPO_LINHA             789904 non-null  string        \n",
      " 4   SIGLA_ICAO_AEROPORTO_ORIGEM   789907 non-null  string        \n",
      " 5   SIGLA_ICAO_AEROPORTO_DESTINO  789907 non-null  string        \n",
      " 6   PARTIDA_PREVISTA              771720 non-null  datetime64[ns]\n",
      " 7   PARTIDA_REAL                  753684 non-null  datetime64[ns]\n",
      " 8   CHEGADA_PREVISTA              771720 non-null  datetime64[ns]\n",
      " 9   CHEGADA_REAL                  753665 non-null  datetime64[ns]\n",
      " 10  SITUACAO_VOO                  789907 non-null  string        \n",
      " 11  SIGLA_OACI_AEROPORTO_DESTINO  780971 non-null  string        \n",
      " 12  DESCRICAO_AEROPORTO_DESTINO   780971 non-null  string        \n",
      " 13  CIDADE_AEROPORTO_DESTINO      779435 non-null  string        \n",
      " 14  UF_AEROPORTO_DESTINO          727648 non-null  string        \n",
      " 15  PAIS_AEROPORTO_DESTINO        780971 non-null  string        \n",
      " 16  CONTINENTE_AEROPORTO_DESTINO  780971 non-null  string        \n",
      " 17  SIGLA_OACI_AEROPORTO_ORIGEM   781046 non-null  string        \n",
      " 18  DESCRICAO_AEROPORTO_ORIGEM    781046 non-null  string        \n",
      " 19  CIDADE_AEROPORTO_ORIGEM       779650 non-null  string        \n",
      " 20  UF_AEROPORTO_ORIGEM           728009 non-null  string        \n",
      " 21  PAIS_AEROPORTO_DORIGEM        781046 non-null  string        \n",
      " 22  CONTINENTE_AEROPORTO_ORIGEM   781046 non-null  string        \n",
      " 23  SIGLA_OACI_EMPRESAS           754369 non-null  string        \n",
      " 24  NM_EMPRESAS                   754369 non-null  string        \n",
      " 25  NACIONAL_OU_ESTRANGEIRA       752999 non-null  string        \n",
      "dtypes: datetime64[ns](4), string(22)\n",
      "memory usage: 162.7 MB\n"
     ]
    }
   ],
   "source": [
    "df_dados_voo_completo.info()"
   ],
   "metadata": {
    "collapsed": false
   }
  },
  {
   "cell_type": "code",
   "execution_count": 61,
   "outputs": [
    {
     "data": {
      "text/plain": "(789907, 26)"
     },
     "execution_count": 61,
     "metadata": {},
     "output_type": "execute_result"
    }
   ],
   "source": [
    "df_dados_voo_completo.shape"
   ],
   "metadata": {
    "collapsed": false
   }
  },
  {
   "cell_type": "code",
   "execution_count": 74,
   "outputs": [],
   "source": [
    "df_dados_voo_completo.to_csv('data/processed/df_dados_voo_completo.csv', sep=';', encoding='utf-8')"
   ],
   "metadata": {
    "collapsed": false
   }
  }
 ],
 "metadata": {
  "kernelspec": {
   "display_name": "Python 3",
   "language": "python",
   "name": "python3"
  },
  "language_info": {
   "codemirror_mode": {
    "name": "ipython",
    "version": 2
   },
   "file_extension": ".py",
   "mimetype": "text/x-python",
   "name": "python",
   "nbconvert_exporter": "python",
   "pygments_lexer": "ipython2",
   "version": "2.7.6"
  }
 },
 "nbformat": 4,
 "nbformat_minor": 0
}
